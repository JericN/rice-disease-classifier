{
 "cells": [
  {
   "cell_type": "code",
   "execution_count": 1,
   "metadata": {},
   "outputs": [
    {
     "name": "stdout",
     "output_type": "stream",
     "text": [
      "\n",
      "\u001b[1m[\u001b[0m\u001b[34;49mnotice\u001b[0m\u001b[1;39;49m]\u001b[0m\u001b[39;49m A new release of pip is available: \u001b[0m\u001b[31;49m24.3.1\u001b[0m\u001b[39;49m -> \u001b[0m\u001b[32;49m25.0.1\u001b[0m\n",
      "\u001b[1m[\u001b[0m\u001b[34;49mnotice\u001b[0m\u001b[1;39;49m]\u001b[0m\u001b[39;49m To update, run: \u001b[0m\u001b[32;49mpip install --upgrade pip\u001b[0m\n",
      "\n",
      "\u001b[1m[\u001b[0m\u001b[34;49mnotice\u001b[0m\u001b[1;39;49m]\u001b[0m\u001b[39;49m A new release of pip is available: \u001b[0m\u001b[31;49m24.3.1\u001b[0m\u001b[39;49m -> \u001b[0m\u001b[32;49m25.0.1\u001b[0m\n",
      "\u001b[1m[\u001b[0m\u001b[34;49mnotice\u001b[0m\u001b[1;39;49m]\u001b[0m\u001b[39;49m To update, run: \u001b[0m\u001b[32;49mpip install --upgrade pip\u001b[0m\n"
     ]
    }
   ],
   "source": [
    "! pip install --quiet datasets\n",
    "! pip install --quiet tabulate"
   ]
  },
  {
   "cell_type": "code",
   "execution_count": 2,
   "metadata": {},
   "outputs": [
    {
     "name": "stderr",
     "output_type": "stream",
     "text": [
      "/Users/jericnarte/.pyenv/versions/thesis/lib/python3.12/site-packages/tqdm/auto.py:21: TqdmWarning: IProgress not found. Please update jupyter and ipywidgets. See https://ipywidgets.readthedocs.io/en/stable/user_install.html\n",
      "  from .autonotebook import tqdm as notebook_tqdm\n"
     ]
    }
   ],
   "source": [
    "import pandas as pd\n",
    "from tabulate import tabulate\n",
    "from collections import Counter\n",
    "from datasets import load_dataset\n",
    "\n",
    "# from huggingface_hub import notebook_login\n",
    "# notebook_login()\n",
    "\n",
    "# Set Pandas display options for better DataFrame output\n",
    "pd.set_option('display.max_columns', None)  # Display all columns\n",
    "pd.set_option('display.width', 1000)        # Set the width to a larger value\n",
    "pd.set_option('display.max_colwidth', 100)  # Set max column width to display wider content\n"
   ]
  },
  {
   "cell_type": "code",
   "execution_count": 3,
   "metadata": {},
   "outputs": [],
   "source": [
    "dataset_path = './dataset/rice_leaf_disease_split'\n",
    "hub_path = 'cvmil/rice-leaf-disease-augmented-v2'"
   ]
  },
  {
   "cell_type": "code",
   "execution_count": 4,
   "metadata": {},
   "outputs": [
    {
     "name": "stderr",
     "output_type": "stream",
     "text": [
      "Downloading data: 100%|██████████| 8000/8000 [00:00<00:00, 63732.33files/s]\n",
      "Downloading data: 100%|██████████| 336/336 [00:00<00:00, 195327.25files/s]\n",
      "Downloading data: 100%|██████████| 332/332 [00:00<00:00, 195632.05files/s]\n",
      "Generating train split: 8000 examples [00:00, 30941.09 examples/s]\n",
      "Generating validation split: 336 examples [00:00, 27496.12 examples/s]\n",
      "Generating test split: 332 examples [00:00, 22008.99 examples/s]\n"
     ]
    },
    {
     "name": "stdout",
     "output_type": "stream",
     "text": [
      "Dataset: DatasetDict({\n",
      "    train: Dataset({\n",
      "        features: ['image', 'label'],\n",
      "        num_rows: 8000\n",
      "    })\n",
      "    validation: Dataset({\n",
      "        features: ['image', 'label'],\n",
      "        num_rows: 336\n",
      "    })\n",
      "    test: Dataset({\n",
      "        features: ['image', 'label'],\n",
      "        num_rows: 332\n",
      "    })\n",
      "})\n"
     ]
    }
   ],
   "source": [
    "# Load the dataset\n",
    "dataset = load_dataset('imagefolder', data_dir=dataset_path)\n",
    "print(f\"Dataset: {dataset}\")"
   ]
  },
  {
   "cell_type": "code",
   "execution_count": 5,
   "metadata": {},
   "outputs": [
    {
     "name": "stdout",
     "output_type": "stream",
     "text": [
      "+------+------------------------+------------+--------------+--------+\n",
      "|   ID | Label                  |   Training |   Validation |   Test |\n",
      "+======+========================+============+==============+========+\n",
      "|    0 | Bacterial Leaf Blight  |       1000 |           36 |     36 |\n",
      "+------+------------------------+------------+--------------+--------+\n",
      "|    1 | Brown Spot             |       1000 |           53 |     52 |\n",
      "+------+------------------------+------------+--------------+--------+\n",
      "|    2 | Healthy Rice Leaf      |       1000 |           32 |     31 |\n",
      "+------+------------------------+------------+--------------+--------+\n",
      "|    3 | Leaf Blast             |       1000 |           60 |     60 |\n",
      "+------+------------------------+------------+--------------+--------+\n",
      "|    4 | Leaf scald             |       1000 |           36 |     36 |\n",
      "+------+------------------------+------------+--------------+--------+\n",
      "|    5 | Narrow Brown Leaf Spot |       1000 |           23 |     22 |\n",
      "+------+------------------------+------------+--------------+--------+\n",
      "|    6 | Rice Hispa             |       1000 |           41 |     41 |\n",
      "+------+------------------------+------------+--------------+--------+\n",
      "|    7 | Sheath Blight          |       1000 |           55 |     54 |\n",
      "+------+------------------------+------------+--------------+--------+\n"
     ]
    }
   ],
   "source": [
    "# Assuming label mapping and label names are available\n",
    "label_mapping = dataset['train'].features['label'].int2str\n",
    "labels = dataset['train'].features['label'].names\n",
    "\n",
    "# Count the number of samples per class in each split\n",
    "train_counts = Counter(dataset['train']['label'])\n",
    "validation_counts = Counter(dataset['validation']['label'])\n",
    "test_counts = Counter(dataset['test']['label'])\n",
    "\n",
    "# Create a DataFrame for the counts, ordered by label name\n",
    "data = {\n",
    "    'ID': list(range(len(labels))),\n",
    "    'Label': labels,\n",
    "    'Training': [train_counts[i] if i in train_counts else 0 for i in range(len(labels))],\n",
    "    'Validation': [validation_counts[i] if i in validation_counts else 0 for i in range(len(labels))],\n",
    "    'Test': [test_counts[i] if i in test_counts else 0 for i in range(len(labels))]\n",
    "}\n",
    "df = pd.DataFrame(data)\n",
    "\n",
    "# Print the DataFrame with borders using tabulate\n",
    "print(tabulate(df, headers='keys', tablefmt='grid', showindex=False))"
   ]
  },
  {
   "cell_type": "code",
   "execution_count": 6,
   "metadata": {},
   "outputs": [
    {
     "name": "stderr",
     "output_type": "stream",
     "text": [
      "Map: 100%|██████████| 2000/2000 [00:00<00:00, 2501.88 examples/s]s]\n",
      "Creating parquet from Arrow format: 100%|██████████| 20/20 [00:00<00:00, 90.96ba/s]\n",
      "Map: 100%|██████████| 2000/2000 [00:01<00:00, 1966.52 examples/s]44.84s/it]\n",
      "Creating parquet from Arrow format: 100%|██████████| 20/20 [00:00<00:00, 55.28ba/s]\n",
      "Map: 100%|██████████| 2000/2000 [00:00<00:00, 2143.02 examples/s]43.13s/it]\n",
      "Creating parquet from Arrow format: 100%|██████████| 20/20 [00:00<00:00, 106.63ba/s]\n",
      "Map: 100%|██████████| 2000/2000 [00:00<00:00, 2628.77 examples/s]36.82s/it]\n",
      "Creating parquet from Arrow format: 100%|██████████| 20/20 [00:00<00:00, 125.52ba/s]\n",
      "Uploading the dataset shards: 100%|██████████| 4/4 [02:25<00:00, 36.46s/it]\n",
      "Map: 100%|██████████| 336/336 [00:00<00:00, 2013.91 examples/s]t/s]\n",
      "Creating parquet from Arrow format: 100%|██████████| 4/4 [00:00<00:00, 126.08ba/s]\n",
      "Uploading the dataset shards: 100%|██████████| 1/1 [00:06<00:00,  6.71s/it]\n",
      "Map: 100%|██████████| 332/332 [00:00<00:00, 2148.80 examples/s]t/s]\n",
      "Creating parquet from Arrow format: 100%|██████████| 4/4 [00:00<00:00, 155.94ba/s]\n",
      "Uploading the dataset shards: 100%|██████████| 1/1 [00:07<00:00,  7.96s/it]\n"
     ]
    },
    {
     "data": {
      "text/plain": [
       "CommitInfo(commit_url='https://huggingface.co/datasets/cvmil/rice-leaf-disease-augmented-v2/commit/2da8d5ff8101d8cc4792f92b4609652c50e5b1f1', commit_message='Upload dataset', commit_description='', oid='2da8d5ff8101d8cc4792f92b4609652c50e5b1f1', pr_url=None, repo_url=RepoUrl('https://huggingface.co/datasets/cvmil/rice-leaf-disease-augmented-v2', endpoint='https://huggingface.co', repo_type='dataset', repo_id='cvmil/rice-leaf-disease-augmented-v2'), pr_revision=None, pr_num=None)"
      ]
     },
     "execution_count": 6,
     "metadata": {},
     "output_type": "execute_result"
    }
   ],
   "source": [
    "# upload dataset to huggingface\n",
    "dataset.push_to_hub(hub_path, private=True)"
   ]
  }
 ],
 "metadata": {
  "kernelspec": {
   "display_name": "thesis",
   "language": "python",
   "name": "python3"
  },
  "language_info": {
   "codemirror_mode": {
    "name": "ipython",
    "version": 3
   },
   "file_extension": ".py",
   "mimetype": "text/x-python",
   "name": "python",
   "nbconvert_exporter": "python",
   "pygments_lexer": "ipython3",
   "version": "3.12.8"
  }
 },
 "nbformat": 4,
 "nbformat_minor": 2
}
