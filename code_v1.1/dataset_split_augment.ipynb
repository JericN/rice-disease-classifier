{
 "cells": [
  {
   "cell_type": "code",
   "execution_count": null,
   "metadata": {},
   "outputs": [],
   "source": [
    "# ! pip install -q --upgrade pillow\n",
    "# ! pip install -q --upgrade tqdm\n",
    "# ! pip install -q --upgrade torch\n",
    "# ! pip install -q --upgrade torchvision\n",
    "# ! pip install -q --upgrade \"transformers[torch]\""
   ]
  },
  {
   "cell_type": "code",
   "execution_count": null,
   "metadata": {},
   "outputs": [],
   "source": [
    "import random\n",
    "from pathlib import Path\n",
    "from PIL import Image, UnidentifiedImageError\n",
    "import shutil\n",
    "from tqdm import tqdm, trange\n",
    "from torchvision import transforms\n",
    "import itertools"
   ]
  },
  {
   "cell_type": "code",
   "execution_count": null,
   "metadata": {},
   "outputs": [],
   "source": [
    "# Define paths\n",
    "train_dir = Path('dataset/rice_leaf_disease_raw')\n",
    "output_dir = Path('dataset/rice_leaf_disease_augmented')"
   ]
  },
  {
   "cell_type": "markdown",
   "metadata": {},
   "source": [
    "# Dataset Augmentation"
   ]
  },
  {
   "cell_type": "code",
   "execution_count": null,
   "metadata": {},
   "outputs": [],
   "source": [
    "def is_image_file(file_path):\n",
    "    try:\n",
    "        Image.open(file_path).verify()\n",
    "        return True\n",
    "    except (UnidentifiedImageError, OSError):\n",
    "        return False"
   ]
  },
  {
   "cell_type": "code",
   "execution_count": null,
   "metadata": {},
   "outputs": [],
   "source": [
    "def augment_image(image): \n",
    "    augmentation_pipeline = transforms.Compose([\n",
    "        # Geometric Transformations\n",
    "        transforms.RandomHorizontalFlip(p=0.5),\n",
    "        transforms.RandomVerticalFlip(p=0.5),\n",
    "        transforms.Pad(500, padding_mode=\"reflect\"),\n",
    "        transforms.RandomRotation(degrees=30),\n",
    "        transforms.CenterCrop(min(image.size)),\n",
    "        \n",
    "        # Photometric Transformations\n",
    "        transforms.ColorJitter(brightness=0.3, contrast=0.3, saturation=0.2, hue=0.05),\n",
    "        \n",
    "        # Noise-based Transformations\n",
    "        transforms.RandomApply([transforms.GaussianBlur(kernel_size=5)], p=0.5),\n",
    "    ])\n",
    "    return augmentation_pipeline(image)"
   ]
  },
  {
   "cell_type": "code",
   "execution_count": null,
   "metadata": {},
   "outputs": [],
   "source": [
    "def copy_data_directory(src_dir, dest_dir):\n",
    "    description = \"Copying and Renaming Original Images\"\n",
    "    directories = [d for d in src_dir.iterdir() if d.is_dir()]\n",
    "\n",
    "    for category in tqdm(directories, desc=description):\n",
    "        dest_category_dir = dest_dir / category.name.title()\n",
    "        dest_category_dir.mkdir(parents=True, exist_ok=True)\n",
    "\n",
    "        for idx, image in enumerate(category.glob('*')):\n",
    "            if is_image_file(image):\n",
    "                img = Image.open(image).convert(\"RGB\")\n",
    "                img = transforms.CenterCrop(min(img.size))(img)\n",
    "                img.save(dest_category_dir / f\"{category.name.lower().replace(' ', '_')}_{idx}.jpg\")"
   ]
  },
  {
   "cell_type": "code",
   "execution_count": null,
   "metadata": {},
   "outputs": [],
   "source": [
    "def split_dataset(src_dir, dest_dir, train_ratio=0.6, test_ratio=0.2, val_ratio=0.2):\n",
    "    assert train_ratio + test_ratio + val_ratio == 1, \"Ratios must sum to 1.\"\n",
    "\n",
    "    src_dir = Path(src_dir)\n",
    "    dest_dir = Path(dest_dir)\n",
    "\n",
    "    train_dir = dest_dir / \"train\"\n",
    "    test_dir = dest_dir / \"test\"\n",
    "    val_dir = dest_dir / \"validation\"\n",
    "\n",
    "    # Create destination folders\n",
    "    for directory in [train_dir, test_dir, val_dir]:\n",
    "        directory.mkdir(parents=True, exist_ok=True)\n",
    "\n",
    "    for category in src_dir.iterdir():\n",
    "        if category.is_dir():\n",
    "            images = list(category.glob(\"*\"))\n",
    "            images = [img for img in images if is_image_file(img)]\n",
    "            random.shuffle(images)\n",
    "\n",
    "            train_split = int(len(images) * train_ratio)\n",
    "            test_split = int(len(images) * (train_ratio + test_ratio))\n",
    "\n",
    "            train_images = images[:train_split]\n",
    "            test_images = images[train_split:test_split]\n",
    "            val_images = images[test_split:]\n",
    "\n",
    "            # Copy images to respective folders\n",
    "            for img_set, dest in zip([train_images, test_images, val_images], [train_dir, test_dir, val_dir]):\n",
    "                category_dest = dest / category.name\n",
    "                category_dest.mkdir(parents=True, exist_ok=True)\n",
    "\n",
    "                for idx, img in enumerate(img_set):\n",
    "                    img = Image.open(img).convert(\"RGB\")\n",
    "                    img = transforms.CenterCrop(min(img.size))(img)\n",
    "                    img.save(category_dest / f\"{category.name.lower().replace(' ', '_')}_{idx}.jpg\")"
   ]
  },
  {
   "cell_type": "code",
   "execution_count": null,
   "metadata": {},
   "outputs": [],
   "source": [
    "def augment_images_in_dir(dir_path, target_count):\n",
    "    description = \"Augmenting Classes\"\n",
    "    directories = list(dir_path.iterdir())\n",
    "    for category in directories:\n",
    "        images = list(category.glob('*'))\n",
    "        itr = itertools.cycle(images)\n",
    "\n",
    "        desc = f\"Augmenting {category.name}\"\n",
    "        total = target_count - len(images)\n",
    "        aug_count = {img_file: 0 for img_file in images}\n",
    "        for i in trange(total, desc=desc):\n",
    "            img_file = next(itr)\n",
    "            img = Image.open(img_file).convert(\"RGB\")\n",
    "            augmented_img = augment_image(img)\n",
    "\n",
    "            aug_count[img_file] += 1\n",
    "            new_filename = f\"{img_file.stem}_aug_{aug_count[img_file]}.jpg\"\n",
    "            augmented_img.save(category / new_filename)"
   ]
  },
  {
   "cell_type": "code",
   "execution_count": null,
   "metadata": {},
   "outputs": [],
   "source": [
    "# Remove existing output directory if present\n",
    "if output_dir.exists():\n",
    "    shutil.rmtree(output_dir)\n",
    "\n",
    "# Copy original images\n",
    "split_dataset(train_dir, output_dir)\n",
    "\n",
    "# Augment images to reach a target count per category\n",
    "augment_images_in_dir(f\"{output_dir}/train\", target_count=500)\n",
    "\n",
    "print(\"Dataset augmentation completed and saved in the output directory!\")"
   ]
  }
 ],
 "metadata": {
  "kernelspec": {
   "display_name": "thesis",
   "language": "python",
   "name": "python3"
  },
  "language_info": {
   "codemirror_mode": {
    "name": "ipython",
    "version": 3
   },
   "file_extension": ".py",
   "mimetype": "text/x-python",
   "name": "python",
   "nbconvert_exporter": "python",
   "pygments_lexer": "ipython3",
   "version": "3.12.8"
  }
 },
 "nbformat": 4,
 "nbformat_minor": 2
}
