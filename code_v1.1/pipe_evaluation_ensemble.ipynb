{
  "cells": [
    {
      "cell_type": "code",
      "source": [
        "! pip uninstall -y torch\n",
        "! pip uninstall -y transformers"
      ],
      "metadata": {
        "id": "unma27EvHoBK"
      },
      "id": "unma27EvHoBK",
      "execution_count": null,
      "outputs": []
    },
    {
      "cell_type": "code",
      "source": [
        "! pip install --quiet torch==2.5.1+cu124 torchvision==0.20.1+cu124 torchaudio==2.5.1+cu124 --extra-index-url https://download.pytorch.org/whl/cu124\n",
        "! pip install --quiet transformers==4.48.3\n",
        "\n",
        "! pip install --quiet datasets scikit-learn\n",
        "! pip install --quiet numpy pandas tqdm"
      ],
      "metadata": {
        "id": "g6NktOilHqE-"
      },
      "id": "g6NktOilHqE-",
      "execution_count": null,
      "outputs": []
    },
    {
      "cell_type": "markdown",
      "source": [
        "# Ensemble"
      ],
      "metadata": {
        "id": "M6_LARuMIbqY"
      },
      "id": "M6_LARuMIbqY"
    },
    {
      "cell_type": "code",
      "source": [
        "from google.colab import drive\n",
        "drive.mount(\"/content/drive\")"
      ],
      "metadata": {
        "id": "nsZMYLv6UPid"
      },
      "id": "nsZMYLv6UPid",
      "execution_count": null,
      "outputs": []
    },
    {
      "cell_type": "code",
      "source": [
        "import os\n",
        "from tqdm import tqdm\n",
        "from collections import Counter\n",
        "\n",
        "import numpy as np\n",
        "import pandas as pd\n",
        "\n",
        "import torch\n",
        "from datasets import load_dataset\n",
        "from transformers import ( AutoModelForImageClassification, AutoProcessor )\n",
        "from transformers import ( ViTHybridForImageClassification, ViTHybridImageProcessor )\n",
        "\n",
        "import torch.nn.functional as F\n",
        "from sklearn.metrics import classification_report, confusion_matrix, accuracy_score"
      ],
      "metadata": {
        "id": "AB5FqoGFLIR1"
      },
      "id": "AB5FqoGFLIR1",
      "execution_count": null,
      "outputs": []
    },
    {
      "cell_type": "code",
      "source": [
        "model_order = [\n",
        "    \"SodaXII/convnextv2-base-1k-224_rice-leaf-disease-augmented-v4_v5_fft\",\n",
        "    \"SodaXII/vit-hybrid-base-bit-384_rice-leaf-disease-augmented-v4_v5_fft\",\n",
        "    \"SodaXII/vit-base-patch16-224_rice-leaf-disease-augmented-v4_v5_fft\",\n",
        "    \"SodaXII/swin-base-patch4-window7-224_rice-leaf-disease-augmented-v4_v5_fft\",\n",
        "    \"SodaXII/deit-base-patch16-224_rice-leaf-disease-augmented-v4_v5_fft\",\n",
        "    \"SodaXII/dinov2-base_rice-leaf-disease-augmented-v4_v5_fft\",\n",
        "\n",
        "    \"SodaXII/vit_small_patch16_224.augreg_in21k_rice-leaf-disease-augmented-v4_v5_fft\",\n",
        "    \"SodaXII/swin-tiny-patch4-window7-224_rice-leaf-disease-augmented-v4_v5_fft\",\n",
        "    \"SodaXII/deit-small-patch16-224_rice-leaf-disease-augmented-v4_v5_fft\",\n",
        "    \"SodaXII/convnextv2-tiny-1k-224_rice-leaf-disease-augmented-v4_v5_fft\",\n",
        "\n",
        "    \"SodaXII/mobilevit-small_rice-leaf-disease-augmented-v4_v5_fft\",\n",
        "    \"SodaXII/mobilevitv2_150.cvnets_in22k_ft_in1k_rice-leaf-disease-augmented-v4_v5_fft\",\n",
        "    \"SodaXII/efficientnet-b2_rice-leaf-disease-augmented-v4_v5_fft\",\n",
        "    \"SodaXII/efficientvit_b1.r224_in1k_rice-leaf-disease-augmented-v4_v5_fft\",\n",
        "    \"SodaXII/efficientvit_m4.r224_in1k_rice-leaf-disease-augmented-v4_v5_fft\",\n",
        "    \"SodaXII/efficientformer_l1.snap_dist_in1k_rice-leaf-disease-augmented-v4_v5_fft\",\n",
        "    \"SodaXII/efficientformerv2_s2.snap_dist_in1k_rice-leaf-disease-augmented-v4_v5_fft\",\n",
        "]\n",
        "\n",
        "model_name = [\n",
        "    \"ConvNeXtV2 Base\",\n",
        "    \"ViT Hybrid Base\",\n",
        "    \"ViT Base\",\n",
        "    \"Swin Base\",\n",
        "    \"DeiT Base\",\n",
        "    \"DINOv2 Base\",\n",
        "\n",
        "    \"ViT Small\",\n",
        "    \"Swin Small\",\n",
        "    \"DeiT Small\",\n",
        "    \"ConvNeXtV2 Small\",\n",
        "\n",
        "    \"MobileViT Small\",\n",
        "    \"MobileViTv2 150\",\n",
        "    \"EfficientNet B2\",\n",
        "    \"EfficientViT B1\",\n",
        "    \"EfficientViT M4\",\n",
        "    \"EfficientFormer L1\",\n",
        "    \"EfficientFormerV2 S2\",\n",
        "]\n",
        "\n",
        "rename_map = dict(zip(model_order, model_name))"
      ],
      "metadata": {
        "id": "3F8y5FDAREqm"
      },
      "id": "3F8y5FDAREqm",
      "execution_count": null,
      "outputs": []
    },
    {
      "cell_type": "code",
      "source": [
        "def load_model_and_processor(model_name, device):\n",
        "    if \"hybrid\" in model_name:\n",
        "        model_cls, proc_cls = ViTHybridForImageClassification, ViTHybridImageProcessor\n",
        "    else:\n",
        "        model_cls, proc_cls = AutoModelForImageClassification, AutoProcessor\n",
        "\n",
        "    model = model_cls.from_pretrained(model_name).to(device).eval()\n",
        "    processor = proc_cls.from_pretrained(model_name)\n",
        "    return model, processor\n",
        "\n",
        "def evaluate_model(model_name, dataset):\n",
        "    device = \"cuda\" if torch.cuda.is_available() else \"cpu\"\n",
        "    model, processor = load_model_and_processor(model_name, device)\n",
        "\n",
        "    y_true, preds, probs = [], [], []\n",
        "    for ex in tqdm(dataset, desc=f\"Evaluating {rename_map[model_name]}\"):\n",
        "        inputs = processor(images=ex[\"image\"], return_tensors=\"pt\").to(device)\n",
        "        with torch.no_grad():\n",
        "            logits = model(**inputs).logits.cpu().squeeze(0)\n",
        "\n",
        "        soft_probs = F.softmax(logits, dim=-1)\n",
        "        y_true.append(int(ex[\"label\"]))\n",
        "        preds.append(int(soft_probs.argmax()))\n",
        "        probs.append(soft_probs.tolist())\n",
        "\n",
        "    return y_true, preds, probs"
      ],
      "metadata": {
        "id": "B3t3292kIdYz"
      },
      "id": "B3t3292kIdYz",
      "execution_count": null,
      "outputs": []
    },
    {
      "cell_type": "code",
      "source": [
        "def ensemble_prediction(models, dataset, output_path):\n",
        "    model_names = [rename_map[m] for m in models]\n",
        "    all_preds, all_probs, all_accs = {}, {}, {}\n",
        "    y_true = None\n",
        "\n",
        "    # evaluate each model\n",
        "    for model in models:\n",
        "        y_true, preds, probs = evaluate_model(model, dataset)\n",
        "        name = rename_map[model]\n",
        "        all_preds[name], all_probs[name] = preds, probs\n",
        "        all_accs[name] = accuracy_score(y_true, preds)\n",
        "\n",
        "    n_models = len(models)\n",
        "    n_samples = len(y_true)\n",
        "    labels = sorted(set(y_true))\n",
        "\n",
        "    # Hard voting\n",
        "    hard_votes = []\n",
        "    for i in range(n_samples):\n",
        "        votes = [all_preds[m][i] for m in model_names]\n",
        "        hard_votes.append(Counter(votes).most_common(1)[0][0])\n",
        "\n",
        "    # Soft voting\n",
        "    soft_votes = []\n",
        "    for i in range(n_samples):\n",
        "        avg = np.zeros(len(all_probs[model_names[0]][0]), dtype=float)\n",
        "        for m in model_names:\n",
        "            avg += all_probs[m][i]\n",
        "        avg /= n_models\n",
        "        soft_votes.append(int(avg.argmax()))\n",
        "\n",
        "    # choose final predictions\n",
        "    all_accs['hard_vote'] = accuracy_score(y_true, hard_votes)\n",
        "    all_accs['soft_vote'] = accuracy_score(y_true, soft_votes)\n",
        "\n",
        "    # save per-sample votes\n",
        "    votes_df = pd.DataFrame({m: all_preds[m] for m in model_names})\n",
        "    votes_df.insert(0, \"True\", y_true)\n",
        "    votes_df.insert(len(votes_df.columns), \"HardVote\", hard_votes)\n",
        "    votes_df.insert(len(votes_df.columns), \"SoftVote\", soft_votes)\n",
        "\n",
        "    # save accuracies\n",
        "    acc_df = pd.DataFrame({\"Model\": list(all_accs.keys()), \"Accuracy\": list(all_accs.values())})\n",
        "\n",
        "    # classification report & confusion\n",
        "    report_h = pd.DataFrame(classification_report(y_true, hard_votes, output_dict=True)).T\n",
        "    report_s = pd.DataFrame(classification_report(y_true, soft_votes, output_dict=True)).T\n",
        "    cm_h = pd.DataFrame(confusion_matrix(y_true, hard_votes), index=labels, columns=labels)\n",
        "    cm_s = pd.DataFrame(confusion_matrix(y_true, soft_votes), index=labels, columns=labels)\n",
        "\n",
        "    # 8. Write to Excel\n",
        "    with pd.ExcelWriter(output_path, engine='openpyxl') as writer:\n",
        "        votes_df.to_excel(writer, sheet_name='Votes', index=False)\n",
        "        acc_df.to_excel(writer, sheet_name='Accuracy', index=False)\n",
        "        report_h.to_excel(writer, sheet_name='Report_Hard')\n",
        "        report_s.to_excel(writer, sheet_name='Report_Soft')\n",
        "        cm_h.to_excel(writer, sheet_name='Confusion_Hard')\n",
        "        cm_s.to_excel(writer, sheet_name='Confusion_Soft')\n",
        "\n",
        "    print(f\"\\n✅ Ensemble results written to {output_path}\")"
      ],
      "metadata": {
        "id": "TpM4WKl8J5Qk"
      },
      "id": "TpM4WKl8J5Qk",
      "execution_count": null,
      "outputs": []
    },
    {
      "cell_type": "code",
      "source": [
        "models = [\n",
        "  \"SodaXII/mobilevit-small_rice-leaf-disease-augmented-v4_v5_fft\",\n",
        "  \"SodaXII/mobilevitv2_150.cvnets_in22k_ft_in1k_rice-leaf-disease-augmented-v4_v5_fft\",\n",
        "  \"SodaXII/efficientnet-b2_rice-leaf-disease-augmented-v4_v5_fft\",\n",
        "  \"SodaXII/efficientvit_b1.r224_in1k_rice-leaf-disease-augmented-v4_v5_fft\",\n",
        "  \"SodaXII/efficientformer_l1.snap_dist_in1k_rice-leaf-disease-augmented-v4_v5_fft\",\n",
        "  \"SodaXII/efficientformerv2_s2.snap_dist_in1k_rice-leaf-disease-augmented-v4_v5_fft\",\n",
        "]\n",
        "\n",
        "dataset = load_dataset(\"cvmil/rice-leaf-disease-augmented-v4\", split=\"test\")\n",
        "output_dir = \"/content/drive/Shareddrives/CS198-Drones/[v5] Results\"\n",
        "output_path = os.path.join(output_dir, \"ensemble_result.xlsx\")\n",
        "os.makedirs(output_dir, exist_ok=True)"
      ],
      "metadata": {
        "id": "njA7cbIEMu6y"
      },
      "id": "njA7cbIEMu6y",
      "execution_count": null,
      "outputs": []
    },
    {
      "cell_type": "code",
      "source": [
        "ensemble_prediction(models, dataset, output_path)"
      ],
      "metadata": {
        "id": "6P788RSwUD20"
      },
      "id": "6P788RSwUD20",
      "execution_count": null,
      "outputs": []
    }
  ],
  "metadata": {
    "accelerator": "GPU",
    "colab": {
      "gpuType": "T4",
      "provenance": []
    },
    "kernelspec": {
      "display_name": "Python 3",
      "name": "python3"
    },
    "language_info": {
      "name": "python"
    }
  },
  "nbformat": 4,
  "nbformat_minor": 5
}