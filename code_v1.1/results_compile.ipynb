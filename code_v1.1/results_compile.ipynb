{
  "cells": [
    {
      "cell_type": "code",
      "source": [
        "!pip install --quiet openpyxl"
      ],
      "metadata": {
        "id": "NEn56mT8PgHn"
      },
      "execution_count": 10,
      "outputs": []
    },
    {
      "cell_type": "code",
      "source": [
        "import os\n",
        "import json\n",
        "import pandas as pd\n",
        "from google.colab import drive"
      ],
      "metadata": {
        "id": "1s0_6QDo3yj_"
      },
      "execution_count": 11,
      "outputs": []
    },
    {
      "cell_type": "code",
      "source": [
        "drive.mount('/content/drive')"
      ],
      "metadata": {
        "id": "42yOOYAl3_bD",
        "outputId": "64b1e50e-85db-4c31-82c5-7243a71f48e1",
        "colab": {
          "base_uri": "https://localhost:8080/"
        }
      },
      "execution_count": 12,
      "outputs": [
        {
          "output_type": "stream",
          "name": "stdout",
          "text": [
            "Drive already mounted at /content/drive; to attempt to forcibly remount, call drive.mount(\"/content/drive\", force_remount=True).\n"
          ]
        }
      ]
    },
    {
      "cell_type": "code",
      "source": [
        "output_dir = \"/content/drive/Shareddrives/CS198-Drones/[v4] Results\"\n",
        "\n",
        "results_dir = \"/content/drive/Shareddrives/CS198-Drones/[v4] Model Evaluation/\"\n",
        "results_output_file = f\"{output_dir}model_evaluation.xlsx\"\n",
        "\n",
        "training_dir = \"/content/drive/Shareddrives/CS198-Drones/[v4] Training Output/\"\n",
        "training_output_file = f\"{output_dir}training_metrics.xlsx\""
      ],
      "metadata": {
        "id": "ekE91V1G35R2"
      },
      "execution_count": 13,
      "outputs": []
    },
    {
      "cell_type": "code",
      "execution_count": 14,
      "metadata": {
        "vscode": {
          "languageId": "plaintext"
        },
        "id": "z8McvzRM1_1v"
      },
      "outputs": [],
      "source": [
        "def compile_evaluation_results(json_folder, output_file):\n",
        "    precision_data = []\n",
        "    recall_data = []\n",
        "    f1_data = []\n",
        "    overall_data = []\n",
        "\n",
        "    for model_dir in os.listdir(json_folder):\n",
        "        model_path = os.path.join(json_folder, model_dir)\n",
        "        json_file_path = os.path.join(model_path, \"report.json\")\n",
        "        if os.path.isdir(model_path) and os.path.isfile(json_file_path):\n",
        "            with open(json_file_path, \"r\") as f:\n",
        "                data = json.load(f)\n",
        "                model_name = model_dir\n",
        "\n",
        "                for class_name, metrics in data.items():\n",
        "                    if isinstance(metrics, dict):\n",
        "                        precision_data.append({\"Model\": model_name, \"Class\": class_name, \"Precision\": metrics.get(\"precision\", None)})\n",
        "                        recall_data.append({\"Model\": model_name, \"Class\": class_name, \"Recall\": metrics.get(\"recall\", None)})\n",
        "                        f1_data.append({\"Model\": model_name, \"Class\": class_name, \"F1-Score\": metrics.get(\"f1-score\", None)})\n",
        "\n",
        "                # Add overall data\n",
        "                weighted_ave = data[\"weighted avg\"]\n",
        "                overall_data.append({\"Model\": model_name, \"Accuracy\": data.get(\"accuracy\", None), \"Precision\": weighted_ave.get(\"precision\", None), \"Recall\": weighted_ave.get(\"recall\", None), \"F1-Score\": weighted_ave.get(\"f1-score\", None), \"Support\": weighted_ave.get(\"support\", None), \"Eval Time\": data.get(\"evaluation_time_sec\", None)})\n",
        "\n",
        "    with pd.ExcelWriter(output_file, engine='openpyxl') as writer:\n",
        "        pd.DataFrame(precision_data).pivot(index=\"Model\", columns=\"Class\", values=\"Precision\").to_excel(writer, sheet_name=\"Precision\")\n",
        "        pd.DataFrame(recall_data).pivot(index=\"Model\", columns=\"Class\", values=\"Recall\").to_excel(writer, sheet_name=\"Recall\")\n",
        "        pd.DataFrame(f1_data).pivot(index=\"Model\", columns=\"Class\", values=\"F1-Score\").to_excel(writer, sheet_name=\"F1-Score\")\n",
        "        pd.DataFrame(overall_data).to_excel(writer, sheet_name=\"Overall Accuracy\", index=False)\n",
        "\n",
        "    print(f\"Results saved to {output_file}\")"
      ]
    },
    {
      "cell_type": "code",
      "source": [
        "def compile_training_metrics(metrics_folder, output_file):\n",
        "    # Define metric categories (these will be used as sheet names)\n",
        "    metric_names = [\n",
        "        \"loss\", \"grad_norm\", \"learning_rate\", \"eval_loss\", \"eval_accuracy\",\n",
        "        \"eval_runtime\", \"eval_samples_per_second\", \"eval_steps_per_second\",\n",
        "        \"gpu_vram_allocated_mb\", \"gpu_vram_reserved_mb\", \"timestamp\"\n",
        "    ]\n",
        "\n",
        "    # Initialize a dictionary to hold DataFrames for each metric\n",
        "    metrics_dict = {metric: pd.DataFrame() for metric in metric_names}\n",
        "\n",
        "    # Loop through model folders\n",
        "    for model_dir in os.listdir(metrics_folder):\n",
        "        model_path = os.path.join(metrics_folder, model_dir)\n",
        "        metrics_file = os.path.join(model_path, \"training_metrics.xlsx\")\n",
        "\n",
        "        if os.path.isdir(model_path) and os.path.isfile(metrics_file):\n",
        "            df = pd.read_excel(metrics_file)\n",
        "\n",
        "            if \"epoch\" not in df.columns:\n",
        "                print(f\"Skipping {model_dir} (No 'epoch' column found)\")\n",
        "                continue\n",
        "\n",
        "            # Add each metric to its respective dictionary entry\n",
        "            for metric in metric_names:\n",
        "                if metric in df.columns:\n",
        "                    if metrics_dict[metric].empty:\n",
        "                        metrics_dict[metric] = df[[\"epoch\", metric]].copy()\n",
        "                        metrics_dict[metric].rename(columns={metric: model_dir}, inplace=True)\n",
        "                    else:\n",
        "                        metrics_dict[metric] = pd.merge(metrics_dict[metric], df[[\"epoch\", metric]], on=\"epoch\", how=\"outer\")\n",
        "                        metrics_dict[metric].rename(columns={metric: model_dir}, inplace=True)\n",
        "\n",
        "    # Save to Excel\n",
        "    with pd.ExcelWriter(output_file, engine=\"openpyxl\") as writer:\n",
        "        for metric, df in metrics_dict.items():\n",
        "            if not df.empty:\n",
        "                df.to_excel(writer, sheet_name=metric, index=False)\n",
        "\n",
        "    print(f\"Training metrics compiled and saved to {output_file}\")"
      ],
      "metadata": {
        "id": "y_QF1Cvb7rfJ"
      },
      "execution_count": 15,
      "outputs": []
    },
    {
      "cell_type": "code",
      "source": [
        "compile_evaluation_results(results_dir, results_output_file)"
      ],
      "metadata": {
        "id": "BgoYe0o64tWr",
        "outputId": "36972db4-7564-4866-941c-854a3b4a5dc2",
        "colab": {
          "base_uri": "https://localhost:8080/"
        }
      },
      "execution_count": 16,
      "outputs": [
        {
          "output_type": "stream",
          "name": "stdout",
          "text": [
            "Results saved to /content/drive/Shareddrives/CS198-Drones/[v4] Resultsmodel_evaluation.xlsx\n"
          ]
        }
      ]
    },
    {
      "cell_type": "code",
      "source": [
        "compile_training_metrics(training_dir, training_output_file)"
      ],
      "metadata": {
        "id": "_HdBKZQQ7uH1",
        "outputId": "f0990e7c-77ca-4f62-e5be-37a786571336",
        "colab": {
          "base_uri": "https://localhost:8080/"
        }
      },
      "execution_count": 17,
      "outputs": [
        {
          "output_type": "stream",
          "name": "stdout",
          "text": [
            "Training metrics compiled and saved to /content/drive/Shareddrives/CS198-Drones/[v4] Resultstraining_metrics.xlsx\n"
          ]
        }
      ]
    }
  ],
  "metadata": {
    "language_info": {
      "name": "python"
    },
    "colab": {
      "provenance": [],
      "gpuType": "V28"
    },
    "kernelspec": {
      "name": "python3",
      "display_name": "Python 3"
    },
    "accelerator": "TPU"
  },
  "nbformat": 4,
  "nbformat_minor": 0
}