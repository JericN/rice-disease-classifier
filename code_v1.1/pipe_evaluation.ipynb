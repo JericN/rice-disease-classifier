{
  "cells": [
    {
      "cell_type": "code",
      "execution_count": null,
      "id": "INXRQeZK7zO2",
      "metadata": {
        "id": "INXRQeZK7zO2"
      },
      "outputs": [],
      "source": [
        "! pip install --quiet numpy pandas seaborn matplotlib tqdm\n",
        "! pip install --quiet datasets \"transformers[torch]\" scikit-learn"
      ]
    },
    {
      "cell_type": "markdown",
      "id": "62d60676",
      "metadata": {
        "id": "62d60676"
      },
      "source": [
        "# Rice Leaf Disease Detection - Model Evaluation\n",
        "This notebook evaluates multiple transformer-based models for rice leaf disease classification."
      ]
    },
    {
      "cell_type": "code",
      "execution_count": null,
      "id": "1a495f82",
      "metadata": {
        "id": "1a495f82"
      },
      "outputs": [],
      "source": [
        "\n",
        "import os\n",
        "import json\n",
        "import torch\n",
        "import time\n",
        "import numpy as np\n",
        "import pandas as pd\n",
        "import seaborn as sns\n",
        "import matplotlib.pyplot as plt\n",
        "from tqdm import tqdm\n",
        "from datasets import load_dataset\n",
        "from transformers import AutoModelForImageClassification, AutoProcessor\n",
        "from transformers import ViTHybridForImageClassification, ViTHybridImageProcessor\n",
        "from sklearn.metrics import classification_report, confusion_matrix\n",
        "from google.colab import drive\n"
      ]
    },
    {
      "cell_type": "markdown",
      "id": "97a210a1",
      "metadata": {
        "id": "97a210a1"
      },
      "source": [
        "## Function: Model Evaluation\n",
        "This function loads a pre-trained model and evaluates it on the test dataset."
      ]
    },
    {
      "cell_type": "code",
      "execution_count": null,
      "id": "6c54d258",
      "metadata": {
        "id": "6c54d258"
      },
      "outputs": [],
      "source": [
        "def evaluate_model(model_name, dataset, labels, batch_size=16, device=\"cuda\" if torch.cuda.is_available() else \"cpu\"):\n",
        "    \"\"\"Loads a model and evaluates it on the dataset in batches, displaying all failed predictions.\"\"\"\n",
        "    print(f\"Evaluating {model_name}...\")\n",
        "\n",
        "    # Load model and processor\n",
        "    if \"hybrid\" in model_name:\n",
        "        model = ViTHybridForImageClassification.from_pretrained(model_name).to(device)\n",
        "        processor = ViTHybridImageProcessor.from_pretrained(model_name)\n",
        "    else:\n",
        "        model = AutoModelForImageClassification.from_pretrained(model_name).to(device)\n",
        "        processor = AutoProcessor.from_pretrained(model_name)\n",
        "\n",
        "    y_true, y_pred = [], []\n",
        "    failed_predictions = []\n",
        "\n",
        "    start_time = time.time()\n",
        "\n",
        "    for example in tqdm(dataset, desc=f\"Testing {model_name}\"):\n",
        "        image, label = example[\"image\"], example[\"label\"]\n",
        "        inputs = processor(images=image, return_tensors=\"pt\").to(device)\n",
        "\n",
        "        with torch.no_grad():\n",
        "            outputs = model(**inputs)\n",
        "            pred_label = torch.argmax(outputs.logits, dim=-1).cpu().item()\n",
        "\n",
        "        y_true.append(label)\n",
        "        y_pred.append(pred_label)\n",
        "\n",
        "        if pred_label != label:  # Store failed predictions\n",
        "            failed_predictions.append((image, label, pred_label))\n",
        "\n",
        "    elapsed_time = time.time() - start_time\n",
        "    print(f\"Model {model_name} evaluation completed in {elapsed_time:.2f} seconds.\")\n",
        "    print(f\"Total failed predictions: {len(failed_predictions)}\")\n",
        "\n",
        "\n",
        "    return y_true, y_pred, failed_predictions, elapsed_time\n"
      ]
    },
    {
      "cell_type": "markdown",
      "id": "ae7ddf7e",
      "metadata": {
        "id": "ae7ddf7e"
      },
      "source": [
        "## Function: Generate Report\n",
        "This function generates and saves a classification report and confusion matrix."
      ]
    },
    {
      "cell_type": "code",
      "execution_count": null,
      "id": "bb13064c",
      "metadata": {
        "id": "bb13064c"
      },
      "outputs": [],
      "source": [
        "def generate_report(y_true, y_pred, labels, model_name, output_dir, failed_predictions, elapsed_time):\n",
        "    \"\"\"Generates and saves classification report and confusion matrix.\"\"\"\n",
        "    model_safe_name = model_name.split(\"/\")[-1]\n",
        "    model_safe_name = model_safe_name.split(\"_\")[0] + model_safe_name.split(\"_\")[-1]\n",
        "    output_dir = os.path.join(output_dir, model_name.split(\"/\")[-1])\n",
        "    os.makedirs(output_dir, exist_ok=True)\n",
        "\n",
        "    report = classification_report(y_true, y_pred, target_names=labels, output_dict=True)\n",
        "    cm = confusion_matrix(y_true, y_pred)\n",
        "    cm_normalized = cm.astype(\"float\") / cm.sum(axis=1, keepdims=True)\n",
        "\n",
        "    report[\"evaluation_time_sec\"] = elapsed_time\n",
        "\n",
        "    # Save JSON report\n",
        "    report_path = os.path.join(output_dir, f\"report.json\")\n",
        "    with open(report_path, \"w\") as f:\n",
        "        json.dump(report, f, indent=4)\n",
        "\n",
        "    # Save Excel report\n",
        "    report_df = pd.DataFrame(report).transpose()\n",
        "    excel_path = os.path.join(output_dir, f\"report.xlsx\")\n",
        "\n",
        "    with pd.ExcelWriter(excel_path) as writer:\n",
        "        report_df.to_excel(writer, sheet_name=\"Classification Report\")\n",
        "        pd.DataFrame(cm, index=labels, columns=labels).to_excel(writer, sheet_name=\"Confusion Matrix\")\n",
        "        pd.DataFrame(cm_normalized, index=labels, columns=labels).to_excel(writer, sheet_name=\"Normalized Confusion Matrix\")\n",
        "\n",
        "    # Display all failed predictions\n",
        "    if failed_predictions:\n",
        "        num_failures = len(failed_predictions)\n",
        "        cols = 4  # Set columns for visualization\n",
        "        rows = (num_failures // cols) + (num_failures % cols > 0)\n",
        "\n",
        "        fig, axes = plt.subplots(rows, cols, figsize=(cols * 10, rows * 10))\n",
        "        axes = axes.flatten()  # Flatten for easy iteration\n",
        "\n",
        "        for i, (image, true_label, pred_label) in enumerate(failed_predictions):\n",
        "            ax = axes[i]\n",
        "            ax.imshow(image)  # Assuming images are PIL images\n",
        "            ax.set_title(f\"True: {labels[true_label]}\\nPred: {labels[pred_label]}\")\n",
        "            ax.axis(\"off\")\n",
        "\n",
        "        # Hide extra subplots if any\n",
        "        for j in range(i + 1, len(axes)):\n",
        "            axes[j].axis(\"off\")\n",
        "\n",
        "        plt.tight_layout()\n",
        "        plt.savefig(os.path.join(output_dir, \"failed_predictions.png\"))\n",
        "        plt.close()\n",
        "\n",
        "    # Save confusion matrix plot\n",
        "    def save_cm_plot(matrix, title, filename, fmt=\"d\"):\n",
        "        plt.figure(figsize=(10, 8))\n",
        "        sns.heatmap(matrix, annot=True, fmt=fmt, cmap=\"Blues\", xticklabels=labels, yticklabels=labels)\n",
        "        plt.xlabel(\"Predicted Label\")\n",
        "        plt.ylabel(\"True Label\")\n",
        "        plt.title(title, pad=20)\n",
        "        plt.xticks(rotation=30)\n",
        "        plt.yticks(rotation=30)\n",
        "        plt.savefig(os.path.join(output_dir, filename), bbox_inches=\"tight\", pad_inches=0.3)\n",
        "        plt.close()\n",
        "\n",
        "    save_cm_plot(cm, f\"{model_safe_name} Confusion Matrix\", f\"confusion_matrix.png\")\n",
        "    save_cm_plot(cm_normalized, f\"{model_safe_name} Confusion Matrix\", f\"normalized_confusion_matrix.png\", fmt=\".2f\")\n"
      ]
    },
    {
      "cell_type": "code",
      "execution_count": null,
      "id": "_n9x43ydBdBS",
      "metadata": {
        "id": "_n9x43ydBdBS"
      },
      "outputs": [],
      "source": [
        "def save_dataset_info(dataset, output_dir):\n",
        "    info_path = os.path.join(output_dir, \"dataset_info.json\")\n",
        "    # Get class distribution\n",
        "    labels = dataset.features[\"label\"].names\n",
        "    label_counts = {label: 0 for label in labels}\n",
        "\n",
        "    for example in dataset:\n",
        "        label_counts[labels[example[\"label\"]]] += 1\n",
        "\n",
        "    dataset_info = {\n",
        "        \"num_samples\": len(dataset),\n",
        "        \"num_classes\": len(labels),\n",
        "        \"class_distribution\": label_counts,\n",
        "    }\n",
        "\n",
        "    # Save dataset info as JSON\n",
        "    with open(info_path, \"w\") as f:\n",
        "        json.dump(dataset_info, f, indent=4)\n",
        "\n",
        "    # Save class distribution plot\n",
        "    plt.figure(figsize=(10, 6))\n",
        "    sns.barplot(x=list(label_counts.keys()), y=list(label_counts.values()), palette=\"viridis\")\n",
        "    plt.xticks(rotation=30)\n",
        "    plt.xlabel(\"Classes\")\n",
        "    plt.ylabel(\"Count\")\n",
        "    plt.title(\"Class Distribution in Test Dataset\")\n",
        "    plt.savefig(os.path.join(output_dir, \"class_distribution.png\"), bbox_inches=\"tight\", pad_inches=0.3)\n",
        "    plt.close()\n",
        "\n",
        "    print(\"✅ Dataset info saved.\")"
      ]
    },
    {
      "cell_type": "markdown",
      "id": "3f33636f",
      "metadata": {
        "id": "3f33636f"
      },
      "source": [
        "## Main Function\n",
        "This function loads the dataset, evaluates models, and saves reports to Google Drive."
      ]
    },
    {
      "cell_type": "code",
      "execution_count": null,
      "id": "9774fae5",
      "metadata": {
        "id": "9774fae5"
      },
      "outputs": [],
      "source": [
        "\n",
        "def main():\n",
        "    \"\"\"Mounts Google Drive, loads dataset, evaluates models, and saves reports.\"\"\"\n",
        "    drive.mount(\"/content/drive\")\n",
        "\n",
        "    models_path = [\n",
        "        \"SodaXII/resnet-152_rice-leaf-disease-augmented-v4_fft\",\n",
        "        \"SodaXII/convnextv2-base-1k-224_rice-leaf-disease-augmented-v4_fft\",\n",
        "        \"SodaXII/vit-hybrid-base-bit-384_rice-leaf-disease-augmented-v4_fft\",\n",
        "        \"SodaXII/vit-base-patch16-224_rice-leaf-disease-augmented-v4_fft\",\n",
        "        \"SodaXII/swin-base-patch4-window7-224_rice-leaf-disease-augmented-v4_fft\",\n",
        "        \"SodaXII/deit-base-patch16-224_rice-leaf-disease-augmented-v4_fft\",\n",
        "        \"SodaXII/dinov2-base_rice-leaf-disease-augmented-v4_fft\",\n",
        "        \"SodaXII/mobilevit-small_rice-leaf-disease-augmented-v4_fft\",\n",
        "        \"SodaXII/efficientnet-b0_rice-leaf-disease-augmented-v4_fft\",\n",
        "        \"SodaXII/convnextv2-femto-1k-224_rice-leaf-disease-augmented-v4_fft\",\n",
        "        \"SodaXII/vit-tiny-patch16-224_rice-leaf-disease-augmented-v4_fft\",\n",
        "        \"SodaXII/swin-tiny-patch4-window7-224_rice-leaf-disease-augmented-v4_fft\",\n",
        "        \"SodaXII/deit-tiny-patch16-224_rice-leaf-disease-augmented-v4_fft\",\n",
        "        \"SodaXII/resnet-152_rice-leaf-disease-augmented-v4_tl\",\n",
        "        \"SodaXII/convnextv2-base-1k-224_rice-leaf-disease-augmented-v4_tl\",\n",
        "        \"SodaXII/vit-hybrid-base-bit-384_rice-leaf-disease-augmented-v4_tl\",\n",
        "        \"SodaXII/vit-base-patch16-224_rice-leaf-disease-augmented-v4_tl\",\n",
        "        \"SodaXII/swin-base-patch4-window7-224_rice-leaf-disease-augmented-v4_tl\",\n",
        "        \"SodaXII/deit-base-patch16-224_rice-leaf-disease-augmented-v4_tl\",\n",
        "        \"SodaXII/dinov2-base_rice-leaf-disease-augmented-v4_tl\"\n",
        "    ]\n",
        "\n",
        "\n",
        "    dataset = load_dataset(\"cvmil/rice-leaf-disease-augmented-v4\", split=\"test\")\n",
        "    labels = dataset.features[\"label\"].names\n",
        "\n",
        "    output_dir = \"/content/drive/Shareddrives/CS198-Drones/[v4] Model Evaluation/\"\n",
        "    os.makedirs(output_dir, exist_ok=True)\n",
        "\n",
        "    save_dataset_info(dataset, output_dir)\n",
        "\n",
        "    for model_name in models_path:\n",
        "        try:\n",
        "            y_true, y_pred, failed_predictions, elapsed_time = evaluate_model(model_name, dataset, labels)\n",
        "            generate_report(y_true, y_pred, labels, model_name, output_dir, failed_predictions, elapsed_time)\n",
        "        except Exception as e:\n",
        "            print(f\"⚠️⚠️⚠️ Error processing {model_name}: {e}\")\n",
        "\n",
        "    print(\"✅ Evaluation completed. Reports saved to Google Drive.\")\n",
        "\n",
        "if __name__ == \"__main__\":\n",
        "    main()\n"
      ]
    }
  ],
  "metadata": {
    "accelerator": "GPU",
    "colab": {
      "gpuType": "T4",
      "provenance": []
    },
    "kernelspec": {
      "display_name": "Python 3",
      "name": "python3"
    },
    "language_info": {
      "name": "python"
    }
  },
  "nbformat": 4,
  "nbformat_minor": 5
}