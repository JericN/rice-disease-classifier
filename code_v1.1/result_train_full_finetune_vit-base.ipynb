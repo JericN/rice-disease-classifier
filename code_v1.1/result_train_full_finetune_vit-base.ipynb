{
  "cells": [
    {
      "cell_type": "markdown",
      "metadata": {
        "id": "pk6aYXUXhop-"
      },
      "source": [
        "# **Setup and Library Imports**"
      ]
    },
    {
      "cell_type": "markdown",
      "metadata": {
        "id": "YkNa8fuxhoqD"
      },
      "source": [
        "### **Connect to google drive**"
      ]
    },
    {
      "cell_type": "code",
      "execution_count": 1,
      "metadata": {
        "id": "8ZgoF0fihoqE",
        "outputId": "d7591712-4571-4ec5-d962-77960da3c636",
        "colab": {
          "base_uri": "https://localhost:8080/"
        }
      },
      "outputs": [
        {
          "output_type": "stream",
          "name": "stdout",
          "text": [
            "Drive already mounted at /content/drive; to attempt to forcibly remount, call drive.mount(\"/content/drive\", force_remount=True).\n"
          ]
        }
      ],
      "source": [
        "from google.colab import drive\n",
        "from google.colab import auth\n",
        "from googleapiclient.discovery import build\n",
        "\n",
        "auth.authenticate_user()\n",
        "drive_service = build('drive', 'v3')\n",
        "drive.mount('/content/drive')"
      ]
    },
    {
      "cell_type": "markdown",
      "metadata": {
        "id": "foVO8_yXhoqC"
      },
      "source": [
        "### **Logging into Hugging Face Hub**"
      ]
    },
    {
      "cell_type": "code",
      "execution_count": 2,
      "metadata": {
        "id": "YCeOsgyBhoqD"
      },
      "outputs": [],
      "source": [
        "# from huggingface_hub import notebook_login\n",
        "## Execute the login function to access the Hugging Face account\n",
        "# notebook_login()"
      ]
    },
    {
      "cell_type": "markdown",
      "metadata": {
        "id": "eZjAk0KQhoqA"
      },
      "source": [
        "### **Installing Required Packages**"
      ]
    },
    {
      "cell_type": "code",
      "execution_count": 3,
      "metadata": {
        "id": "jO63oYRzL5Sv"
      },
      "outputs": [],
      "source": [
        "! pip install --quiet \"transformers[torch]\"\n",
        "! pip install --quiet evaluate\n",
        "! pip install --quiet tabulate\n",
        "! pip install --quiet ipywidgets\n",
        "! pip install --quiet datasets\n",
        "! pip install --quiet pillow\n",
        "! pip install --quiet scikit-learn\n",
        "! pip install --quiet tensorboard\n",
        "! pip install --quiet openpyxl"
      ]
    },
    {
      "cell_type": "markdown",
      "metadata": {
        "id": "FWtkX4sJhoqB"
      },
      "source": [
        "### **Importing Libraries**"
      ]
    },
    {
      "cell_type": "code",
      "execution_count": 4,
      "metadata": {
        "id": "VD4j_OeEhoqC"
      },
      "outputs": [],
      "source": [
        "# PyTorch for tensor operations\n",
        "import torch\n",
        "\n",
        "# Hugging Face libraries for training and transformer models\n",
        "from transformers import Trainer, TrainingArguments, TrainerCallback\n",
        "from transformers import AutoImageProcessor, AutoModelForImageClassification\n",
        "from transformers import get_cosine_with_hard_restarts_schedule_with_warmup\n",
        "from transformers import AdamW\n",
        "\n",
        "# Evaluation metrics and utilities\n",
        "import os\n",
        "import evaluate\n",
        "import numpy as np\n",
        "from datetime import datetime\n",
        "\n",
        "# Loading datasets for training and evaluation\n",
        "from datasets import load_dataset\n",
        "\n",
        "# Data manipulation and display utilities\n",
        "import pandas as pd\n",
        "from tabulate import tabulate\n",
        "from collections import Counter"
      ]
    },
    {
      "cell_type": "markdown",
      "metadata": {
        "id": "1ZXEWL3dhoqE"
      },
      "source": [
        "### **Defining Model, Dataset Paths, and Output Directories**"
      ]
    },
    {
      "cell_type": "markdown",
      "metadata": {
        "id": "XE6mVOWpdhBQ"
      },
      "source": [
        "List of Models\n",
        "\n",
        "\n",
        "```\n",
        "microsoft/resnet-152\n",
        "facebook/convnext-base-224\n",
        "google/vit-base-patch16-224\n",
        "google/vit-hybrid-base-bit-384\n",
        "microsoft/swin-base-patch4-window7-224\n",
        "facebook/deit-base-patch16-224\n",
        "microsoft/beit-base-patch16-224\n",
        "facebook/dinov2-base\n",
        "```\n",
        "\n"
      ]
    },
    {
      "cell_type": "markdown",
      "metadata": {
        "id": "QQdE_vIFeGvg"
      },
      "source": [
        "List of Datasets\n",
        "\n",
        "\n",
        "```\n",
        "cvmil/rice-leaf-disease-augmented-v4\n",
        "cvmil/rice-leaf-disease-augmented-v3\n",
        "cvmil/rice-leaf-disease-augmented-v2\n",
        "cvmil/rice-leaf-disease-augmented\n",
        "cvmil/rice-leaf-disease-augmented-test\n",
        "cvmil/rice-disease-02\n",
        "```"
      ]
    },
    {
      "cell_type": "markdown",
      "metadata": {
        "id": "hgaBaJ0_hoqE"
      },
      "source": [
        "Define paths for saving model training outputs and logs, incorporating model and dataset names along with the current date."
      ]
    },
    {
      "cell_type": "code",
      "execution_count": 5,
      "metadata": {
        "id": "oSYVCtcyhoqE"
      },
      "outputs": [],
      "source": [
        "# Define model and dataset paths\n",
        "model_path = \"google/vit-base-patch16-224\"\n",
        "dataset_path = \"cvmil/rice-leaf-disease-augmented-v4\"\n",
        "train_epochs = 15\n",
        "resume_from_checkpoint = True\n",
        "\n",
        "base_model_name = model_path.split(\"/\")[-1]\n",
        "dataset_name = dataset_path.split(\"/\")[-1]\n",
        "\n",
        "model_name = f\"{base_model_name}_{dataset_name}_fft\"\n",
        "output_dir = f\"./drive/Shareddrives/CS198-Drones/[v4] Training Output/{model_name}\"\n",
        "\n",
        "# Define directory for storing training logs\n",
        "logging_dir = f\"{output_dir}/logs\"\n",
        "metrics_dir = f\"{output_dir}/training_metrics.xlsx\""
      ]
    },
    {
      "cell_type": "markdown",
      "metadata": {
        "id": "1BChGCU8hoqF"
      },
      "source": [
        "# **Data Preparation and Processing Pipeline**"
      ]
    },
    {
      "cell_type": "markdown",
      "metadata": {
        "id": "-drvKwRHhoqF"
      },
      "source": [
        "This section handles the dataset loading, label extraction, image processing setup, and defines necessary functions for data transformation, batching, and metric computation to prepare the data for model training and evaluation."
      ]
    },
    {
      "cell_type": "markdown",
      "metadata": {
        "id": "tYKQMYOXhoqF"
      },
      "source": [
        "### **Load Dataset and Extract Labels**"
      ]
    },
    {
      "cell_type": "markdown",
      "metadata": {
        "id": "lkTJZsUxhoqF"
      },
      "source": [
        "Load the dataset from huggingface and extract the class labels from the training data."
      ]
    },
    {
      "cell_type": "code",
      "execution_count": 6,
      "metadata": {
        "id": "VpRxa9MghoqG"
      },
      "outputs": [],
      "source": [
        "# Load the dataset\n",
        "dataset = load_dataset(dataset_path)\n",
        "\n",
        "# Extract class labels from the training set\n",
        "labels = dataset['train'].features['label'].names"
      ]
    },
    {
      "cell_type": "markdown",
      "metadata": {
        "id": "Q0Uylz9vhoqG"
      },
      "source": [
        "Generate and display a table showing class distribution across training and validation splits."
      ]
    },
    {
      "cell_type": "code",
      "execution_count": 7,
      "metadata": {
        "id": "OFgqgd9IhoqG",
        "outputId": "909b10e9-5e93-41bd-8542-7dd7ece1ffad",
        "colab": {
          "base_uri": "https://localhost:8080/"
        }
      },
      "outputs": [
        {
          "output_type": "stream",
          "name": "stdout",
          "text": [
            "+------+------------------------+------------+--------------+\n",
            "|   ID | Label                  |   Training |   Validation |\n",
            "+======+========================+============+==============+\n",
            "|    0 | Bacterial Leaf Blight  |       1024 |           33 |\n",
            "+------+------------------------+------------+--------------+\n",
            "|    1 | Brown Spot             |       1024 |           50 |\n",
            "+------+------------------------+------------+--------------+\n",
            "|    2 | Healthy Rice Leaf      |       1024 |           30 |\n",
            "+------+------------------------+------------+--------------+\n",
            "|    3 | Leaf Blast             |       1024 |           40 |\n",
            "+------+------------------------+------------+--------------+\n",
            "|    4 | Leaf scald             |       1024 |           34 |\n",
            "+------+------------------------+------------+--------------+\n",
            "|    5 | Narrow Brown Leaf Spot |       1024 |           19 |\n",
            "+------+------------------------+------------+--------------+\n",
            "|    6 | Rice Hispa             |       1024 |           41 |\n",
            "+------+------------------------+------------+--------------+\n",
            "|    7 | Sheath Blight          |       1024 |           51 |\n",
            "+------+------------------------+------------+--------------+\n"
          ]
        }
      ],
      "source": [
        "label_mapping = dataset['train'].features['label'].int2str\n",
        "\n",
        "# Count the number of samples per class in each split\n",
        "train_counts = Counter(dataset['train']['label'])\n",
        "validation_counts = Counter(dataset['validation']['label'])\n",
        "\n",
        "# Create a DataFrame for the class distribution\n",
        "data = {\n",
        "    'ID': list(range(len(labels))),\n",
        "    'Label': labels,\n",
        "    'Training': [train_counts[i] if i in train_counts else 0 for i in range(len(labels))],\n",
        "    'Validation': [validation_counts[i] if i in validation_counts else 0 for i in range(len(labels))],\n",
        "}\n",
        "\n",
        "# Display the class distribution in a table format\n",
        "df = pd.DataFrame(data)\n",
        "print(tabulate(df, headers='keys', tablefmt='grid', showindex=False))"
      ]
    },
    {
      "cell_type": "markdown",
      "metadata": {
        "id": "8o8mVRnrhoqH"
      },
      "source": [
        "### **Initialize Image Processor**"
      ]
    },
    {
      "cell_type": "markdown",
      "metadata": {
        "id": "rd828v-whoqH"
      },
      "source": [
        "Load and initialize the image processor from the pre-trained model."
      ]
    },
    {
      "cell_type": "code",
      "execution_count": 8,
      "metadata": {
        "id": "2jEcfFMjhoqH",
        "outputId": "dea14b57-a2bd-497f-d2c8-0c60946b0207",
        "colab": {
          "base_uri": "https://localhost:8080/"
        }
      },
      "outputs": [
        {
          "output_type": "stream",
          "name": "stderr",
          "text": [
            "Fast image processor class <class 'transformers.models.vit.image_processing_vit_fast.ViTImageProcessorFast'> is available for this model. Using slow image processor class. To use the fast image processor class set `use_fast=True`.\n"
          ]
        },
        {
          "output_type": "stream",
          "name": "stdout",
          "text": [
            "ViTImageProcessor {\n",
            "  \"do_convert_rgb\": null,\n",
            "  \"do_normalize\": true,\n",
            "  \"do_rescale\": true,\n",
            "  \"do_resize\": true,\n",
            "  \"image_mean\": [\n",
            "    0.5,\n",
            "    0.5,\n",
            "    0.5\n",
            "  ],\n",
            "  \"image_processor_type\": \"ViTImageProcessor\",\n",
            "  \"image_std\": [\n",
            "    0.5,\n",
            "    0.5,\n",
            "    0.5\n",
            "  ],\n",
            "  \"resample\": 2,\n",
            "  \"rescale_factor\": 0.00392156862745098,\n",
            "  \"size\": {\n",
            "    \"height\": 224,\n",
            "    \"width\": 224\n",
            "  }\n",
            "}\n",
            "\n"
          ]
        }
      ],
      "source": [
        "# Load the image processor from the pre-trained model\n",
        "processor = AutoImageProcessor.from_pretrained(model_path)\n",
        "print(processor)"
      ]
    },
    {
      "cell_type": "markdown",
      "metadata": {
        "id": "ndD-CzRNhoqI"
      },
      "source": [
        "### **Data Preparation and Processing Pipeline**"
      ]
    },
    {
      "cell_type": "markdown",
      "metadata": {
        "id": "mcnasYaXhoqI"
      },
      "source": [
        "Create mappings for label-to-ID and ID-to-label."
      ]
    },
    {
      "cell_type": "code",
      "execution_count": 9,
      "metadata": {
        "id": "Pts_ZeC4hoqI"
      },
      "outputs": [],
      "source": [
        "label2id = {c: idx for idx, c in enumerate(labels)}\n",
        "id2label = {idx: c for idx, c in enumerate(labels)}"
      ]
    },
    {
      "cell_type": "markdown",
      "metadata": {
        "id": "G8vi488AhoqJ"
      },
      "source": [
        "Define the transformation function to process the image batch."
      ]
    },
    {
      "cell_type": "code",
      "execution_count": 10,
      "metadata": {
        "id": "9m7IHmlHhoqJ"
      },
      "outputs": [],
      "source": [
        "def transforms(batch):\n",
        "    batch['image'] = [x.convert('RGB') for x in batch['image']]\n",
        "    inputs = processor(batch['image'], return_tensors='pt')\n",
        "    inputs['labels'] = batch['label']\n",
        "    return inputs"
      ]
    },
    {
      "cell_type": "markdown",
      "metadata": {
        "id": "7fGju_YfhoqJ"
      },
      "source": [
        "Define the custom collation function for batching pixel values and labels."
      ]
    },
    {
      "cell_type": "code",
      "execution_count": 11,
      "metadata": {
        "id": "obuWgu6UhoqJ"
      },
      "outputs": [],
      "source": [
        "def collate_fn(batch):\n",
        "    return {\n",
        "        'pixel_values': torch.stack([x['pixel_values'] for x in batch]),\n",
        "        'labels': torch.tensor([x['labels'] for x in batch])\n",
        "    }\n"
      ]
    },
    {
      "cell_type": "markdown",
      "metadata": {
        "id": "cQf9-A5ChoqJ"
      },
      "source": [
        "Define the function to compute accuracy during evaluation."
      ]
    },
    {
      "cell_type": "code",
      "execution_count": 12,
      "metadata": {
        "id": "441iE0EJhoqJ"
      },
      "outputs": [],
      "source": [
        "accuracy = evaluate.load('accuracy')\n",
        "\n",
        "def compute_metrics(eval_preds):\n",
        "    logits, labels = eval_preds\n",
        "    predictions = np.argmax(logits, axis=1)\n",
        "    return accuracy.compute(predictions=predictions, references=labels)\n"
      ]
    },
    {
      "cell_type": "markdown",
      "metadata": {
        "id": "V6pLC9gMhoqJ"
      },
      "source": [
        "### **Apply Data Transformations to Dataset**"
      ]
    },
    {
      "cell_type": "markdown",
      "metadata": {
        "id": "g8nsKUHXhoqJ"
      },
      "source": [
        "Apply the defined transformation function to the dataset for preprocessing. </br>\n",
        "Note: This assumes that data augmentation and normalization have already been handled in the previous pipeline and is ready for fine-tuning."
      ]
    },
    {
      "cell_type": "code",
      "execution_count": 13,
      "metadata": {
        "id": "JtI5fKF-hoqK"
      },
      "outputs": [],
      "source": [
        "processed_dataset = dataset.with_transform(transforms)"
      ]
    },
    {
      "cell_type": "markdown",
      "metadata": {
        "id": "ZBhs-45QhoqK"
      },
      "source": [
        "# **Model Initialization and Trainer Setup**"
      ]
    },
    {
      "cell_type": "markdown",
      "metadata": {
        "id": "uGQiqgz4hoqK"
      },
      "source": [
        "This section handles the initialization of the model, configuration of training parameters, and setting up the Trainer for fine-tuning, including the datasets, data processing, and evaluation metrics."
      ]
    },
    {
      "cell_type": "markdown",
      "metadata": {
        "id": "pwcjXMOShoqK"
      },
      "source": [
        "### **Initialize Pre-trained Model for Fine-tuning**"
      ]
    },
    {
      "cell_type": "markdown",
      "metadata": {
        "id": "kvdy0OCqhoqK"
      },
      "source": [
        "Load a pre-trained image classification model, configuring it with the correct label mappings and number of labels for the fine-tuning task."
      ]
    },
    {
      "cell_type": "code",
      "execution_count": 14,
      "metadata": {
        "id": "oA7vklgChoqK",
        "outputId": "67b92079-79ba-47c6-f401-beec5948e49a",
        "colab": {
          "base_uri": "https://localhost:8080/"
        }
      },
      "outputs": [
        {
          "output_type": "stream",
          "name": "stderr",
          "text": [
            "Some weights of ViTForImageClassification were not initialized from the model checkpoint at google/vit-base-patch16-224 and are newly initialized because the shapes did not match:\n",
            "- classifier.bias: found shape torch.Size([1000]) in the checkpoint and torch.Size([8]) in the model instantiated\n",
            "- classifier.weight: found shape torch.Size([1000, 768]) in the checkpoint and torch.Size([8, 768]) in the model instantiated\n",
            "You should probably TRAIN this model on a down-stream task to be able to use it for predictions and inference.\n"
          ]
        }
      ],
      "source": [
        "# Load pre-trained model and configure it for fine-tuning\n",
        "model = AutoModelForImageClassification.from_pretrained(\n",
        "    model_path,                  # Path to the pre-trained model\n",
        "    num_labels=len(labels),      # Set the number of labels for classification\n",
        "    id2label=id2label,           # Map from ID to label\n",
        "    label2id=label2id,           # Map from label to ID\n",
        "    ignore_mismatched_sizes=True # Ignore size mismatches in weights\n",
        ")"
      ]
    },
    {
      "cell_type": "markdown",
      "metadata": {
        "id": "pWoytmixhoqL"
      },
      "source": [
        "### **Check Model Parameters for Fine-tuning**"
      ]
    },
    {
      "cell_type": "markdown",
      "metadata": {
        "id": "_oxXs4VBhoqL"
      },
      "source": [
        "Unfreeze all layers of the model for full fine-tuning"
      ]
    },
    {
      "cell_type": "code",
      "execution_count": 15,
      "metadata": {
        "id": "4ABaneRjhoqL"
      },
      "outputs": [],
      "source": [
        "for param in model.parameters():\n",
        "    param.requires_grad = True"
      ]
    },
    {
      "cell_type": "markdown",
      "metadata": {
        "id": "UZCBbpSghoqL"
      },
      "source": [
        "We can check how many parameters are there in the model along with how many are actually going to be trained now."
      ]
    },
    {
      "cell_type": "code",
      "execution_count": 16,
      "metadata": {
        "id": "utgrV_nghoqL",
        "outputId": "ad726004-f6ff-4a7a-cb35-388ecc0dd536",
        "colab": {
          "base_uri": "https://localhost:8080/"
        }
      },
      "outputs": [
        {
          "output_type": "stream",
          "name": "stdout",
          "text": [
            "Total parameters: 85,804,808 | Trainable parameters: 85,804,808\n"
          ]
        }
      ],
      "source": [
        "num_params = sum(p.numel() for p in model.parameters())\n",
        "trainable_params = sum(p.numel() for p in model.parameters() if p.requires_grad)\n",
        "\n",
        "print(f\"Total parameters: {num_params:,} | Trainable parameters: {trainable_params:,}\")"
      ]
    },
    {
      "cell_type": "markdown",
      "metadata": {
        "id": "rXASOE0whoqL"
      },
      "source": [
        "### **Define Training Arguments**"
      ]
    },
    {
      "cell_type": "markdown",
      "metadata": {
        "id": "zk0esc5xYIQb"
      },
      "source": [
        "Set learning rate for the model layers, we use lower learning rate for finetuning the pretrained model weight, and higher weight for the classification layer."
      ]
    },
    {
      "cell_type": "code",
      "execution_count": 17,
      "metadata": {
        "id": "q3iSBlazbMrU",
        "outputId": "dcd70a85-14e6-4058-d4ce-b87b8c3fe607",
        "colab": {
          "base_uri": "https://localhost:8080/"
        }
      },
      "outputs": [
        {
          "output_type": "stream",
          "name": "stdout",
          "text": [
            "classifier.weight\n",
            "classifier.bias\n"
          ]
        }
      ],
      "source": [
        "for param in model.named_parameters():\n",
        "    if \"classifier\" in param[0]:\n",
        "        print(param[0])"
      ]
    },
    {
      "cell_type": "markdown",
      "metadata": {
        "id": "ciRVFVBGFZBj"
      },
      "source": [
        "### **Create LR Scheduler**"
      ]
    },
    {
      "cell_type": "code",
      "execution_count": 18,
      "metadata": {
        "id": "e4NIQsDZijTk",
        "outputId": "3868725f-b4a7-4dcf-9020-0245af9329a0",
        "colab": {
          "base_uri": "https://localhost:8080/"
        }
      },
      "outputs": [
        {
          "output_type": "stream",
          "name": "stderr",
          "text": [
            "/usr/local/lib/python3.11/dist-packages/transformers/optimization.py:591: FutureWarning: This implementation of AdamW is deprecated and will be removed in a future version. Use the PyTorch implementation torch.optim.AdamW instead, or set `no_deprecation_warning=True` to disable this warning\n",
            "  warnings.warn(\n"
          ]
        }
      ],
      "source": [
        "# Define different learning rates\n",
        "base_lr = 3e-5\n",
        "classifier_lr = 3e-4\n",
        "weight_decay = 0.1\n",
        "warmup_ratio = 0.1\n",
        "\n",
        "# Separate model parameters\n",
        "optimizer_grouped_parameters = [\n",
        "    {\n",
        "        \"params\": [p for n, p in model.named_parameters() if \"classifier\" not in n],\n",
        "        \"lr\": base_lr,\n",
        "        \"weight_decay\": weight_decay\n",
        "    },\n",
        "    {\n",
        "        \"params\": [p for n, p in model.named_parameters() if \"classifier\" in n],\n",
        "        \"lr\": classifier_lr,\n",
        "        \"weight_decay\": weight_decay\n",
        "    },\n",
        "]\n",
        "\n",
        "# Define optimizer with different learning rates\n",
        "optimizer = AdamW(optimizer_grouped_parameters)"
      ]
    },
    {
      "cell_type": "code",
      "source": [
        "batch_size = 64\n",
        "train_dataset_size = len(processed_dataset[\"train\"])\n",
        "\n",
        "# Calculate steps per epoch\n",
        "steps_per_epoch = max(1, train_dataset_size // batch_size)\n",
        "\n",
        "# Calculate logging steps (2 times per epoch)\n",
        "logging_steps = max(1, steps_per_epoch // 2)"
      ],
      "metadata": {
        "id": "0c4pX5k-VbPM"
      },
      "execution_count": 19,
      "outputs": []
    },
    {
      "cell_type": "markdown",
      "metadata": {
        "id": "LJCDpHAuhoqL"
      },
      "source": [
        "Set up the training configuration with parameters such as batch size, number of epochs, learning rate, and logging strategies for the fine-tuning process."
      ]
    },
    {
      "cell_type": "code",
      "execution_count": 20,
      "metadata": {
        "id": "p5qtHrZfhoqL"
      },
      "outputs": [],
      "source": [
        "training_args = TrainingArguments(\n",
        "    num_train_epochs=train_epochs,              # Number of training epochs\n",
        "    per_device_train_batch_size=batch_size,     # Batch size for training\n",
        "    per_device_eval_batch_size=batch_size,      # Batch size for evaluation\n",
        "\n",
        "    fp16=True,                                  # Use mixed precision training\n",
        "    warmup_ratio=warmup_ratio,                  # Warmup ratio for learning rate scheduler\n",
        "    weight_decay=weight_decay,                  # Weight decay for regularization\n",
        "    lr_scheduler_type='cosine_with_restarts',   # Learning rate scheduler type\n",
        "    lr_scheduler_kwargs = { \"num_cycles\": 4 },  # Number of cycles for learning rate scheduler\n",
        "\n",
        "    save_total_limit=3,                         # Limit the number of saved models\n",
        "    report_to=['tensorboard'],                  # Log to TensorBoard\n",
        "    save_strategy=\"steps\",                      # Save strategy\n",
        "    eval_strategy=\"steps\",                      # Evaluation strategy\n",
        "    logging_strategy=\"steps\",                   # Logging strategy\n",
        "    save_steps=logging_steps,                   # Save steps\n",
        "    eval_steps=logging_steps,                   # Evaluation steps\n",
        "    logging_steps=logging_steps,                # Logging steps\n",
        "    logging_dir=logging_dir,                    # Directory for logging\n",
        "    output_dir=output_dir,                      # Directory for saving outputs\n",
        "\n",
        "    remove_unused_columns=False,                # Retain unused columns in the dataset\n",
        "    load_best_model_at_end=True,                # Load best model at the end of training\n",
        "    metric_for_best_model=\"eval_loss\",          # Specify the metric to track\n",
        "    greater_is_better=False,                    # For loss, lower is better\n",
        "    push_to_hub=True,                           # Push model to Hugging Face Hub\n",
        ")"
      ]
    },
    {
      "cell_type": "markdown",
      "metadata": {
        "id": "COxN1-tnhHQx"
      },
      "source": [
        "### **Trainer Callback**"
      ]
    },
    {
      "cell_type": "code",
      "execution_count": 21,
      "metadata": {
        "id": "DegSET8xhMfO"
      },
      "outputs": [],
      "source": [
        "class CustomSaveCallback(TrainerCallback):\n",
        "    def __init__(self, trainer):\n",
        "        self.trainer = trainer\n",
        "\n",
        "    def on_epoch_end(self, args, state, control, **kwargs):\n",
        "      drive_id = \"0AND7L-n1cnFpUk9PVA\"\n",
        "      try:\n",
        "          drive_service.files().emptyTrash(driveId=drive_id).execute()\n",
        "      except Exception as e:\n",
        "          print(f\"Error: {e}\")\n",
        "\n",
        "\n",
        "    def on_evaluate(self, args, state, control, **kwargs):\n",
        "        previous_logs = state.log_history[-2:]\n",
        "        new_logs = {k: v for log in previous_logs for k, v in log.items()}\n",
        "\n",
        "        new_logs[\"timestamp\"] = datetime.now().strftime(\"%Y-%m-%d %H:%M:%S\")\n",
        "\n",
        "        # Add GPU VRAM usage details (in MB)\n",
        "        if torch.cuda.is_available():\n",
        "            new_logs[\"gpu_vram_allocated_mb\"] = torch.cuda.memory_allocated() / (1024 ** 2)\n",
        "            new_logs[\"gpu_vram_reserved_mb\"] = torch.cuda.memory_reserved() / (1024 ** 2)\n",
        "        else:\n",
        "            new_logs[\"gpu_vram_allocated_mb\"] = None\n",
        "            new_logs[\"gpu_vram_reserved_mb\"] = None\n",
        "\n",
        "        # Read the existing Excel file, if it exists\n",
        "        if os.path.exists(metrics_dir):\n",
        "            try:\n",
        "                df_existing = pd.read_excel(metrics_dir)\n",
        "            except Exception as e:\n",
        "                print(f\"Error reading {metrics_dir}: {e}\")\n",
        "                df_existing = pd.DataFrame()\n",
        "        else:\n",
        "            df_existing = pd.DataFrame()\n",
        "\n",
        "        # Check if this epoch's record already exists; if yes, update it; otherwise, append.\n",
        "        if not df_existing.empty and (df_existing[\"epoch\"] == new_logs[\"epoch\"]).any():\n",
        "            df_existing.loc[df_existing[\"epoch\"] == new_logs[\"epoch\"], new_logs.keys()] = new_logs.values()\n",
        "            df_to_save = df_existing\n",
        "        else:\n",
        "            df_new = pd.DataFrame([new_logs])\n",
        "            df_to_save = pd.concat([df_existing, df_new], ignore_index=True)\n",
        "\n",
        "        # Save the updated DataFrame back to Excel\n",
        "        df_to_save.to_excel(metrics_dir, index=False)\n",
        "        return control"
      ]
    },
    {
      "cell_type": "markdown",
      "metadata": {
        "id": "wlL9vod3hoqM"
      },
      "source": [
        "### **Initialize Trainer**"
      ]
    },
    {
      "cell_type": "markdown",
      "metadata": {
        "id": "4WIxCidRhoqM"
      },
      "source": [
        "Initialize the Trainer object with the model, training arguments, data collator, metrics computation, and datasets for training and evaluation."
      ]
    },
    {
      "cell_type": "code",
      "execution_count": 22,
      "metadata": {
        "id": "4BZs-e_ihoqM",
        "outputId": "e519ed05-948c-485f-fb56-7d85890a7466",
        "colab": {
          "base_uri": "https://localhost:8080/"
        }
      },
      "outputs": [
        {
          "output_type": "stream",
          "name": "stderr",
          "text": [
            "<ipython-input-22-79acf841a8d7>:1: FutureWarning: `tokenizer` is deprecated and will be removed in version 5.0.0 for `Trainer.__init__`. Use `processing_class` instead.\n",
            "  trainer = Trainer(\n"
          ]
        }
      ],
      "source": [
        "trainer = Trainer(\n",
        "    model=model,\n",
        "    args=training_args,\n",
        "    data_collator=collate_fn,\n",
        "    optimizers=(optimizer, None),\n",
        "    compute_metrics=compute_metrics,\n",
        "    train_dataset=processed_dataset[\"train\"],\n",
        "    eval_dataset=processed_dataset[\"validation\"],\n",
        "    tokenizer=processor,\n",
        "    callbacks=[CustomSaveCallback(trainer=None)]\n",
        ")\n",
        "\n",
        "# Update callback with trainer instance\n",
        "trainer.callback_handler.callbacks[0].trainer = trainer"
      ]
    },
    {
      "cell_type": "markdown",
      "metadata": {
        "id": "-QDwYychzRKJ"
      },
      "source": [
        "### **Create Model Card**"
      ]
    },
    {
      "cell_type": "code",
      "execution_count": 23,
      "metadata": {
        "id": "hAAWcGE7zQKG"
      },
      "outputs": [],
      "source": [
        "trainer.create_model_card(\n",
        "    language=\"en\",\n",
        "    license=\"MIT\",\n",
        "    tags=[\"image-classification\", \"fine-tuning\"],\n",
        "    model_name=model_name,\n",
        "    finetuned_from=base_model_name,\n",
        "    tasks=[\"image-classification\"],\n",
        "    dataset_tags=[\"image\", \"rice-leaf_disease\"],\n",
        "    dataset=dataset_name,\n",
        "    dataset_args=[\"size: 224x224\", \"augmentation: true\"],\n",
        ")"
      ]
    },
    {
      "cell_type": "markdown",
      "metadata": {
        "id": "mKTTEbPnhoqM"
      },
      "source": [
        "# **Model Training and Evaluation**"
      ]
    },
    {
      "cell_type": "markdown",
      "metadata": {
        "id": "ZAJPXDR5hoqM"
      },
      "source": [
        "### **Start Fine-tuning Process**"
      ]
    },
    {
      "cell_type": "markdown",
      "metadata": {
        "id": "t4e3GyJVhoqM"
      },
      "source": [
        "Initiates the fine-tuning of the model using the Trainer, applying the specified training configurations, such as the batch size, learning rate, and number of epochs. During training, the model will be evaluated at the end of each epoch on the validation dataset using the compute_metrics function, which calculates accuracy."
      ]
    },
    {
      "cell_type": "markdown",
      "metadata": {
        "id": "wcnPa_OdhoqM"
      },
      "source": [
        "The model will undergo the following process during fine-tuning:\n",
        "- **Training**: The model will be trained on the training dataset for the specified number of epochs.\n",
        "- **Evaluation**: After each epoch, the model will be evaluated on the validation dataset, and accuracy will be computed using the compute_metrics function.\n",
        "- **Metrics Logging**: The training progress and evaluation results will be logged to TensorBoard and can be monitored during training."
      ]
    },
    {
      "cell_type": "code",
      "execution_count": 24,
      "metadata": {
        "id": "3UtinFHahoqN",
        "outputId": "5419c546-231b-446b-fe01-7390f41037c5",
        "colab": {
          "base_uri": "https://localhost:8080/",
          "height": 606
        }
      },
      "outputs": [
        {
          "output_type": "stream",
          "name": "stdout",
          "text": [
            "Training vit-base-patch16-224_rice-leaf-disease-augmented-v4_fft on rice-leaf-disease-augmented-v4 dataset...\n"
          ]
        },
        {
          "output_type": "stream",
          "name": "stderr",
          "text": [
            "/usr/local/lib/python3.11/dist-packages/transformers/trainer.py:3441: FutureWarning: You are using `torch.load` with `weights_only=False` (the current default value), which uses the default pickle module implicitly. It is possible to construct malicious pickle data which will execute arbitrary code during unpickling (See https://github.com/pytorch/pytorch/blob/main/SECURITY.md#untrusted-models for more details). In a future release, the default value for `weights_only` will be flipped to `True`. This limits the functions that could be executed during unpickling. Arbitrary objects will no longer be allowed to be loaded via this mode unless they are explicitly allowlisted by the user via `torch.serialization.add_safe_globals`. We recommend you start setting `weights_only=True` for any use case where you don't have full control of the loaded file. Please open an issue on GitHub for any issues related to this experimental feature.\n",
            "  torch.load(os.path.join(checkpoint, OPTIMIZER_NAME), map_location=map_location)\n",
            "/usr/local/lib/python3.11/dist-packages/transformers/trainer.py:3105: FutureWarning: You are using `torch.load` with `weights_only=False` (the current default value), which uses the default pickle module implicitly. It is possible to construct malicious pickle data which will execute arbitrary code during unpickling (See https://github.com/pytorch/pytorch/blob/main/SECURITY.md#untrusted-models for more details). In a future release, the default value for `weights_only` will be flipped to `True`. This limits the functions that could be executed during unpickling. Arbitrary objects will no longer be allowed to be loaded via this mode unless they are explicitly allowlisted by the user via `torch.serialization.add_safe_globals`. We recommend you start setting `weights_only=True` for any use case where you don't have full control of the loaded file. Please open an issue on GitHub for any issues related to this experimental feature.\n",
            "  checkpoint_rng_state = torch.load(rng_file)\n"
          ]
        },
        {
          "output_type": "display_data",
          "data": {
            "text/plain": [
              "<IPython.core.display.HTML object>"
            ],
            "text/html": [
              "\n",
              "    <div>\n",
              "      \n",
              "      <progress value='1920' max='1920' style='width:300px; height:20px; vertical-align: middle;'></progress>\n",
              "      [1920/1920 46:05, Epoch 15/15]\n",
              "    </div>\n",
              "    <table border=\"1\" class=\"dataframe\">\n",
              "  <thead>\n",
              " <tr style=\"text-align: left;\">\n",
              "      <th>Step</th>\n",
              "      <th>Training Loss</th>\n",
              "      <th>Validation Loss</th>\n",
              "      <th>Accuracy</th>\n",
              "    </tr>\n",
              "  </thead>\n",
              "  <tbody>\n",
              "    <tr>\n",
              "      <td>1088</td>\n",
              "      <td>0.000400</td>\n",
              "      <td>0.210764</td>\n",
              "      <td>0.956376</td>\n",
              "    </tr>\n",
              "    <tr>\n",
              "      <td>1152</td>\n",
              "      <td>0.000300</td>\n",
              "      <td>0.210471</td>\n",
              "      <td>0.956376</td>\n",
              "    </tr>\n",
              "    <tr>\n",
              "      <td>1216</td>\n",
              "      <td>0.000300</td>\n",
              "      <td>0.208620</td>\n",
              "      <td>0.956376</td>\n",
              "    </tr>\n",
              "    <tr>\n",
              "      <td>1280</td>\n",
              "      <td>0.000200</td>\n",
              "      <td>0.212875</td>\n",
              "      <td>0.956376</td>\n",
              "    </tr>\n",
              "    <tr>\n",
              "      <td>1344</td>\n",
              "      <td>0.000200</td>\n",
              "      <td>0.213887</td>\n",
              "      <td>0.956376</td>\n",
              "    </tr>\n",
              "    <tr>\n",
              "      <td>1408</td>\n",
              "      <td>0.000200</td>\n",
              "      <td>0.214005</td>\n",
              "      <td>0.956376</td>\n",
              "    </tr>\n",
              "    <tr>\n",
              "      <td>1472</td>\n",
              "      <td>0.000200</td>\n",
              "      <td>0.214072</td>\n",
              "      <td>0.956376</td>\n",
              "    </tr>\n",
              "    <tr>\n",
              "      <td>1536</td>\n",
              "      <td>0.000200</td>\n",
              "      <td>0.217025</td>\n",
              "      <td>0.956376</td>\n",
              "    </tr>\n",
              "    <tr>\n",
              "      <td>1600</td>\n",
              "      <td>0.000200</td>\n",
              "      <td>0.214918</td>\n",
              "      <td>0.956376</td>\n",
              "    </tr>\n",
              "    <tr>\n",
              "      <td>1664</td>\n",
              "      <td>0.000200</td>\n",
              "      <td>0.219340</td>\n",
              "      <td>0.956376</td>\n",
              "    </tr>\n",
              "    <tr>\n",
              "      <td>1728</td>\n",
              "      <td>0.000100</td>\n",
              "      <td>0.218695</td>\n",
              "      <td>0.956376</td>\n",
              "    </tr>\n",
              "    <tr>\n",
              "      <td>1792</td>\n",
              "      <td>0.000100</td>\n",
              "      <td>0.219730</td>\n",
              "      <td>0.956376</td>\n",
              "    </tr>\n",
              "    <tr>\n",
              "      <td>1856</td>\n",
              "      <td>0.000100</td>\n",
              "      <td>0.219407</td>\n",
              "      <td>0.956376</td>\n",
              "    </tr>\n",
              "    <tr>\n",
              "      <td>1920</td>\n",
              "      <td>0.000100</td>\n",
              "      <td>0.219541</td>\n",
              "      <td>0.956376</td>\n",
              "    </tr>\n",
              "  </tbody>\n",
              "</table><p>"
            ]
          },
          "metadata": {}
        }
      ],
      "source": [
        "print(f\"Training {model_name} on {dataset_name} dataset...\")\n",
        "train_results = trainer.train(resume_from_checkpoint=resume_from_checkpoint)"
      ]
    },
    {
      "cell_type": "markdown",
      "metadata": {
        "id": "Z0rVejNWhoqN"
      },
      "source": [
        "### **Save Model and Training State**"
      ]
    },
    {
      "cell_type": "markdown",
      "metadata": {
        "id": "KMk4PRTEhoqN"
      },
      "source": [
        "After the training process, the model and relevant training state are saved. This includes saving the model weights, training metrics, and the state of the trainer, ensuring that training progress can be restored if needed."
      ]
    },
    {
      "cell_type": "code",
      "execution_count": 25,
      "metadata": {
        "id": "-ePRfHBmhoqN",
        "outputId": "78114dc7-0031-4d42-e492-fc8befcd16bf",
        "colab": {
          "base_uri": "https://localhost:8080/",
          "height": 329,
          "referenced_widgets": [
            "4a5f0d6866ab49f387fa36974f7fdbb4",
            "8cfba3e317e548caa77d0f20a764ea2c",
            "35146659053345478d83c90c8044ac82",
            "8cef66a91f8c4d33998fd603670b73cd",
            "1a3eb197b0494b9a929dc1572a9bbe86",
            "d4f3cda7898a4a4a9d89d5807125ec7a",
            "f77328ac15f048d58e0e668df008ec1d",
            "ae522988e86543cb8b7470dfae8eda5d",
            "38f4b04cefe5448e84d661f39faa0c5f",
            "ab6182089c004bc3959d907d1f36ed5f",
            "063023e85b6549518e787ed4ac5266ea",
            "5018e3ad394b4999887599980a887e44",
            "6de2b51f179e413f947275f585856070",
            "9e614dbe31c641b390993068a5e3b416",
            "022fcbe06b9244ada4f36db9cc331fd2",
            "7af37c3e0e314804a5fd4cbc91b34de7",
            "662b67cc1ae048c8b3f0acf88aa72dc0",
            "2a56549b6f484463b3432e25eab0cbc9",
            "91d8d74bbee94374b597df6c939c134e",
            "a23388dd08ee40339a3ee7070397dfa5",
            "fb1d92a594714e30a45d8b223f401f76",
            "f92d01e82b7846ef9f627bbbec83f8c6",
            "d7b2cd2a8bb34cdaa8be53956710b3a7",
            "4b69c8c19cb642a88140cd248b350a10",
            "49167594f95e4e7aa0912951245de3ec",
            "2693a6a8aeb04402829eeff945fc0008",
            "d980df4ea3a84044b129144257325020",
            "c94a587028604aa992f01e01f3a809b0",
            "2fb6bf1bd50e45fa81f1e94b764e3467",
            "bffa3c3162344770b33077ad51d903a0",
            "31e0f2dda36446e1bdbc265ecc7dbb1a",
            "99823f7a7309468aa07572103231aa1e",
            "2cb80bed18f8433a8506f882c6d0cf42",
            "fbde3f0d269341159b84d5bbf331dbf6",
            "eac06275d2ed4c7e9fc419f914f424a7",
            "45aaa0861cfd42929838a34a99b6fd31",
            "08420e267ab54883bfc225673440bd72",
            "d145c33c355043cc9054a91783e38b1c",
            "518518ea6fc34e629e0ba717302263d0",
            "30ecce2bab894a20bfa3398bd71468f8",
            "ada8d1dbe0dd4c098bfd5ec2312b561d",
            "b293e619e8274043afa4ceb27051ba26",
            "238430a1b6204cb79839df54fb224cd9",
            "87344513d017400c9b97fdd397789087",
            "08b37cf90775499bbfefee465b4d78ed",
            "21c10c4a42c44936b4908b91673da19c",
            "bd5c631ff5684f55bc6cd4a15f0b0fea",
            "27a4892256c74412ba6072ffe52ff3eb",
            "2d9e2362722144e78294b4794c96d35b",
            "2fe58264a39349fa94f51ab4ed7e601e",
            "6cf771f9e4e54f88be55b8cf4a910103",
            "12be259499354336b552875187e83b77",
            "84a78267b42b4a3c8a75b8b4f11a956c",
            "7cc5c9fd902541a49a030624840ecdce",
            "262982394ae243f5bc5de1e86c6f4200"
          ]
        }
      },
      "outputs": [
        {
          "output_type": "display_data",
          "data": {
            "text/plain": [
              "Upload 4 LFS files:   0%|          | 0/4 [00:00<?, ?it/s]"
            ],
            "application/vnd.jupyter.widget-view+json": {
              "version_major": 2,
              "version_minor": 0,
              "model_id": "4a5f0d6866ab49f387fa36974f7fdbb4"
            }
          },
          "metadata": {}
        },
        {
          "output_type": "display_data",
          "data": {
            "text/plain": [
              "events.out.tfevents.1741776709.09e888ac0773.17137.0:   0%|          | 0.00/13.5k [00:00<?, ?B/s]"
            ],
            "application/vnd.jupyter.widget-view+json": {
              "version_major": 2,
              "version_minor": 0,
              "model_id": "5018e3ad394b4999887599980a887e44"
            }
          },
          "metadata": {}
        },
        {
          "output_type": "display_data",
          "data": {
            "text/plain": [
              "training_args.bin:   0%|          | 0.00/5.50k [00:00<?, ?B/s]"
            ],
            "application/vnd.jupyter.widget-view+json": {
              "version_major": 2,
              "version_minor": 0,
              "model_id": "d7b2cd2a8bb34cdaa8be53956710b3a7"
            }
          },
          "metadata": {}
        },
        {
          "output_type": "display_data",
          "data": {
            "text/plain": [
              "events.out.tfevents.1741773472.09e888ac0773.3751.0:   0%|          | 0.00/14.2k [00:00<?, ?B/s]"
            ],
            "application/vnd.jupyter.widget-view+json": {
              "version_major": 2,
              "version_minor": 0,
              "model_id": "fbde3f0d269341159b84d5bbf331dbf6"
            }
          },
          "metadata": {}
        },
        {
          "output_type": "display_data",
          "data": {
            "text/plain": [
              "model.safetensors:   0%|          | 0.00/343M [00:00<?, ?B/s]"
            ],
            "application/vnd.jupyter.widget-view+json": {
              "version_major": 2,
              "version_minor": 0,
              "model_id": "08b37cf90775499bbfefee465b4d78ed"
            }
          },
          "metadata": {}
        },
        {
          "output_type": "stream",
          "name": "stdout",
          "text": [
            "***** train metrics *****\n",
            "  epoch                    =         15.0\n",
            "  total_flos               = 8868731326GF\n",
            "  train_loss               =       0.0001\n",
            "  train_runtime            =   0:46:16.86\n",
            "  train_samples_per_second =       44.251\n",
            "  train_steps_per_second   =        0.691\n",
            "{'train_runtime': 2776.8645, 'train_samples_per_second': 44.251, 'train_steps_per_second': 0.691, 'total_flos': 9.522727751484703e+18, 'train_loss': 9.667842338482539e-05, 'epoch': 15.0}\n"
          ]
        }
      ],
      "source": [
        "# Save the trained model\n",
        "trainer.save_model()\n",
        "\n",
        "# Log and save training metrics for later reference\n",
        "trainer.log_metrics(\"train\", train_results.metrics)\n",
        "trainer.save_metrics(\"train\", train_results.metrics)\n",
        "print(train_results.metrics)\n",
        "\n",
        "# Save the state of the trainer, including configuration and optimizer state\n",
        "trainer.save_state()"
      ]
    }
  ],
  "metadata": {
    "accelerator": "GPU",
    "colab": {
      "gpuType": "T4",
      "provenance": []
    },
    "kernelspec": {
      "display_name": "Python 3",
      "name": "python3"
    },
    "language_info": {
      "codemirror_mode": {
        "name": "ipython",
        "version": 3
      },
      "file_extension": ".py",
      "mimetype": "text/x-python",
      "name": "python",
      "nbconvert_exporter": "python",
      "pygments_lexer": "ipython3",
      "version": "3.12.5"
    },
    "widgets": {
      "application/vnd.jupyter.widget-state+json": {
        "4a5f0d6866ab49f387fa36974f7fdbb4": {
          "model_module": "@jupyter-widgets/controls",
          "model_name": "HBoxModel",
          "model_module_version": "1.5.0",
          "state": {
            "_dom_classes": [],
            "_model_module": "@jupyter-widgets/controls",
            "_model_module_version": "1.5.0",
            "_model_name": "HBoxModel",
            "_view_count": null,
            "_view_module": "@jupyter-widgets/controls",
            "_view_module_version": "1.5.0",
            "_view_name": "HBoxView",
            "box_style": "",
            "children": [
              "IPY_MODEL_8cfba3e317e548caa77d0f20a764ea2c",
              "IPY_MODEL_35146659053345478d83c90c8044ac82",
              "IPY_MODEL_8cef66a91f8c4d33998fd603670b73cd"
            ],
            "layout": "IPY_MODEL_1a3eb197b0494b9a929dc1572a9bbe86"
          }
        },
        "8cfba3e317e548caa77d0f20a764ea2c": {
          "model_module": "@jupyter-widgets/controls",
          "model_name": "HTMLModel",
          "model_module_version": "1.5.0",
          "state": {
            "_dom_classes": [],
            "_model_module": "@jupyter-widgets/controls",
            "_model_module_version": "1.5.0",
            "_model_name": "HTMLModel",
            "_view_count": null,
            "_view_module": "@jupyter-widgets/controls",
            "_view_module_version": "1.5.0",
            "_view_name": "HTMLView",
            "description": "",
            "description_tooltip": null,
            "layout": "IPY_MODEL_d4f3cda7898a4a4a9d89d5807125ec7a",
            "placeholder": "​",
            "style": "IPY_MODEL_f77328ac15f048d58e0e668df008ec1d",
            "value": "Upload 4 LFS files: 100%"
          }
        },
        "35146659053345478d83c90c8044ac82": {
          "model_module": "@jupyter-widgets/controls",
          "model_name": "FloatProgressModel",
          "model_module_version": "1.5.0",
          "state": {
            "_dom_classes": [],
            "_model_module": "@jupyter-widgets/controls",
            "_model_module_version": "1.5.0",
            "_model_name": "FloatProgressModel",
            "_view_count": null,
            "_view_module": "@jupyter-widgets/controls",
            "_view_module_version": "1.5.0",
            "_view_name": "ProgressView",
            "bar_style": "success",
            "description": "",
            "description_tooltip": null,
            "layout": "IPY_MODEL_ae522988e86543cb8b7470dfae8eda5d",
            "max": 4,
            "min": 0,
            "orientation": "horizontal",
            "style": "IPY_MODEL_38f4b04cefe5448e84d661f39faa0c5f",
            "value": 4
          }
        },
        "8cef66a91f8c4d33998fd603670b73cd": {
          "model_module": "@jupyter-widgets/controls",
          "model_name": "HTMLModel",
          "model_module_version": "1.5.0",
          "state": {
            "_dom_classes": [],
            "_model_module": "@jupyter-widgets/controls",
            "_model_module_version": "1.5.0",
            "_model_name": "HTMLModel",
            "_view_count": null,
            "_view_module": "@jupyter-widgets/controls",
            "_view_module_version": "1.5.0",
            "_view_name": "HTMLView",
            "description": "",
            "description_tooltip": null,
            "layout": "IPY_MODEL_ab6182089c004bc3959d907d1f36ed5f",
            "placeholder": "​",
            "style": "IPY_MODEL_063023e85b6549518e787ed4ac5266ea",
            "value": " 4/4 [00:18&lt;00:00,  6.89s/it]"
          }
        },
        "1a3eb197b0494b9a929dc1572a9bbe86": {
          "model_module": "@jupyter-widgets/base",
          "model_name": "LayoutModel",
          "model_module_version": "1.2.0",
          "state": {
            "_model_module": "@jupyter-widgets/base",
            "_model_module_version": "1.2.0",
            "_model_name": "LayoutModel",
            "_view_count": null,
            "_view_module": "@jupyter-widgets/base",
            "_view_module_version": "1.2.0",
            "_view_name": "LayoutView",
            "align_content": null,
            "align_items": null,
            "align_self": null,
            "border": null,
            "bottom": null,
            "display": null,
            "flex": null,
            "flex_flow": null,
            "grid_area": null,
            "grid_auto_columns": null,
            "grid_auto_flow": null,
            "grid_auto_rows": null,
            "grid_column": null,
            "grid_gap": null,
            "grid_row": null,
            "grid_template_areas": null,
            "grid_template_columns": null,
            "grid_template_rows": null,
            "height": null,
            "justify_content": null,
            "justify_items": null,
            "left": null,
            "margin": null,
            "max_height": null,
            "max_width": null,
            "min_height": null,
            "min_width": null,
            "object_fit": null,
            "object_position": null,
            "order": null,
            "overflow": null,
            "overflow_x": null,
            "overflow_y": null,
            "padding": null,
            "right": null,
            "top": null,
            "visibility": null,
            "width": null
          }
        },
        "d4f3cda7898a4a4a9d89d5807125ec7a": {
          "model_module": "@jupyter-widgets/base",
          "model_name": "LayoutModel",
          "model_module_version": "1.2.0",
          "state": {
            "_model_module": "@jupyter-widgets/base",
            "_model_module_version": "1.2.0",
            "_model_name": "LayoutModel",
            "_view_count": null,
            "_view_module": "@jupyter-widgets/base",
            "_view_module_version": "1.2.0",
            "_view_name": "LayoutView",
            "align_content": null,
            "align_items": null,
            "align_self": null,
            "border": null,
            "bottom": null,
            "display": null,
            "flex": null,
            "flex_flow": null,
            "grid_area": null,
            "grid_auto_columns": null,
            "grid_auto_flow": null,
            "grid_auto_rows": null,
            "grid_column": null,
            "grid_gap": null,
            "grid_row": null,
            "grid_template_areas": null,
            "grid_template_columns": null,
            "grid_template_rows": null,
            "height": null,
            "justify_content": null,
            "justify_items": null,
            "left": null,
            "margin": null,
            "max_height": null,
            "max_width": null,
            "min_height": null,
            "min_width": null,
            "object_fit": null,
            "object_position": null,
            "order": null,
            "overflow": null,
            "overflow_x": null,
            "overflow_y": null,
            "padding": null,
            "right": null,
            "top": null,
            "visibility": null,
            "width": null
          }
        },
        "f77328ac15f048d58e0e668df008ec1d": {
          "model_module": "@jupyter-widgets/controls",
          "model_name": "DescriptionStyleModel",
          "model_module_version": "1.5.0",
          "state": {
            "_model_module": "@jupyter-widgets/controls",
            "_model_module_version": "1.5.0",
            "_model_name": "DescriptionStyleModel",
            "_view_count": null,
            "_view_module": "@jupyter-widgets/base",
            "_view_module_version": "1.2.0",
            "_view_name": "StyleView",
            "description_width": ""
          }
        },
        "ae522988e86543cb8b7470dfae8eda5d": {
          "model_module": "@jupyter-widgets/base",
          "model_name": "LayoutModel",
          "model_module_version": "1.2.0",
          "state": {
            "_model_module": "@jupyter-widgets/base",
            "_model_module_version": "1.2.0",
            "_model_name": "LayoutModel",
            "_view_count": null,
            "_view_module": "@jupyter-widgets/base",
            "_view_module_version": "1.2.0",
            "_view_name": "LayoutView",
            "align_content": null,
            "align_items": null,
            "align_self": null,
            "border": null,
            "bottom": null,
            "display": null,
            "flex": null,
            "flex_flow": null,
            "grid_area": null,
            "grid_auto_columns": null,
            "grid_auto_flow": null,
            "grid_auto_rows": null,
            "grid_column": null,
            "grid_gap": null,
            "grid_row": null,
            "grid_template_areas": null,
            "grid_template_columns": null,
            "grid_template_rows": null,
            "height": null,
            "justify_content": null,
            "justify_items": null,
            "left": null,
            "margin": null,
            "max_height": null,
            "max_width": null,
            "min_height": null,
            "min_width": null,
            "object_fit": null,
            "object_position": null,
            "order": null,
            "overflow": null,
            "overflow_x": null,
            "overflow_y": null,
            "padding": null,
            "right": null,
            "top": null,
            "visibility": null,
            "width": null
          }
        },
        "38f4b04cefe5448e84d661f39faa0c5f": {
          "model_module": "@jupyter-widgets/controls",
          "model_name": "ProgressStyleModel",
          "model_module_version": "1.5.0",
          "state": {
            "_model_module": "@jupyter-widgets/controls",
            "_model_module_version": "1.5.0",
            "_model_name": "ProgressStyleModel",
            "_view_count": null,
            "_view_module": "@jupyter-widgets/base",
            "_view_module_version": "1.2.0",
            "_view_name": "StyleView",
            "bar_color": null,
            "description_width": ""
          }
        },
        "ab6182089c004bc3959d907d1f36ed5f": {
          "model_module": "@jupyter-widgets/base",
          "model_name": "LayoutModel",
          "model_module_version": "1.2.0",
          "state": {
            "_model_module": "@jupyter-widgets/base",
            "_model_module_version": "1.2.0",
            "_model_name": "LayoutModel",
            "_view_count": null,
            "_view_module": "@jupyter-widgets/base",
            "_view_module_version": "1.2.0",
            "_view_name": "LayoutView",
            "align_content": null,
            "align_items": null,
            "align_self": null,
            "border": null,
            "bottom": null,
            "display": null,
            "flex": null,
            "flex_flow": null,
            "grid_area": null,
            "grid_auto_columns": null,
            "grid_auto_flow": null,
            "grid_auto_rows": null,
            "grid_column": null,
            "grid_gap": null,
            "grid_row": null,
            "grid_template_areas": null,
            "grid_template_columns": null,
            "grid_template_rows": null,
            "height": null,
            "justify_content": null,
            "justify_items": null,
            "left": null,
            "margin": null,
            "max_height": null,
            "max_width": null,
            "min_height": null,
            "min_width": null,
            "object_fit": null,
            "object_position": null,
            "order": null,
            "overflow": null,
            "overflow_x": null,
            "overflow_y": null,
            "padding": null,
            "right": null,
            "top": null,
            "visibility": null,
            "width": null
          }
        },
        "063023e85b6549518e787ed4ac5266ea": {
          "model_module": "@jupyter-widgets/controls",
          "model_name": "DescriptionStyleModel",
          "model_module_version": "1.5.0",
          "state": {
            "_model_module": "@jupyter-widgets/controls",
            "_model_module_version": "1.5.0",
            "_model_name": "DescriptionStyleModel",
            "_view_count": null,
            "_view_module": "@jupyter-widgets/base",
            "_view_module_version": "1.2.0",
            "_view_name": "StyleView",
            "description_width": ""
          }
        },
        "5018e3ad394b4999887599980a887e44": {
          "model_module": "@jupyter-widgets/controls",
          "model_name": "HBoxModel",
          "model_module_version": "1.5.0",
          "state": {
            "_dom_classes": [],
            "_model_module": "@jupyter-widgets/controls",
            "_model_module_version": "1.5.0",
            "_model_name": "HBoxModel",
            "_view_count": null,
            "_view_module": "@jupyter-widgets/controls",
            "_view_module_version": "1.5.0",
            "_view_name": "HBoxView",
            "box_style": "",
            "children": [
              "IPY_MODEL_6de2b51f179e413f947275f585856070",
              "IPY_MODEL_9e614dbe31c641b390993068a5e3b416",
              "IPY_MODEL_022fcbe06b9244ada4f36db9cc331fd2"
            ],
            "layout": "IPY_MODEL_7af37c3e0e314804a5fd4cbc91b34de7"
          }
        },
        "6de2b51f179e413f947275f585856070": {
          "model_module": "@jupyter-widgets/controls",
          "model_name": "HTMLModel",
          "model_module_version": "1.5.0",
          "state": {
            "_dom_classes": [],
            "_model_module": "@jupyter-widgets/controls",
            "_model_module_version": "1.5.0",
            "_model_name": "HTMLModel",
            "_view_count": null,
            "_view_module": "@jupyter-widgets/controls",
            "_view_module_version": "1.5.0",
            "_view_name": "HTMLView",
            "description": "",
            "description_tooltip": null,
            "layout": "IPY_MODEL_662b67cc1ae048c8b3f0acf88aa72dc0",
            "placeholder": "​",
            "style": "IPY_MODEL_2a56549b6f484463b3432e25eab0cbc9",
            "value": "events.out.tfevents.1741776709.09e888ac0773.17137.0: 100%"
          }
        },
        "9e614dbe31c641b390993068a5e3b416": {
          "model_module": "@jupyter-widgets/controls",
          "model_name": "FloatProgressModel",
          "model_module_version": "1.5.0",
          "state": {
            "_dom_classes": [],
            "_model_module": "@jupyter-widgets/controls",
            "_model_module_version": "1.5.0",
            "_model_name": "FloatProgressModel",
            "_view_count": null,
            "_view_module": "@jupyter-widgets/controls",
            "_view_module_version": "1.5.0",
            "_view_name": "ProgressView",
            "bar_style": "success",
            "description": "",
            "description_tooltip": null,
            "layout": "IPY_MODEL_91d8d74bbee94374b597df6c939c134e",
            "max": 13508,
            "min": 0,
            "orientation": "horizontal",
            "style": "IPY_MODEL_a23388dd08ee40339a3ee7070397dfa5",
            "value": 13508
          }
        },
        "022fcbe06b9244ada4f36db9cc331fd2": {
          "model_module": "@jupyter-widgets/controls",
          "model_name": "HTMLModel",
          "model_module_version": "1.5.0",
          "state": {
            "_dom_classes": [],
            "_model_module": "@jupyter-widgets/controls",
            "_model_module_version": "1.5.0",
            "_model_name": "HTMLModel",
            "_view_count": null,
            "_view_module": "@jupyter-widgets/controls",
            "_view_module_version": "1.5.0",
            "_view_name": "HTMLView",
            "description": "",
            "description_tooltip": null,
            "layout": "IPY_MODEL_fb1d92a594714e30a45d8b223f401f76",
            "placeholder": "​",
            "style": "IPY_MODEL_f92d01e82b7846ef9f627bbbec83f8c6",
            "value": " 13.5k/13.5k [00:00&lt;00:00, 49.4kB/s]"
          }
        },
        "7af37c3e0e314804a5fd4cbc91b34de7": {
          "model_module": "@jupyter-widgets/base",
          "model_name": "LayoutModel",
          "model_module_version": "1.2.0",
          "state": {
            "_model_module": "@jupyter-widgets/base",
            "_model_module_version": "1.2.0",
            "_model_name": "LayoutModel",
            "_view_count": null,
            "_view_module": "@jupyter-widgets/base",
            "_view_module_version": "1.2.0",
            "_view_name": "LayoutView",
            "align_content": null,
            "align_items": null,
            "align_self": null,
            "border": null,
            "bottom": null,
            "display": null,
            "flex": null,
            "flex_flow": null,
            "grid_area": null,
            "grid_auto_columns": null,
            "grid_auto_flow": null,
            "grid_auto_rows": null,
            "grid_column": null,
            "grid_gap": null,
            "grid_row": null,
            "grid_template_areas": null,
            "grid_template_columns": null,
            "grid_template_rows": null,
            "height": null,
            "justify_content": null,
            "justify_items": null,
            "left": null,
            "margin": null,
            "max_height": null,
            "max_width": null,
            "min_height": null,
            "min_width": null,
            "object_fit": null,
            "object_position": null,
            "order": null,
            "overflow": null,
            "overflow_x": null,
            "overflow_y": null,
            "padding": null,
            "right": null,
            "top": null,
            "visibility": null,
            "width": null
          }
        },
        "662b67cc1ae048c8b3f0acf88aa72dc0": {
          "model_module": "@jupyter-widgets/base",
          "model_name": "LayoutModel",
          "model_module_version": "1.2.0",
          "state": {
            "_model_module": "@jupyter-widgets/base",
            "_model_module_version": "1.2.0",
            "_model_name": "LayoutModel",
            "_view_count": null,
            "_view_module": "@jupyter-widgets/base",
            "_view_module_version": "1.2.0",
            "_view_name": "LayoutView",
            "align_content": null,
            "align_items": null,
            "align_self": null,
            "border": null,
            "bottom": null,
            "display": null,
            "flex": null,
            "flex_flow": null,
            "grid_area": null,
            "grid_auto_columns": null,
            "grid_auto_flow": null,
            "grid_auto_rows": null,
            "grid_column": null,
            "grid_gap": null,
            "grid_row": null,
            "grid_template_areas": null,
            "grid_template_columns": null,
            "grid_template_rows": null,
            "height": null,
            "justify_content": null,
            "justify_items": null,
            "left": null,
            "margin": null,
            "max_height": null,
            "max_width": null,
            "min_height": null,
            "min_width": null,
            "object_fit": null,
            "object_position": null,
            "order": null,
            "overflow": null,
            "overflow_x": null,
            "overflow_y": null,
            "padding": null,
            "right": null,
            "top": null,
            "visibility": null,
            "width": null
          }
        },
        "2a56549b6f484463b3432e25eab0cbc9": {
          "model_module": "@jupyter-widgets/controls",
          "model_name": "DescriptionStyleModel",
          "model_module_version": "1.5.0",
          "state": {
            "_model_module": "@jupyter-widgets/controls",
            "_model_module_version": "1.5.0",
            "_model_name": "DescriptionStyleModel",
            "_view_count": null,
            "_view_module": "@jupyter-widgets/base",
            "_view_module_version": "1.2.0",
            "_view_name": "StyleView",
            "description_width": ""
          }
        },
        "91d8d74bbee94374b597df6c939c134e": {
          "model_module": "@jupyter-widgets/base",
          "model_name": "LayoutModel",
          "model_module_version": "1.2.0",
          "state": {
            "_model_module": "@jupyter-widgets/base",
            "_model_module_version": "1.2.0",
            "_model_name": "LayoutModel",
            "_view_count": null,
            "_view_module": "@jupyter-widgets/base",
            "_view_module_version": "1.2.0",
            "_view_name": "LayoutView",
            "align_content": null,
            "align_items": null,
            "align_self": null,
            "border": null,
            "bottom": null,
            "display": null,
            "flex": null,
            "flex_flow": null,
            "grid_area": null,
            "grid_auto_columns": null,
            "grid_auto_flow": null,
            "grid_auto_rows": null,
            "grid_column": null,
            "grid_gap": null,
            "grid_row": null,
            "grid_template_areas": null,
            "grid_template_columns": null,
            "grid_template_rows": null,
            "height": null,
            "justify_content": null,
            "justify_items": null,
            "left": null,
            "margin": null,
            "max_height": null,
            "max_width": null,
            "min_height": null,
            "min_width": null,
            "object_fit": null,
            "object_position": null,
            "order": null,
            "overflow": null,
            "overflow_x": null,
            "overflow_y": null,
            "padding": null,
            "right": null,
            "top": null,
            "visibility": null,
            "width": null
          }
        },
        "a23388dd08ee40339a3ee7070397dfa5": {
          "model_module": "@jupyter-widgets/controls",
          "model_name": "ProgressStyleModel",
          "model_module_version": "1.5.0",
          "state": {
            "_model_module": "@jupyter-widgets/controls",
            "_model_module_version": "1.5.0",
            "_model_name": "ProgressStyleModel",
            "_view_count": null,
            "_view_module": "@jupyter-widgets/base",
            "_view_module_version": "1.2.0",
            "_view_name": "StyleView",
            "bar_color": null,
            "description_width": ""
          }
        },
        "fb1d92a594714e30a45d8b223f401f76": {
          "model_module": "@jupyter-widgets/base",
          "model_name": "LayoutModel",
          "model_module_version": "1.2.0",
          "state": {
            "_model_module": "@jupyter-widgets/base",
            "_model_module_version": "1.2.0",
            "_model_name": "LayoutModel",
            "_view_count": null,
            "_view_module": "@jupyter-widgets/base",
            "_view_module_version": "1.2.0",
            "_view_name": "LayoutView",
            "align_content": null,
            "align_items": null,
            "align_self": null,
            "border": null,
            "bottom": null,
            "display": null,
            "flex": null,
            "flex_flow": null,
            "grid_area": null,
            "grid_auto_columns": null,
            "grid_auto_flow": null,
            "grid_auto_rows": null,
            "grid_column": null,
            "grid_gap": null,
            "grid_row": null,
            "grid_template_areas": null,
            "grid_template_columns": null,
            "grid_template_rows": null,
            "height": null,
            "justify_content": null,
            "justify_items": null,
            "left": null,
            "margin": null,
            "max_height": null,
            "max_width": null,
            "min_height": null,
            "min_width": null,
            "object_fit": null,
            "object_position": null,
            "order": null,
            "overflow": null,
            "overflow_x": null,
            "overflow_y": null,
            "padding": null,
            "right": null,
            "top": null,
            "visibility": null,
            "width": null
          }
        },
        "f92d01e82b7846ef9f627bbbec83f8c6": {
          "model_module": "@jupyter-widgets/controls",
          "model_name": "DescriptionStyleModel",
          "model_module_version": "1.5.0",
          "state": {
            "_model_module": "@jupyter-widgets/controls",
            "_model_module_version": "1.5.0",
            "_model_name": "DescriptionStyleModel",
            "_view_count": null,
            "_view_module": "@jupyter-widgets/base",
            "_view_module_version": "1.2.0",
            "_view_name": "StyleView",
            "description_width": ""
          }
        },
        "d7b2cd2a8bb34cdaa8be53956710b3a7": {
          "model_module": "@jupyter-widgets/controls",
          "model_name": "HBoxModel",
          "model_module_version": "1.5.0",
          "state": {
            "_dom_classes": [],
            "_model_module": "@jupyter-widgets/controls",
            "_model_module_version": "1.5.0",
            "_model_name": "HBoxModel",
            "_view_count": null,
            "_view_module": "@jupyter-widgets/controls",
            "_view_module_version": "1.5.0",
            "_view_name": "HBoxView",
            "box_style": "",
            "children": [
              "IPY_MODEL_4b69c8c19cb642a88140cd248b350a10",
              "IPY_MODEL_49167594f95e4e7aa0912951245de3ec",
              "IPY_MODEL_2693a6a8aeb04402829eeff945fc0008"
            ],
            "layout": "IPY_MODEL_d980df4ea3a84044b129144257325020"
          }
        },
        "4b69c8c19cb642a88140cd248b350a10": {
          "model_module": "@jupyter-widgets/controls",
          "model_name": "HTMLModel",
          "model_module_version": "1.5.0",
          "state": {
            "_dom_classes": [],
            "_model_module": "@jupyter-widgets/controls",
            "_model_module_version": "1.5.0",
            "_model_name": "HTMLModel",
            "_view_count": null,
            "_view_module": "@jupyter-widgets/controls",
            "_view_module_version": "1.5.0",
            "_view_name": "HTMLView",
            "description": "",
            "description_tooltip": null,
            "layout": "IPY_MODEL_c94a587028604aa992f01e01f3a809b0",
            "placeholder": "​",
            "style": "IPY_MODEL_2fb6bf1bd50e45fa81f1e94b764e3467",
            "value": "training_args.bin: 100%"
          }
        },
        "49167594f95e4e7aa0912951245de3ec": {
          "model_module": "@jupyter-widgets/controls",
          "model_name": "FloatProgressModel",
          "model_module_version": "1.5.0",
          "state": {
            "_dom_classes": [],
            "_model_module": "@jupyter-widgets/controls",
            "_model_module_version": "1.5.0",
            "_model_name": "FloatProgressModel",
            "_view_count": null,
            "_view_module": "@jupyter-widgets/controls",
            "_view_module_version": "1.5.0",
            "_view_name": "ProgressView",
            "bar_style": "success",
            "description": "",
            "description_tooltip": null,
            "layout": "IPY_MODEL_bffa3c3162344770b33077ad51d903a0",
            "max": 5496,
            "min": 0,
            "orientation": "horizontal",
            "style": "IPY_MODEL_31e0f2dda36446e1bdbc265ecc7dbb1a",
            "value": 5496
          }
        },
        "2693a6a8aeb04402829eeff945fc0008": {
          "model_module": "@jupyter-widgets/controls",
          "model_name": "HTMLModel",
          "model_module_version": "1.5.0",
          "state": {
            "_dom_classes": [],
            "_model_module": "@jupyter-widgets/controls",
            "_model_module_version": "1.5.0",
            "_model_name": "HTMLModel",
            "_view_count": null,
            "_view_module": "@jupyter-widgets/controls",
            "_view_module_version": "1.5.0",
            "_view_name": "HTMLView",
            "description": "",
            "description_tooltip": null,
            "layout": "IPY_MODEL_99823f7a7309468aa07572103231aa1e",
            "placeholder": "​",
            "style": "IPY_MODEL_2cb80bed18f8433a8506f882c6d0cf42",
            "value": " 5.50k/5.50k [00:00&lt;00:00, 17.9kB/s]"
          }
        },
        "d980df4ea3a84044b129144257325020": {
          "model_module": "@jupyter-widgets/base",
          "model_name": "LayoutModel",
          "model_module_version": "1.2.0",
          "state": {
            "_model_module": "@jupyter-widgets/base",
            "_model_module_version": "1.2.0",
            "_model_name": "LayoutModel",
            "_view_count": null,
            "_view_module": "@jupyter-widgets/base",
            "_view_module_version": "1.2.0",
            "_view_name": "LayoutView",
            "align_content": null,
            "align_items": null,
            "align_self": null,
            "border": null,
            "bottom": null,
            "display": null,
            "flex": null,
            "flex_flow": null,
            "grid_area": null,
            "grid_auto_columns": null,
            "grid_auto_flow": null,
            "grid_auto_rows": null,
            "grid_column": null,
            "grid_gap": null,
            "grid_row": null,
            "grid_template_areas": null,
            "grid_template_columns": null,
            "grid_template_rows": null,
            "height": null,
            "justify_content": null,
            "justify_items": null,
            "left": null,
            "margin": null,
            "max_height": null,
            "max_width": null,
            "min_height": null,
            "min_width": null,
            "object_fit": null,
            "object_position": null,
            "order": null,
            "overflow": null,
            "overflow_x": null,
            "overflow_y": null,
            "padding": null,
            "right": null,
            "top": null,
            "visibility": null,
            "width": null
          }
        },
        "c94a587028604aa992f01e01f3a809b0": {
          "model_module": "@jupyter-widgets/base",
          "model_name": "LayoutModel",
          "model_module_version": "1.2.0",
          "state": {
            "_model_module": "@jupyter-widgets/base",
            "_model_module_version": "1.2.0",
            "_model_name": "LayoutModel",
            "_view_count": null,
            "_view_module": "@jupyter-widgets/base",
            "_view_module_version": "1.2.0",
            "_view_name": "LayoutView",
            "align_content": null,
            "align_items": null,
            "align_self": null,
            "border": null,
            "bottom": null,
            "display": null,
            "flex": null,
            "flex_flow": null,
            "grid_area": null,
            "grid_auto_columns": null,
            "grid_auto_flow": null,
            "grid_auto_rows": null,
            "grid_column": null,
            "grid_gap": null,
            "grid_row": null,
            "grid_template_areas": null,
            "grid_template_columns": null,
            "grid_template_rows": null,
            "height": null,
            "justify_content": null,
            "justify_items": null,
            "left": null,
            "margin": null,
            "max_height": null,
            "max_width": null,
            "min_height": null,
            "min_width": null,
            "object_fit": null,
            "object_position": null,
            "order": null,
            "overflow": null,
            "overflow_x": null,
            "overflow_y": null,
            "padding": null,
            "right": null,
            "top": null,
            "visibility": null,
            "width": null
          }
        },
        "2fb6bf1bd50e45fa81f1e94b764e3467": {
          "model_module": "@jupyter-widgets/controls",
          "model_name": "DescriptionStyleModel",
          "model_module_version": "1.5.0",
          "state": {
            "_model_module": "@jupyter-widgets/controls",
            "_model_module_version": "1.5.0",
            "_model_name": "DescriptionStyleModel",
            "_view_count": null,
            "_view_module": "@jupyter-widgets/base",
            "_view_module_version": "1.2.0",
            "_view_name": "StyleView",
            "description_width": ""
          }
        },
        "bffa3c3162344770b33077ad51d903a0": {
          "model_module": "@jupyter-widgets/base",
          "model_name": "LayoutModel",
          "model_module_version": "1.2.0",
          "state": {
            "_model_module": "@jupyter-widgets/base",
            "_model_module_version": "1.2.0",
            "_model_name": "LayoutModel",
            "_view_count": null,
            "_view_module": "@jupyter-widgets/base",
            "_view_module_version": "1.2.0",
            "_view_name": "LayoutView",
            "align_content": null,
            "align_items": null,
            "align_self": null,
            "border": null,
            "bottom": null,
            "display": null,
            "flex": null,
            "flex_flow": null,
            "grid_area": null,
            "grid_auto_columns": null,
            "grid_auto_flow": null,
            "grid_auto_rows": null,
            "grid_column": null,
            "grid_gap": null,
            "grid_row": null,
            "grid_template_areas": null,
            "grid_template_columns": null,
            "grid_template_rows": null,
            "height": null,
            "justify_content": null,
            "justify_items": null,
            "left": null,
            "margin": null,
            "max_height": null,
            "max_width": null,
            "min_height": null,
            "min_width": null,
            "object_fit": null,
            "object_position": null,
            "order": null,
            "overflow": null,
            "overflow_x": null,
            "overflow_y": null,
            "padding": null,
            "right": null,
            "top": null,
            "visibility": null,
            "width": null
          }
        },
        "31e0f2dda36446e1bdbc265ecc7dbb1a": {
          "model_module": "@jupyter-widgets/controls",
          "model_name": "ProgressStyleModel",
          "model_module_version": "1.5.0",
          "state": {
            "_model_module": "@jupyter-widgets/controls",
            "_model_module_version": "1.5.0",
            "_model_name": "ProgressStyleModel",
            "_view_count": null,
            "_view_module": "@jupyter-widgets/base",
            "_view_module_version": "1.2.0",
            "_view_name": "StyleView",
            "bar_color": null,
            "description_width": ""
          }
        },
        "99823f7a7309468aa07572103231aa1e": {
          "model_module": "@jupyter-widgets/base",
          "model_name": "LayoutModel",
          "model_module_version": "1.2.0",
          "state": {
            "_model_module": "@jupyter-widgets/base",
            "_model_module_version": "1.2.0",
            "_model_name": "LayoutModel",
            "_view_count": null,
            "_view_module": "@jupyter-widgets/base",
            "_view_module_version": "1.2.0",
            "_view_name": "LayoutView",
            "align_content": null,
            "align_items": null,
            "align_self": null,
            "border": null,
            "bottom": null,
            "display": null,
            "flex": null,
            "flex_flow": null,
            "grid_area": null,
            "grid_auto_columns": null,
            "grid_auto_flow": null,
            "grid_auto_rows": null,
            "grid_column": null,
            "grid_gap": null,
            "grid_row": null,
            "grid_template_areas": null,
            "grid_template_columns": null,
            "grid_template_rows": null,
            "height": null,
            "justify_content": null,
            "justify_items": null,
            "left": null,
            "margin": null,
            "max_height": null,
            "max_width": null,
            "min_height": null,
            "min_width": null,
            "object_fit": null,
            "object_position": null,
            "order": null,
            "overflow": null,
            "overflow_x": null,
            "overflow_y": null,
            "padding": null,
            "right": null,
            "top": null,
            "visibility": null,
            "width": null
          }
        },
        "2cb80bed18f8433a8506f882c6d0cf42": {
          "model_module": "@jupyter-widgets/controls",
          "model_name": "DescriptionStyleModel",
          "model_module_version": "1.5.0",
          "state": {
            "_model_module": "@jupyter-widgets/controls",
            "_model_module_version": "1.5.0",
            "_model_name": "DescriptionStyleModel",
            "_view_count": null,
            "_view_module": "@jupyter-widgets/base",
            "_view_module_version": "1.2.0",
            "_view_name": "StyleView",
            "description_width": ""
          }
        },
        "fbde3f0d269341159b84d5bbf331dbf6": {
          "model_module": "@jupyter-widgets/controls",
          "model_name": "HBoxModel",
          "model_module_version": "1.5.0",
          "state": {
            "_dom_classes": [],
            "_model_module": "@jupyter-widgets/controls",
            "_model_module_version": "1.5.0",
            "_model_name": "HBoxModel",
            "_view_count": null,
            "_view_module": "@jupyter-widgets/controls",
            "_view_module_version": "1.5.0",
            "_view_name": "HBoxView",
            "box_style": "",
            "children": [
              "IPY_MODEL_eac06275d2ed4c7e9fc419f914f424a7",
              "IPY_MODEL_45aaa0861cfd42929838a34a99b6fd31",
              "IPY_MODEL_08420e267ab54883bfc225673440bd72"
            ],
            "layout": "IPY_MODEL_d145c33c355043cc9054a91783e38b1c"
          }
        },
        "eac06275d2ed4c7e9fc419f914f424a7": {
          "model_module": "@jupyter-widgets/controls",
          "model_name": "HTMLModel",
          "model_module_version": "1.5.0",
          "state": {
            "_dom_classes": [],
            "_model_module": "@jupyter-widgets/controls",
            "_model_module_version": "1.5.0",
            "_model_name": "HTMLModel",
            "_view_count": null,
            "_view_module": "@jupyter-widgets/controls",
            "_view_module_version": "1.5.0",
            "_view_name": "HTMLView",
            "description": "",
            "description_tooltip": null,
            "layout": "IPY_MODEL_518518ea6fc34e629e0ba717302263d0",
            "placeholder": "​",
            "style": "IPY_MODEL_30ecce2bab894a20bfa3398bd71468f8",
            "value": "events.out.tfevents.1741773472.09e888ac0773.3751.0: 100%"
          }
        },
        "45aaa0861cfd42929838a34a99b6fd31": {
          "model_module": "@jupyter-widgets/controls",
          "model_name": "FloatProgressModel",
          "model_module_version": "1.5.0",
          "state": {
            "_dom_classes": [],
            "_model_module": "@jupyter-widgets/controls",
            "_model_module_version": "1.5.0",
            "_model_name": "FloatProgressModel",
            "_view_count": null,
            "_view_module": "@jupyter-widgets/controls",
            "_view_module_version": "1.5.0",
            "_view_name": "ProgressView",
            "bar_style": "success",
            "description": "",
            "description_tooltip": null,
            "layout": "IPY_MODEL_ada8d1dbe0dd4c098bfd5ec2312b561d",
            "max": 14212,
            "min": 0,
            "orientation": "horizontal",
            "style": "IPY_MODEL_b293e619e8274043afa4ceb27051ba26",
            "value": 14212
          }
        },
        "08420e267ab54883bfc225673440bd72": {
          "model_module": "@jupyter-widgets/controls",
          "model_name": "HTMLModel",
          "model_module_version": "1.5.0",
          "state": {
            "_dom_classes": [],
            "_model_module": "@jupyter-widgets/controls",
            "_model_module_version": "1.5.0",
            "_model_name": "HTMLModel",
            "_view_count": null,
            "_view_module": "@jupyter-widgets/controls",
            "_view_module_version": "1.5.0",
            "_view_name": "HTMLView",
            "description": "",
            "description_tooltip": null,
            "layout": "IPY_MODEL_238430a1b6204cb79839df54fb224cd9",
            "placeholder": "​",
            "style": "IPY_MODEL_87344513d017400c9b97fdd397789087",
            "value": " 14.2k/14.2k [00:00&lt;00:00, 47.7kB/s]"
          }
        },
        "d145c33c355043cc9054a91783e38b1c": {
          "model_module": "@jupyter-widgets/base",
          "model_name": "LayoutModel",
          "model_module_version": "1.2.0",
          "state": {
            "_model_module": "@jupyter-widgets/base",
            "_model_module_version": "1.2.0",
            "_model_name": "LayoutModel",
            "_view_count": null,
            "_view_module": "@jupyter-widgets/base",
            "_view_module_version": "1.2.0",
            "_view_name": "LayoutView",
            "align_content": null,
            "align_items": null,
            "align_self": null,
            "border": null,
            "bottom": null,
            "display": null,
            "flex": null,
            "flex_flow": null,
            "grid_area": null,
            "grid_auto_columns": null,
            "grid_auto_flow": null,
            "grid_auto_rows": null,
            "grid_column": null,
            "grid_gap": null,
            "grid_row": null,
            "grid_template_areas": null,
            "grid_template_columns": null,
            "grid_template_rows": null,
            "height": null,
            "justify_content": null,
            "justify_items": null,
            "left": null,
            "margin": null,
            "max_height": null,
            "max_width": null,
            "min_height": null,
            "min_width": null,
            "object_fit": null,
            "object_position": null,
            "order": null,
            "overflow": null,
            "overflow_x": null,
            "overflow_y": null,
            "padding": null,
            "right": null,
            "top": null,
            "visibility": null,
            "width": null
          }
        },
        "518518ea6fc34e629e0ba717302263d0": {
          "model_module": "@jupyter-widgets/base",
          "model_name": "LayoutModel",
          "model_module_version": "1.2.0",
          "state": {
            "_model_module": "@jupyter-widgets/base",
            "_model_module_version": "1.2.0",
            "_model_name": "LayoutModel",
            "_view_count": null,
            "_view_module": "@jupyter-widgets/base",
            "_view_module_version": "1.2.0",
            "_view_name": "LayoutView",
            "align_content": null,
            "align_items": null,
            "align_self": null,
            "border": null,
            "bottom": null,
            "display": null,
            "flex": null,
            "flex_flow": null,
            "grid_area": null,
            "grid_auto_columns": null,
            "grid_auto_flow": null,
            "grid_auto_rows": null,
            "grid_column": null,
            "grid_gap": null,
            "grid_row": null,
            "grid_template_areas": null,
            "grid_template_columns": null,
            "grid_template_rows": null,
            "height": null,
            "justify_content": null,
            "justify_items": null,
            "left": null,
            "margin": null,
            "max_height": null,
            "max_width": null,
            "min_height": null,
            "min_width": null,
            "object_fit": null,
            "object_position": null,
            "order": null,
            "overflow": null,
            "overflow_x": null,
            "overflow_y": null,
            "padding": null,
            "right": null,
            "top": null,
            "visibility": null,
            "width": null
          }
        },
        "30ecce2bab894a20bfa3398bd71468f8": {
          "model_module": "@jupyter-widgets/controls",
          "model_name": "DescriptionStyleModel",
          "model_module_version": "1.5.0",
          "state": {
            "_model_module": "@jupyter-widgets/controls",
            "_model_module_version": "1.5.0",
            "_model_name": "DescriptionStyleModel",
            "_view_count": null,
            "_view_module": "@jupyter-widgets/base",
            "_view_module_version": "1.2.0",
            "_view_name": "StyleView",
            "description_width": ""
          }
        },
        "ada8d1dbe0dd4c098bfd5ec2312b561d": {
          "model_module": "@jupyter-widgets/base",
          "model_name": "LayoutModel",
          "model_module_version": "1.2.0",
          "state": {
            "_model_module": "@jupyter-widgets/base",
            "_model_module_version": "1.2.0",
            "_model_name": "LayoutModel",
            "_view_count": null,
            "_view_module": "@jupyter-widgets/base",
            "_view_module_version": "1.2.0",
            "_view_name": "LayoutView",
            "align_content": null,
            "align_items": null,
            "align_self": null,
            "border": null,
            "bottom": null,
            "display": null,
            "flex": null,
            "flex_flow": null,
            "grid_area": null,
            "grid_auto_columns": null,
            "grid_auto_flow": null,
            "grid_auto_rows": null,
            "grid_column": null,
            "grid_gap": null,
            "grid_row": null,
            "grid_template_areas": null,
            "grid_template_columns": null,
            "grid_template_rows": null,
            "height": null,
            "justify_content": null,
            "justify_items": null,
            "left": null,
            "margin": null,
            "max_height": null,
            "max_width": null,
            "min_height": null,
            "min_width": null,
            "object_fit": null,
            "object_position": null,
            "order": null,
            "overflow": null,
            "overflow_x": null,
            "overflow_y": null,
            "padding": null,
            "right": null,
            "top": null,
            "visibility": null,
            "width": null
          }
        },
        "b293e619e8274043afa4ceb27051ba26": {
          "model_module": "@jupyter-widgets/controls",
          "model_name": "ProgressStyleModel",
          "model_module_version": "1.5.0",
          "state": {
            "_model_module": "@jupyter-widgets/controls",
            "_model_module_version": "1.5.0",
            "_model_name": "ProgressStyleModel",
            "_view_count": null,
            "_view_module": "@jupyter-widgets/base",
            "_view_module_version": "1.2.0",
            "_view_name": "StyleView",
            "bar_color": null,
            "description_width": ""
          }
        },
        "238430a1b6204cb79839df54fb224cd9": {
          "model_module": "@jupyter-widgets/base",
          "model_name": "LayoutModel",
          "model_module_version": "1.2.0",
          "state": {
            "_model_module": "@jupyter-widgets/base",
            "_model_module_version": "1.2.0",
            "_model_name": "LayoutModel",
            "_view_count": null,
            "_view_module": "@jupyter-widgets/base",
            "_view_module_version": "1.2.0",
            "_view_name": "LayoutView",
            "align_content": null,
            "align_items": null,
            "align_self": null,
            "border": null,
            "bottom": null,
            "display": null,
            "flex": null,
            "flex_flow": null,
            "grid_area": null,
            "grid_auto_columns": null,
            "grid_auto_flow": null,
            "grid_auto_rows": null,
            "grid_column": null,
            "grid_gap": null,
            "grid_row": null,
            "grid_template_areas": null,
            "grid_template_columns": null,
            "grid_template_rows": null,
            "height": null,
            "justify_content": null,
            "justify_items": null,
            "left": null,
            "margin": null,
            "max_height": null,
            "max_width": null,
            "min_height": null,
            "min_width": null,
            "object_fit": null,
            "object_position": null,
            "order": null,
            "overflow": null,
            "overflow_x": null,
            "overflow_y": null,
            "padding": null,
            "right": null,
            "top": null,
            "visibility": null,
            "width": null
          }
        },
        "87344513d017400c9b97fdd397789087": {
          "model_module": "@jupyter-widgets/controls",
          "model_name": "DescriptionStyleModel",
          "model_module_version": "1.5.0",
          "state": {
            "_model_module": "@jupyter-widgets/controls",
            "_model_module_version": "1.5.0",
            "_model_name": "DescriptionStyleModel",
            "_view_count": null,
            "_view_module": "@jupyter-widgets/base",
            "_view_module_version": "1.2.0",
            "_view_name": "StyleView",
            "description_width": ""
          }
        },
        "08b37cf90775499bbfefee465b4d78ed": {
          "model_module": "@jupyter-widgets/controls",
          "model_name": "HBoxModel",
          "model_module_version": "1.5.0",
          "state": {
            "_dom_classes": [],
            "_model_module": "@jupyter-widgets/controls",
            "_model_module_version": "1.5.0",
            "_model_name": "HBoxModel",
            "_view_count": null,
            "_view_module": "@jupyter-widgets/controls",
            "_view_module_version": "1.5.0",
            "_view_name": "HBoxView",
            "box_style": "",
            "children": [
              "IPY_MODEL_21c10c4a42c44936b4908b91673da19c",
              "IPY_MODEL_bd5c631ff5684f55bc6cd4a15f0b0fea",
              "IPY_MODEL_27a4892256c74412ba6072ffe52ff3eb"
            ],
            "layout": "IPY_MODEL_2d9e2362722144e78294b4794c96d35b"
          }
        },
        "21c10c4a42c44936b4908b91673da19c": {
          "model_module": "@jupyter-widgets/controls",
          "model_name": "HTMLModel",
          "model_module_version": "1.5.0",
          "state": {
            "_dom_classes": [],
            "_model_module": "@jupyter-widgets/controls",
            "_model_module_version": "1.5.0",
            "_model_name": "HTMLModel",
            "_view_count": null,
            "_view_module": "@jupyter-widgets/controls",
            "_view_module_version": "1.5.0",
            "_view_name": "HTMLView",
            "description": "",
            "description_tooltip": null,
            "layout": "IPY_MODEL_2fe58264a39349fa94f51ab4ed7e601e",
            "placeholder": "​",
            "style": "IPY_MODEL_6cf771f9e4e54f88be55b8cf4a910103",
            "value": "model.safetensors: 100%"
          }
        },
        "bd5c631ff5684f55bc6cd4a15f0b0fea": {
          "model_module": "@jupyter-widgets/controls",
          "model_name": "FloatProgressModel",
          "model_module_version": "1.5.0",
          "state": {
            "_dom_classes": [],
            "_model_module": "@jupyter-widgets/controls",
            "_model_module_version": "1.5.0",
            "_model_name": "FloatProgressModel",
            "_view_count": null,
            "_view_module": "@jupyter-widgets/controls",
            "_view_module_version": "1.5.0",
            "_view_name": "ProgressView",
            "bar_style": "success",
            "description": "",
            "description_tooltip": null,
            "layout": "IPY_MODEL_12be259499354336b552875187e83b77",
            "max": 343242432,
            "min": 0,
            "orientation": "horizontal",
            "style": "IPY_MODEL_84a78267b42b4a3c8a75b8b4f11a956c",
            "value": 343242432
          }
        },
        "27a4892256c74412ba6072ffe52ff3eb": {
          "model_module": "@jupyter-widgets/controls",
          "model_name": "HTMLModel",
          "model_module_version": "1.5.0",
          "state": {
            "_dom_classes": [],
            "_model_module": "@jupyter-widgets/controls",
            "_model_module_version": "1.5.0",
            "_model_name": "HTMLModel",
            "_view_count": null,
            "_view_module": "@jupyter-widgets/controls",
            "_view_module_version": "1.5.0",
            "_view_name": "HTMLView",
            "description": "",
            "description_tooltip": null,
            "layout": "IPY_MODEL_7cc5c9fd902541a49a030624840ecdce",
            "placeholder": "​",
            "style": "IPY_MODEL_262982394ae243f5bc5de1e86c6f4200",
            "value": " 343M/343M [00:18&lt;00:00, 29.4MB/s]"
          }
        },
        "2d9e2362722144e78294b4794c96d35b": {
          "model_module": "@jupyter-widgets/base",
          "model_name": "LayoutModel",
          "model_module_version": "1.2.0",
          "state": {
            "_model_module": "@jupyter-widgets/base",
            "_model_module_version": "1.2.0",
            "_model_name": "LayoutModel",
            "_view_count": null,
            "_view_module": "@jupyter-widgets/base",
            "_view_module_version": "1.2.0",
            "_view_name": "LayoutView",
            "align_content": null,
            "align_items": null,
            "align_self": null,
            "border": null,
            "bottom": null,
            "display": null,
            "flex": null,
            "flex_flow": null,
            "grid_area": null,
            "grid_auto_columns": null,
            "grid_auto_flow": null,
            "grid_auto_rows": null,
            "grid_column": null,
            "grid_gap": null,
            "grid_row": null,
            "grid_template_areas": null,
            "grid_template_columns": null,
            "grid_template_rows": null,
            "height": null,
            "justify_content": null,
            "justify_items": null,
            "left": null,
            "margin": null,
            "max_height": null,
            "max_width": null,
            "min_height": null,
            "min_width": null,
            "object_fit": null,
            "object_position": null,
            "order": null,
            "overflow": null,
            "overflow_x": null,
            "overflow_y": null,
            "padding": null,
            "right": null,
            "top": null,
            "visibility": null,
            "width": null
          }
        },
        "2fe58264a39349fa94f51ab4ed7e601e": {
          "model_module": "@jupyter-widgets/base",
          "model_name": "LayoutModel",
          "model_module_version": "1.2.0",
          "state": {
            "_model_module": "@jupyter-widgets/base",
            "_model_module_version": "1.2.0",
            "_model_name": "LayoutModel",
            "_view_count": null,
            "_view_module": "@jupyter-widgets/base",
            "_view_module_version": "1.2.0",
            "_view_name": "LayoutView",
            "align_content": null,
            "align_items": null,
            "align_self": null,
            "border": null,
            "bottom": null,
            "display": null,
            "flex": null,
            "flex_flow": null,
            "grid_area": null,
            "grid_auto_columns": null,
            "grid_auto_flow": null,
            "grid_auto_rows": null,
            "grid_column": null,
            "grid_gap": null,
            "grid_row": null,
            "grid_template_areas": null,
            "grid_template_columns": null,
            "grid_template_rows": null,
            "height": null,
            "justify_content": null,
            "justify_items": null,
            "left": null,
            "margin": null,
            "max_height": null,
            "max_width": null,
            "min_height": null,
            "min_width": null,
            "object_fit": null,
            "object_position": null,
            "order": null,
            "overflow": null,
            "overflow_x": null,
            "overflow_y": null,
            "padding": null,
            "right": null,
            "top": null,
            "visibility": null,
            "width": null
          }
        },
        "6cf771f9e4e54f88be55b8cf4a910103": {
          "model_module": "@jupyter-widgets/controls",
          "model_name": "DescriptionStyleModel",
          "model_module_version": "1.5.0",
          "state": {
            "_model_module": "@jupyter-widgets/controls",
            "_model_module_version": "1.5.0",
            "_model_name": "DescriptionStyleModel",
            "_view_count": null,
            "_view_module": "@jupyter-widgets/base",
            "_view_module_version": "1.2.0",
            "_view_name": "StyleView",
            "description_width": ""
          }
        },
        "12be259499354336b552875187e83b77": {
          "model_module": "@jupyter-widgets/base",
          "model_name": "LayoutModel",
          "model_module_version": "1.2.0",
          "state": {
            "_model_module": "@jupyter-widgets/base",
            "_model_module_version": "1.2.0",
            "_model_name": "LayoutModel",
            "_view_count": null,
            "_view_module": "@jupyter-widgets/base",
            "_view_module_version": "1.2.0",
            "_view_name": "LayoutView",
            "align_content": null,
            "align_items": null,
            "align_self": null,
            "border": null,
            "bottom": null,
            "display": null,
            "flex": null,
            "flex_flow": null,
            "grid_area": null,
            "grid_auto_columns": null,
            "grid_auto_flow": null,
            "grid_auto_rows": null,
            "grid_column": null,
            "grid_gap": null,
            "grid_row": null,
            "grid_template_areas": null,
            "grid_template_columns": null,
            "grid_template_rows": null,
            "height": null,
            "justify_content": null,
            "justify_items": null,
            "left": null,
            "margin": null,
            "max_height": null,
            "max_width": null,
            "min_height": null,
            "min_width": null,
            "object_fit": null,
            "object_position": null,
            "order": null,
            "overflow": null,
            "overflow_x": null,
            "overflow_y": null,
            "padding": null,
            "right": null,
            "top": null,
            "visibility": null,
            "width": null
          }
        },
        "84a78267b42b4a3c8a75b8b4f11a956c": {
          "model_module": "@jupyter-widgets/controls",
          "model_name": "ProgressStyleModel",
          "model_module_version": "1.5.0",
          "state": {
            "_model_module": "@jupyter-widgets/controls",
            "_model_module_version": "1.5.0",
            "_model_name": "ProgressStyleModel",
            "_view_count": null,
            "_view_module": "@jupyter-widgets/base",
            "_view_module_version": "1.2.0",
            "_view_name": "StyleView",
            "bar_color": null,
            "description_width": ""
          }
        },
        "7cc5c9fd902541a49a030624840ecdce": {
          "model_module": "@jupyter-widgets/base",
          "model_name": "LayoutModel",
          "model_module_version": "1.2.0",
          "state": {
            "_model_module": "@jupyter-widgets/base",
            "_model_module_version": "1.2.0",
            "_model_name": "LayoutModel",
            "_view_count": null,
            "_view_module": "@jupyter-widgets/base",
            "_view_module_version": "1.2.0",
            "_view_name": "LayoutView",
            "align_content": null,
            "align_items": null,
            "align_self": null,
            "border": null,
            "bottom": null,
            "display": null,
            "flex": null,
            "flex_flow": null,
            "grid_area": null,
            "grid_auto_columns": null,
            "grid_auto_flow": null,
            "grid_auto_rows": null,
            "grid_column": null,
            "grid_gap": null,
            "grid_row": null,
            "grid_template_areas": null,
            "grid_template_columns": null,
            "grid_template_rows": null,
            "height": null,
            "justify_content": null,
            "justify_items": null,
            "left": null,
            "margin": null,
            "max_height": null,
            "max_width": null,
            "min_height": null,
            "min_width": null,
            "object_fit": null,
            "object_position": null,
            "order": null,
            "overflow": null,
            "overflow_x": null,
            "overflow_y": null,
            "padding": null,
            "right": null,
            "top": null,
            "visibility": null,
            "width": null
          }
        },
        "262982394ae243f5bc5de1e86c6f4200": {
          "model_module": "@jupyter-widgets/controls",
          "model_name": "DescriptionStyleModel",
          "model_module_version": "1.5.0",
          "state": {
            "_model_module": "@jupyter-widgets/controls",
            "_model_module_version": "1.5.0",
            "_model_name": "DescriptionStyleModel",
            "_view_count": null,
            "_view_module": "@jupyter-widgets/base",
            "_view_module_version": "1.2.0",
            "_view_name": "StyleView",
            "description_width": ""
          }
        }
      }
    }
  },
  "nbformat": 4,
  "nbformat_minor": 0
}