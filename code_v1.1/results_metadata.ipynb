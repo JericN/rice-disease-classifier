{
  "cells": [
    {
      "cell_type": "markdown",
      "metadata": {},
      "source": [
        "### Use correct version of Transformers"
      ]
    },
    {
      "cell_type": "code",
      "execution_count": null,
      "metadata": {
        "colab": {
          "base_uri": "https://localhost:8080/"
        },
        "id": "vrOX4t8OuYlt",
        "outputId": "b142c1ae-8133-4f9a-a23c-41eb444d262f"
      },
      "outputs": [],
      "source": [
        "! pip uninstall -y transformers\n",
        "! pip install --quiet transformers==4.48.3"
      ]
    },
    {
      "cell_type": "markdown",
      "metadata": {},
      "source": [
        "### Import Libraries and Mount Drive"
      ]
    },
    {
      "cell_type": "code",
      "execution_count": null,
      "metadata": {},
      "outputs": [],
      "source": [
        "from google.colab import drive\n",
        "drive.mount('/content/drive')"
      ]
    },
    {
      "cell_type": "code",
      "execution_count": null,
      "metadata": {
        "colab": {
          "base_uri": "https://localhost:8080/",
          "height": 86,
          "referenced_widgets": [
            "20ca7ba7be93443fa97938c214a7d4d0",
            "dc17bea50b95477892c79f3cee3a66a6",
            "f98301ed2930476485f8b28789cda22f",
            "f13e68f5b9f049008ce67c0299d7c649",
            "00f6bc48245b48848e7afe5f6faad6bf",
            "694784a15d314ea2979fe557ad3e5423",
            "d624f54d4fce46ff8cc1a827a5178b17",
            "6d3b2882ed0f4ca0ad447f70462f410f",
            "d30f46cae21344d69eab716a179a3c96",
            "3de086a385a048de87feb464e5a94677",
            "7baab20f731d4707abb8d235c4c94a0f"
          ]
        },
        "id": "BdjY1hRRteAI",
        "outputId": "b6f3efa0-7f8e-436b-9605-3cbc2db3980c"
      },
      "outputs": [],
      "source": [
        "import os\n",
        "import pandas as pd\n",
        "from datasets import load_dataset\n",
        "from transformers import AutoModelForImageClassification, ViTHybridForImageClassification"
      ]
    },
    {
      "cell_type": "markdown",
      "metadata": {},
      "source": [
        "### Initialize Test Config"
      ]
    },
    {
      "cell_type": "code",
      "execution_count": null,
      "metadata": {},
      "outputs": [],
      "source": [
        "# Set the root directory\n",
        "root_dir = \"/content/drive/Shareddrives/CS198-Drones/\"\n",
        "\n",
        "# Set the dataset path and output file path\n",
        "dataset_path = 'cvmil/rice-leaf-disease-augmented-v4'\n",
        "output_path = '[TEST] Models/model_and_dataset_info.xlsx'\n",
        "\n",
        "# Set the number of labels for the models\n",
        "num_labels = 8\n",
        "\n",
        "# List of models to analyze\n",
        "models = [\n",
        "  \"facebook/convnextv2-base-1k-224\",\n",
        "  \"google/vit-hybrid-base-bit-384\",\n",
        "  \"google/vit-base-patch16-224\",\n",
        "  \"microsoft/swin-base-patch4-window7-224\",\n",
        "  \"facebook/deit-base-patch16-224\",\n",
        "  \"facebook/dinov2-base\",\n",
        "  \"timm/vit_small_patch16_224.augreg_in21k\",\n",
        "  \"microsoft/swin-tiny-patch4-window7-224\",\n",
        "  \"facebook/deit-small-patch16-224\",\n",
        "  \"facebook/convnextv2-tiny-1k-224\",\n",
        "  \"apple/mobilevit-small\",\n",
        "  \"timm/mobilevitv2_150.cvnets_in22k_ft_in1k\",\n",
        "  \"google/efficientnet-b2\",\n",
        "  \"timm/efficientvit_b1.r224_in1k\",\n",
        "  \"timm/efficientvit_m4.r224_in1k\",\n",
        "  \"timm/efficientformerv2_s2.snap_dist_in1k\",\n",
        "  \"timm/efficientformer_l1.snap_dist_in1k\"\n",
        "]"
      ]
    },
    {
      "cell_type": "markdown",
      "metadata": {},
      "source": [
        "### Get Model Metadata"
      ]
    },
    {
      "cell_type": "code",
      "execution_count": 11,
      "metadata": {
        "id": "lS5q3TIOtwnq"
      },
      "outputs": [],
      "source": [
        "def get_model_info(model_names, num_labels, cache_dir=\"./hf_models\"):\n",
        "    model_data = []\n",
        "\n",
        "    for model_name in model_names:\n",
        "        print(f\"\\n🔍 Processing Model: {model_name}\")\n",
        "        try:\n",
        "            ModelClass = ViTHybridForImageClassification if \"hybrid\" in model_name else AutoModelForImageClassification\n",
        "            model = ModelClass.from_pretrained(model_name, num_labels, cache_dir, ignore_mismatched_sizes=True)\n",
        "\n",
        "            # Get model parameter count\n",
        "            total_params = sum(p.numel() for p in model.parameters())\n",
        "\n",
        "            # Get model size in MB\n",
        "            weight_file = os.path.join(cache_dir, model_name.replace(\"/\", \"__\"), \"pytorch_model.bin\")\n",
        "            model_size_mb = os.path.getsize(weight_file) / (1024 * 1024) if os.path.exists(weight_file) else None\n",
        "\n",
        "            # Add model info to the list\n",
        "            model_data.append({\n",
        "                \"Model\": model_name,\n",
        "                \"Total Parameters\": total_params,\n",
        "                \"Model Size (MB)\": model_size_mb\n",
        "            })\n",
        "\n",
        "        except Exception as e:\n",
        "            print(f\"❌ Error processing {model_name}: {e}\")\n",
        "\n",
        "    df_models = pd.DataFrame(model_data)\n",
        "    return df_models"
      ]
    },
    {
      "cell_type": "markdown",
      "metadata": {},
      "source": [
        "### Get Dataset Metadata"
      ]
    },
    {
      "cell_type": "code",
      "execution_count": null,
      "metadata": {},
      "outputs": [],
      "source": [
        "def get_dataset_info(dataset_path):\n",
        "    print(f\"\\n🔍 Processing Dataset: {dataset_path}\")\n",
        "    dataset = load_dataset(dataset_path)\n",
        "\n",
        "    # Get label names from the dataset metadata\n",
        "    label_names = dataset[\"train\"].features[\"label\"].names  # Assuming all splits have the same labels\n",
        "\n",
        "    class_data = []\n",
        "\n",
        "    for split in dataset.keys():\n",
        "        df = dataset[split].to_pandas()\n",
        "        class_counts = df[\"label\"].value_counts().reset_index()\n",
        "        class_counts.columns = [\"Class Index\", \"Count\"]\n",
        "        class_counts[\"Class\"] = class_counts[\"Class Index\"].map(lambda x: label_names[x])  # Map index to label\n",
        "        class_counts[\"Split\"] = split\n",
        "        class_counts = class_counts[[\"Class\", \"Class Index\", \"Count\", \"Split\"]]  # Reorder columns\n",
        "        class_data.append(class_counts)\n",
        "\n",
        "    # Merge all splits into one DataFrame\n",
        "    df_dataset = pd.concat(class_data, ignore_index=True)\n",
        "    return df_dataset"
      ]
    },
    {
      "cell_type": "markdown",
      "metadata": {},
      "source": [
        "### Runner Function"
      ]
    },
    {
      "cell_type": "code",
      "execution_count": null,
      "metadata": {
        "colab": {
          "base_uri": "https://localhost:8080/"
        },
        "id": "VfPtKbvzxyg9",
        "outputId": "2fd8e933-4ada-4e7d-a3e3-916b8d4c3f70"
      },
      "outputs": [],
      "source": [
        "# Create the output directory\n",
        "output_file = os.path.join(root_dir, output_path)\n",
        "os.makedirs(os.path.dirname(output_file), exist_ok=True)\n",
        "\n",
        "# Get model and dataset info\n",
        "df_models = get_model_info(models, num_labels)\n",
        "df_dataset = get_dataset_info(dataset_path)\n",
        "\n",
        "# Save both tables to the same Excel file\n",
        "with pd.ExcelWriter(output_file, engine='openpyxl') as writer:\n",
        "    df_models.to_excel(writer, sheet_name=\"Model Info\", index=False)\n",
        "    df_dataset.to_excel(writer, sheet_name=\"Dataset Info\", index=False)\n",
        "\n",
        "print(f\"\\n✅ Results saved to {output_file}\")"
      ]
    }
  ],
  "metadata": {
    "accelerator": "GPU",
    "colab": {
      "gpuType": "T4",
      "provenance": []
    },
    "kernelspec": {
      "display_name": "Python 3",
      "name": "python3"
    },
    "language_info": {
      "name": "python"
    },
    "widgets": {
      "application/vnd.jupyter.widget-state+json": {
        "00f6bc48245b48848e7afe5f6faad6bf": {
          "model_module": "@jupyter-widgets/base",
          "model_module_version": "1.2.0",
          "model_name": "LayoutModel",
          "state": {
            "_model_module": "@jupyter-widgets/base",
            "_model_module_version": "1.2.0",
            "_model_name": "LayoutModel",
            "_view_count": null,
            "_view_module": "@jupyter-widgets/base",
            "_view_module_version": "1.2.0",
            "_view_name": "LayoutView",
            "align_content": null,
            "align_items": null,
            "align_self": null,
            "border": null,
            "bottom": null,
            "display": null,
            "flex": null,
            "flex_flow": null,
            "grid_area": null,
            "grid_auto_columns": null,
            "grid_auto_flow": null,
            "grid_auto_rows": null,
            "grid_column": null,
            "grid_gap": null,
            "grid_row": null,
            "grid_template_areas": null,
            "grid_template_columns": null,
            "grid_template_rows": null,
            "height": null,
            "justify_content": null,
            "justify_items": null,
            "left": null,
            "margin": null,
            "max_height": null,
            "max_width": null,
            "min_height": null,
            "min_width": null,
            "object_fit": null,
            "object_position": null,
            "order": null,
            "overflow": null,
            "overflow_x": null,
            "overflow_y": null,
            "padding": null,
            "right": null,
            "top": null,
            "visibility": null,
            "width": null
          }
        },
        "20ca7ba7be93443fa97938c214a7d4d0": {
          "model_module": "@jupyter-widgets/controls",
          "model_module_version": "1.5.0",
          "model_name": "HBoxModel",
          "state": {
            "_dom_classes": [],
            "_model_module": "@jupyter-widgets/controls",
            "_model_module_version": "1.5.0",
            "_model_name": "HBoxModel",
            "_view_count": null,
            "_view_module": "@jupyter-widgets/controls",
            "_view_module_version": "1.5.0",
            "_view_name": "HBoxView",
            "box_style": "",
            "children": [
              "IPY_MODEL_dc17bea50b95477892c79f3cee3a66a6",
              "IPY_MODEL_f98301ed2930476485f8b28789cda22f",
              "IPY_MODEL_f13e68f5b9f049008ce67c0299d7c649"
            ],
            "layout": "IPY_MODEL_00f6bc48245b48848e7afe5f6faad6bf"
          }
        },
        "3de086a385a048de87feb464e5a94677": {
          "model_module": "@jupyter-widgets/base",
          "model_module_version": "1.2.0",
          "model_name": "LayoutModel",
          "state": {
            "_model_module": "@jupyter-widgets/base",
            "_model_module_version": "1.2.0",
            "_model_name": "LayoutModel",
            "_view_count": null,
            "_view_module": "@jupyter-widgets/base",
            "_view_module_version": "1.2.0",
            "_view_name": "LayoutView",
            "align_content": null,
            "align_items": null,
            "align_self": null,
            "border": null,
            "bottom": null,
            "display": null,
            "flex": null,
            "flex_flow": null,
            "grid_area": null,
            "grid_auto_columns": null,
            "grid_auto_flow": null,
            "grid_auto_rows": null,
            "grid_column": null,
            "grid_gap": null,
            "grid_row": null,
            "grid_template_areas": null,
            "grid_template_columns": null,
            "grid_template_rows": null,
            "height": null,
            "justify_content": null,
            "justify_items": null,
            "left": null,
            "margin": null,
            "max_height": null,
            "max_width": null,
            "min_height": null,
            "min_width": null,
            "object_fit": null,
            "object_position": null,
            "order": null,
            "overflow": null,
            "overflow_x": null,
            "overflow_y": null,
            "padding": null,
            "right": null,
            "top": null,
            "visibility": null,
            "width": null
          }
        },
        "694784a15d314ea2979fe557ad3e5423": {
          "model_module": "@jupyter-widgets/base",
          "model_module_version": "1.2.0",
          "model_name": "LayoutModel",
          "state": {
            "_model_module": "@jupyter-widgets/base",
            "_model_module_version": "1.2.0",
            "_model_name": "LayoutModel",
            "_view_count": null,
            "_view_module": "@jupyter-widgets/base",
            "_view_module_version": "1.2.0",
            "_view_name": "LayoutView",
            "align_content": null,
            "align_items": null,
            "align_self": null,
            "border": null,
            "bottom": null,
            "display": null,
            "flex": null,
            "flex_flow": null,
            "grid_area": null,
            "grid_auto_columns": null,
            "grid_auto_flow": null,
            "grid_auto_rows": null,
            "grid_column": null,
            "grid_gap": null,
            "grid_row": null,
            "grid_template_areas": null,
            "grid_template_columns": null,
            "grid_template_rows": null,
            "height": null,
            "justify_content": null,
            "justify_items": null,
            "left": null,
            "margin": null,
            "max_height": null,
            "max_width": null,
            "min_height": null,
            "min_width": null,
            "object_fit": null,
            "object_position": null,
            "order": null,
            "overflow": null,
            "overflow_x": null,
            "overflow_y": null,
            "padding": null,
            "right": null,
            "top": null,
            "visibility": null,
            "width": null
          }
        },
        "6d3b2882ed0f4ca0ad447f70462f410f": {
          "model_module": "@jupyter-widgets/base",
          "model_module_version": "1.2.0",
          "model_name": "LayoutModel",
          "state": {
            "_model_module": "@jupyter-widgets/base",
            "_model_module_version": "1.2.0",
            "_model_name": "LayoutModel",
            "_view_count": null,
            "_view_module": "@jupyter-widgets/base",
            "_view_module_version": "1.2.0",
            "_view_name": "LayoutView",
            "align_content": null,
            "align_items": null,
            "align_self": null,
            "border": null,
            "bottom": null,
            "display": null,
            "flex": null,
            "flex_flow": null,
            "grid_area": null,
            "grid_auto_columns": null,
            "grid_auto_flow": null,
            "grid_auto_rows": null,
            "grid_column": null,
            "grid_gap": null,
            "grid_row": null,
            "grid_template_areas": null,
            "grid_template_columns": null,
            "grid_template_rows": null,
            "height": null,
            "justify_content": null,
            "justify_items": null,
            "left": null,
            "margin": null,
            "max_height": null,
            "max_width": null,
            "min_height": null,
            "min_width": null,
            "object_fit": null,
            "object_position": null,
            "order": null,
            "overflow": null,
            "overflow_x": null,
            "overflow_y": null,
            "padding": null,
            "right": null,
            "top": null,
            "visibility": null,
            "width": "20px"
          }
        },
        "7baab20f731d4707abb8d235c4c94a0f": {
          "model_module": "@jupyter-widgets/controls",
          "model_module_version": "1.5.0",
          "model_name": "DescriptionStyleModel",
          "state": {
            "_model_module": "@jupyter-widgets/controls",
            "_model_module_version": "1.5.0",
            "_model_name": "DescriptionStyleModel",
            "_view_count": null,
            "_view_module": "@jupyter-widgets/base",
            "_view_module_version": "1.2.0",
            "_view_name": "StyleView",
            "description_width": ""
          }
        },
        "d30f46cae21344d69eab716a179a3c96": {
          "model_module": "@jupyter-widgets/controls",
          "model_module_version": "1.5.0",
          "model_name": "ProgressStyleModel",
          "state": {
            "_model_module": "@jupyter-widgets/controls",
            "_model_module_version": "1.5.0",
            "_model_name": "ProgressStyleModel",
            "_view_count": null,
            "_view_module": "@jupyter-widgets/base",
            "_view_module_version": "1.2.0",
            "_view_name": "StyleView",
            "bar_color": null,
            "description_width": ""
          }
        },
        "d624f54d4fce46ff8cc1a827a5178b17": {
          "model_module": "@jupyter-widgets/controls",
          "model_module_version": "1.5.0",
          "model_name": "DescriptionStyleModel",
          "state": {
            "_model_module": "@jupyter-widgets/controls",
            "_model_module_version": "1.5.0",
            "_model_name": "DescriptionStyleModel",
            "_view_count": null,
            "_view_module": "@jupyter-widgets/base",
            "_view_module_version": "1.2.0",
            "_view_name": "StyleView",
            "description_width": ""
          }
        },
        "dc17bea50b95477892c79f3cee3a66a6": {
          "model_module": "@jupyter-widgets/controls",
          "model_module_version": "1.5.0",
          "model_name": "HTMLModel",
          "state": {
            "_dom_classes": [],
            "_model_module": "@jupyter-widgets/controls",
            "_model_module_version": "1.5.0",
            "_model_name": "HTMLModel",
            "_view_count": null,
            "_view_module": "@jupyter-widgets/controls",
            "_view_module_version": "1.5.0",
            "_view_name": "HTMLView",
            "description": "",
            "description_tooltip": null,
            "layout": "IPY_MODEL_694784a15d314ea2979fe557ad3e5423",
            "placeholder": "​",
            "style": "IPY_MODEL_d624f54d4fce46ff8cc1a827a5178b17",
            "value": ""
          }
        },
        "f13e68f5b9f049008ce67c0299d7c649": {
          "model_module": "@jupyter-widgets/controls",
          "model_module_version": "1.5.0",
          "model_name": "HTMLModel",
          "state": {
            "_dom_classes": [],
            "_model_module": "@jupyter-widgets/controls",
            "_model_module_version": "1.5.0",
            "_model_name": "HTMLModel",
            "_view_count": null,
            "_view_module": "@jupyter-widgets/controls",
            "_view_module_version": "1.5.0",
            "_view_name": "HTMLView",
            "description": "",
            "description_tooltip": null,
            "layout": "IPY_MODEL_3de086a385a048de87feb464e5a94677",
            "placeholder": "​",
            "style": "IPY_MODEL_7baab20f731d4707abb8d235c4c94a0f",
            "value": " 0/0 [00:00&lt;?, ?it/s]"
          }
        },
        "f98301ed2930476485f8b28789cda22f": {
          "model_module": "@jupyter-widgets/controls",
          "model_module_version": "1.5.0",
          "model_name": "FloatProgressModel",
          "state": {
            "_dom_classes": [],
            "_model_module": "@jupyter-widgets/controls",
            "_model_module_version": "1.5.0",
            "_model_name": "FloatProgressModel",
            "_view_count": null,
            "_view_module": "@jupyter-widgets/controls",
            "_view_module_version": "1.5.0",
            "_view_name": "ProgressView",
            "bar_style": "success",
            "description": "",
            "description_tooltip": null,
            "layout": "IPY_MODEL_6d3b2882ed0f4ca0ad447f70462f410f",
            "max": 1,
            "min": 0,
            "orientation": "horizontal",
            "style": "IPY_MODEL_d30f46cae21344d69eab716a179a3c96",
            "value": 0
          }
        }
      }
    }
  },
  "nbformat": 4,
  "nbformat_minor": 0
}
