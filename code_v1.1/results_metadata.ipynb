{
  "cells": [
    {
      "cell_type": "code",
      "source": [
        "! pip uninstall -y transformers\n",
        "! pip install --quiet transformers==4.48.3"
      ],
      "metadata": {
        "id": "vrOX4t8OuYlt",
        "outputId": "b142c1ae-8133-4f9a-a23c-41eb444d262f",
        "colab": {
          "base_uri": "https://localhost:8080/"
        }
      },
      "execution_count": 1,
      "outputs": [
        {
          "output_type": "stream",
          "name": "stdout",
          "text": [
            "Found existing installation: transformers 4.48.3\n",
            "Uninstalling transformers-4.48.3:\n",
            "  Successfully uninstalled transformers-4.48.3\n"
          ]
        }
      ]
    },
    {
      "cell_type": "code",
      "execution_count": 3,
      "metadata": {
        "id": "BdjY1hRRteAI",
        "outputId": "b6f3efa0-7f8e-436b-9605-3cbc2db3980c",
        "colab": {
          "base_uri": "https://localhost:8080/",
          "height": 86,
          "referenced_widgets": [
            "20ca7ba7be93443fa97938c214a7d4d0",
            "dc17bea50b95477892c79f3cee3a66a6",
            "f98301ed2930476485f8b28789cda22f",
            "f13e68f5b9f049008ce67c0299d7c649",
            "00f6bc48245b48848e7afe5f6faad6bf",
            "694784a15d314ea2979fe557ad3e5423",
            "d624f54d4fce46ff8cc1a827a5178b17",
            "6d3b2882ed0f4ca0ad447f70462f410f",
            "d30f46cae21344d69eab716a179a3c96",
            "3de086a385a048de87feb464e5a94677",
            "7baab20f731d4707abb8d235c4c94a0f"
          ]
        }
      },
      "outputs": [
        {
          "output_type": "stream",
          "name": "stderr",
          "text": [
            "The cache for model files in Transformers v4.22.0 has been updated. Migrating your old cache. This is a one-time only operation. You can interrupt this and resume the migration later on by calling `transformers.utils.move_cache()`.\n"
          ]
        },
        {
          "output_type": "display_data",
          "data": {
            "text/plain": [
              "0it [00:00, ?it/s]"
            ],
            "application/vnd.jupyter.widget-view+json": {
              "version_major": 2,
              "version_minor": 0,
              "model_id": "20ca7ba7be93443fa97938c214a7d4d0"
            }
          },
          "metadata": {}
        }
      ],
      "source": [
        "import os\n",
        "import torch\n",
        "import pandas as pd\n",
        "import transformers\n",
        "from google.colab import drive\n",
        "from transformers import AutoModelForImageClassification, ViTHybridForImageClassification\n",
        "from datasets import load_dataset"
      ]
    },
    {
      "cell_type": "code",
      "source": [
        "print(transformers.__version__)"
      ],
      "metadata": {
        "id": "wJTrt9EduEqc",
        "outputId": "9dc273ab-be64-444b-d8cb-4e2351220e4f",
        "colab": {
          "base_uri": "https://localhost:8080/"
        }
      },
      "execution_count": 4,
      "outputs": [
        {
          "output_type": "stream",
          "name": "stdout",
          "text": [
            "4.48.3\n"
          ]
        }
      ]
    },
    {
      "cell_type": "code",
      "source": [
        "drive.mount('/content/drive')"
      ],
      "metadata": {
        "id": "UDJgWkc7x6m1",
        "outputId": "0f487c1b-9ae1-4335-9bd9-8eee7383a4b3",
        "colab": {
          "base_uri": "https://localhost:8080/"
        }
      },
      "execution_count": 5,
      "outputs": [
        {
          "output_type": "stream",
          "name": "stdout",
          "text": [
            "Drive already mounted at /content/drive; to attempt to forcibly remount, call drive.mount(\"/content/drive\", force_remount=True).\n"
          ]
        }
      ]
    },
    {
      "cell_type": "code",
      "source": [
        "def get_model_param_info(model_names, output_file):\n",
        "    model_data = []\n",
        "\n",
        "    for model_name in model_names:\n",
        "        print(f\"\\n🔍 Model: {model_name}\")\n",
        "\n",
        "        # Load model based on type\n",
        "        if \"hybrid\" in model_name:\n",
        "            model = ViTHybridForImageClassification.from_pretrained(model_name, num_labels=8, ignore_mismatched_sizes=True)\n",
        "        else:\n",
        "            model = AutoModelForImageClassification.from_pretrained(model_name, num_labels=8, ignore_mismatched_sizes=True)\n",
        "\n",
        "        # Identify trainable parameters\n",
        "        for name, param in model.named_parameters():\n",
        "            param.requires_grad = any(head in name for head in [\"head\", \"classifier\"])\n",
        "\n",
        "        # Count parameters\n",
        "        num_params = sum(p.numel() for p in model.parameters())\n",
        "        trainable_params = sum(p.numel() for p in model.parameters() if p.requires_grad)\n",
        "\n",
        "        print(f\"Total Parameters: {num_params:,} | Trainable: {trainable_params:,}\")\n",
        "\n",
        "        # Append to list\n",
        "        model_data.append({\n",
        "            \"Model\": model_name,\n",
        "            \"Total Parameters\": num_params,\n",
        "            \"Trainable Parameters\": trainable_params,\n",
        "        })\n",
        "\n",
        "    # Convert to DataFrame and save to Excel\n",
        "    df_models = pd.DataFrame(model_data)\n",
        "    return df_models\n",
        "\n",
        "def get_dataset_info(dataset_path):\n",
        "    dataset = load_dataset(dataset_path)\n",
        "\n",
        "    # Get label names from the dataset metadata\n",
        "    label_names = dataset[\"train\"].features[\"label\"].names  # Assuming all splits have the same labels\n",
        "\n",
        "    class_data = []\n",
        "\n",
        "    for split in dataset.keys():\n",
        "        df = dataset[split].to_pandas()\n",
        "        class_counts = df[\"label\"].value_counts().reset_index()\n",
        "        class_counts.columns = [\"Class Index\", \"Count\"]\n",
        "        class_counts[\"Class\"] = class_counts[\"Class Index\"].map(lambda x: label_names[x])  # Map index to label\n",
        "        class_counts[\"Split\"] = split\n",
        "        class_counts = class_counts[[\"Class\", \"Class Index\", \"Count\", \"Split\"]]  # Reorder columns\n",
        "        class_data.append(class_counts)\n",
        "\n",
        "    # Merge all splits into one DataFrame\n",
        "    df_dataset = pd.concat(class_data, ignore_index=True)\n",
        "    return df_dataset"
      ],
      "metadata": {
        "id": "lS5q3TIOtwnq"
      },
      "execution_count": 11,
      "outputs": []
    },
    {
      "cell_type": "code",
      "source": [
        "model_list = [\n",
        "  \"facebook/convnextv2-base-1k-224\",\n",
        "  \"google/vit-hybrid-base-bit-384\",\n",
        "  \"google/vit-base-patch16-224\",\n",
        "  \"microsoft/swin-base-patch4-window7-224\",\n",
        "  \"facebook/deit-base-patch16-224\",\n",
        "  \"facebook/dinov2-base\",\n",
        "  \"timm/vit_small_patch16_224.augreg_in21k\",\n",
        "  \"microsoft/swin-tiny-patch4-window7-224\",\n",
        "  \"facebook/deit-small-patch16-224\",\n",
        "  \"facebook/convnextv2-tiny-1k-224\",\n",
        "  \"apple/mobilevit-small\",\n",
        "  \"timm/mobilevitv2_150.cvnets_in22k_ft_in1k\",\n",
        "  \"google/efficientnet-b2\",\n",
        "  \"timm/efficientvit_b1.r224_in1k\",\n",
        "  \"timm/efficientvit_m4.r224_in1k\",\n",
        "  \"timm/efficientformerv2_s2.snap_dist_in1k\",\n",
        "  \"timm/efficientformer_l1.snap_dist_in1k\"\n",
        "]\n",
        "\n",
        "\n",
        "dataset_path = 'cvmil/rice-leaf-disease-augmented-v4'\n",
        "output_file = \"/content/drive/Shareddrives/CS198-Drones/[TEST] Models/model_and_dataset_info.xlsx\"\n",
        "os.makedirs(os.path.dirname(output_file), exist_ok=True)\n",
        "\n",
        "# Get model and dataset info\n",
        "df_models = get_model_param_info(model_list, output_file)\n",
        "df_dataset = get_dataset_info(dataset_path)\n",
        "\n",
        "# Save both tables to the same Excel file\n",
        "with pd.ExcelWriter(output_file, engine='openpyxl') as writer:\n",
        "    df_models.to_excel(writer, sheet_name=\"Model Parameters\", index=False)\n",
        "    df_dataset.to_excel(writer, sheet_name=\"Dataset Info\", index=False)\n",
        "\n",
        "print(f\"\\n✅ Results saved to {output_file}\")"
      ],
      "metadata": {
        "id": "VfPtKbvzxyg9",
        "outputId": "2fd8e933-4ada-4e7d-a3e3-916b8d4c3f70",
        "colab": {
          "base_uri": "https://localhost:8080/"
        }
      },
      "execution_count": 13,
      "outputs": [
        {
          "output_type": "stream",
          "name": "stdout",
          "text": [
            "\n",
            "🔍 Model: facebook/convnextv2-base-1k-224\n"
          ]
        },
        {
          "output_type": "stream",
          "name": "stderr",
          "text": [
            "Some weights of ConvNextV2ForImageClassification were not initialized from the model checkpoint at facebook/convnextv2-base-1k-224 and are newly initialized because the shapes did not match:\n",
            "- classifier.bias: found shape torch.Size([1000]) in the checkpoint and torch.Size([8]) in the model instantiated\n",
            "- classifier.weight: found shape torch.Size([1000, 1024]) in the checkpoint and torch.Size([8, 1024]) in the model instantiated\n",
            "You should probably TRAIN this model on a down-stream task to be able to use it for predictions and inference.\n"
          ]
        },
        {
          "output_type": "stream",
          "name": "stdout",
          "text": [
            "Total Parameters: 87,701,000 | Trainable: 8,200\n",
            "\n",
            "🔍 Model: google/vit-hybrid-base-bit-384\n"
          ]
        },
        {
          "output_type": "stream",
          "name": "stderr",
          "text": [
            "Some weights of ViTHybridForImageClassification were not initialized from the model checkpoint at google/vit-hybrid-base-bit-384 and are newly initialized because the shapes did not match:\n",
            "- classifier.bias: found shape torch.Size([1000]) in the checkpoint and torch.Size([8]) in the model instantiated\n",
            "- classifier.weight: found shape torch.Size([1000, 768]) in the checkpoint and torch.Size([8, 768]) in the model instantiated\n",
            "You should probably TRAIN this model on a down-stream task to be able to use it for predictions and inference.\n"
          ]
        },
        {
          "output_type": "stream",
          "name": "stdout",
          "text": [
            "Total Parameters: 98,188,104 | Trainable: 6,152\n",
            "\n",
            "🔍 Model: google/vit-base-patch16-224\n"
          ]
        },
        {
          "output_type": "stream",
          "name": "stderr",
          "text": [
            "Some weights of ViTForImageClassification were not initialized from the model checkpoint at google/vit-base-patch16-224 and are newly initialized because the shapes did not match:\n",
            "- classifier.bias: found shape torch.Size([1000]) in the checkpoint and torch.Size([8]) in the model instantiated\n",
            "- classifier.weight: found shape torch.Size([1000, 768]) in the checkpoint and torch.Size([8, 768]) in the model instantiated\n",
            "You should probably TRAIN this model on a down-stream task to be able to use it for predictions and inference.\n"
          ]
        },
        {
          "output_type": "stream",
          "name": "stdout",
          "text": [
            "Total Parameters: 85,804,808 | Trainable: 6,152\n",
            "\n",
            "🔍 Model: microsoft/swin-base-patch4-window7-224\n"
          ]
        },
        {
          "output_type": "stream",
          "name": "stderr",
          "text": [
            "Some weights of SwinForImageClassification were not initialized from the model checkpoint at microsoft/swin-base-patch4-window7-224 and are newly initialized because the shapes did not match:\n",
            "- classifier.bias: found shape torch.Size([1000]) in the checkpoint and torch.Size([8]) in the model instantiated\n",
            "- classifier.weight: found shape torch.Size([1000, 1024]) in the checkpoint and torch.Size([8, 1024]) in the model instantiated\n",
            "You should probably TRAIN this model on a down-stream task to be able to use it for predictions and inference.\n"
          ]
        },
        {
          "output_type": "stream",
          "name": "stdout",
          "text": [
            "Total Parameters: 86,751,424 | Trainable: 8,200\n",
            "\n",
            "🔍 Model: facebook/deit-base-patch16-224\n"
          ]
        },
        {
          "output_type": "stream",
          "name": "stderr",
          "text": [
            "Some weights of ViTForImageClassification were not initialized from the model checkpoint at facebook/deit-base-patch16-224 and are newly initialized because the shapes did not match:\n",
            "- classifier.weight: found shape torch.Size([1000, 768]) in the checkpoint and torch.Size([8, 768]) in the model instantiated\n",
            "- classifier.bias: found shape torch.Size([1000]) in the checkpoint and torch.Size([8]) in the model instantiated\n",
            "You should probably TRAIN this model on a down-stream task to be able to use it for predictions and inference.\n"
          ]
        },
        {
          "output_type": "stream",
          "name": "stdout",
          "text": [
            "Total Parameters: 85,804,808 | Trainable: 6,152\n",
            "\n",
            "🔍 Model: facebook/dinov2-base\n"
          ]
        },
        {
          "output_type": "stream",
          "name": "stderr",
          "text": [
            "Some weights of Dinov2ForImageClassification were not initialized from the model checkpoint at facebook/dinov2-base and are newly initialized: ['classifier.bias', 'classifier.weight']\n",
            "You should probably TRAIN this model on a down-stream task to be able to use it for predictions and inference.\n"
          ]
        },
        {
          "output_type": "stream",
          "name": "stdout",
          "text": [
            "Total Parameters: 86,592,776 | Trainable: 12,296\n",
            "\n",
            "🔍 Model: timm/vit_small_patch16_224.augreg_in21k\n"
          ]
        },
        {
          "output_type": "stream",
          "name": "stderr",
          "text": [
            "Some weights of TimmWrapperForImageClassification were not initialized from the model checkpoint at timm/vit_small_patch16_224.augreg_in21k and are newly initialized because the shapes did not match:\n",
            "- head.bias: found shape torch.Size([21843]) in the checkpoint and torch.Size([8]) in the model instantiated\n",
            "- head.weight: found shape torch.Size([21843, 384]) in the checkpoint and torch.Size([8, 384]) in the model instantiated\n",
            "You should probably TRAIN this model on a down-stream task to be able to use it for predictions and inference.\n"
          ]
        },
        {
          "output_type": "stream",
          "name": "stdout",
          "text": [
            "Total Parameters: 21,668,744 | Trainable: 3,080\n",
            "\n",
            "🔍 Model: microsoft/swin-tiny-patch4-window7-224\n"
          ]
        },
        {
          "output_type": "stream",
          "name": "stderr",
          "text": [
            "Some weights of SwinForImageClassification were not initialized from the model checkpoint at microsoft/swin-tiny-patch4-window7-224 and are newly initialized because the shapes did not match:\n",
            "- classifier.bias: found shape torch.Size([1000]) in the checkpoint and torch.Size([8]) in the model instantiated\n",
            "- classifier.weight: found shape torch.Size([1000, 768]) in the checkpoint and torch.Size([8, 768]) in the model instantiated\n",
            "You should probably TRAIN this model on a down-stream task to be able to use it for predictions and inference.\n"
          ]
        },
        {
          "output_type": "stream",
          "name": "stdout",
          "text": [
            "Total Parameters: 27,525,506 | Trainable: 6,152\n",
            "\n",
            "🔍 Model: facebook/deit-small-patch16-224\n"
          ]
        },
        {
          "output_type": "stream",
          "name": "stderr",
          "text": [
            "Some weights of ViTForImageClassification were not initialized from the model checkpoint at facebook/deit-small-patch16-224 and are newly initialized because the shapes did not match:\n",
            "- classifier.weight: found shape torch.Size([1000, 384]) in the checkpoint and torch.Size([8, 384]) in the model instantiated\n",
            "- classifier.bias: found shape torch.Size([1000]) in the checkpoint and torch.Size([8]) in the model instantiated\n",
            "You should probably TRAIN this model on a down-stream task to be able to use it for predictions and inference.\n"
          ]
        },
        {
          "output_type": "stream",
          "name": "stdout",
          "text": [
            "Total Parameters: 21,668,744 | Trainable: 3,080\n",
            "\n",
            "🔍 Model: facebook/convnextv2-tiny-1k-224\n"
          ]
        },
        {
          "output_type": "stream",
          "name": "stderr",
          "text": [
            "Some weights of ConvNextV2ForImageClassification were not initialized from the model checkpoint at facebook/convnextv2-tiny-1k-224 and are newly initialized because the shapes did not match:\n",
            "- classifier.bias: found shape torch.Size([1000]) in the checkpoint and torch.Size([8]) in the model instantiated\n",
            "- classifier.weight: found shape torch.Size([1000, 768]) in the checkpoint and torch.Size([8, 768]) in the model instantiated\n",
            "You should probably TRAIN this model on a down-stream task to be able to use it for predictions and inference.\n"
          ]
        },
        {
          "output_type": "stream",
          "name": "stdout",
          "text": [
            "Total Parameters: 27,872,648 | Trainable: 6,152\n",
            "\n",
            "🔍 Model: apple/mobilevit-small\n"
          ]
        },
        {
          "output_type": "stream",
          "name": "stderr",
          "text": [
            "Some weights of MobileViTForImageClassification were not initialized from the model checkpoint at apple/mobilevit-small and are newly initialized because the shapes did not match:\n",
            "- classifier.weight: found shape torch.Size([1000, 640]) in the checkpoint and torch.Size([8, 640]) in the model instantiated\n",
            "- classifier.bias: found shape torch.Size([1000]) in the checkpoint and torch.Size([8]) in the model instantiated\n",
            "You should probably TRAIN this model on a down-stream task to be able to use it for predictions and inference.\n"
          ]
        },
        {
          "output_type": "stream",
          "name": "stdout",
          "text": [
            "Total Parameters: 4,942,760 | Trainable: 5,128\n",
            "\n",
            "🔍 Model: timm/mobilevitv2_150.cvnets_in22k_ft_in1k\n"
          ]
        },
        {
          "output_type": "stream",
          "name": "stderr",
          "text": [
            "Some weights of TimmWrapperForImageClassification were not initialized from the model checkpoint at timm/mobilevitv2_150.cvnets_in22k_ft_in1k and are newly initialized because the shapes did not match:\n",
            "- head.fc.bias: found shape torch.Size([1000]) in the checkpoint and torch.Size([8]) in the model instantiated\n",
            "- head.fc.weight: found shape torch.Size([1000, 768]) in the checkpoint and torch.Size([8, 768]) in the model instantiated\n",
            "You should probably TRAIN this model on a down-stream task to be able to use it for predictions and inference.\n"
          ]
        },
        {
          "output_type": "stream",
          "name": "stdout",
          "text": [
            "Total Parameters: 9,831,905 | Trainable: 6,152\n",
            "\n",
            "🔍 Model: google/efficientnet-b2\n"
          ]
        },
        {
          "output_type": "stream",
          "name": "stderr",
          "text": [
            "Some weights of EfficientNetForImageClassification were not initialized from the model checkpoint at google/efficientnet-b2 and are newly initialized because the shapes did not match:\n",
            "- classifier.weight: found shape torch.Size([1000, 1408]) in the checkpoint and torch.Size([8, 1408]) in the model instantiated\n",
            "- classifier.bias: found shape torch.Size([1000]) in the checkpoint and torch.Size([8]) in the model instantiated\n",
            "You should probably TRAIN this model on a down-stream task to be able to use it for predictions and inference.\n"
          ]
        },
        {
          "output_type": "stream",
          "name": "stdout",
          "text": [
            "Total Parameters: 7,712,266 | Trainable: 11,272\n",
            "\n",
            "🔍 Model: timm/efficientvit_b1.r224_in1k\n"
          ]
        },
        {
          "output_type": "stream",
          "name": "stderr",
          "text": [
            "Some weights of TimmWrapperForImageClassification were not initialized from the model checkpoint at timm/efficientvit_b1.r224_in1k and are newly initialized because the shapes did not match:\n",
            "- head.classifier.4.bias: found shape torch.Size([1000]) in the checkpoint and torch.Size([8]) in the model instantiated\n",
            "- head.classifier.4.weight: found shape torch.Size([1000, 1600]) in the checkpoint and torch.Size([8, 1600]) in the model instantiated\n",
            "You should probably TRAIN this model on a down-stream task to be able to use it for predictions and inference.\n"
          ]
        },
        {
          "output_type": "stream",
          "name": "stdout",
          "text": [
            "Total Parameters: 7,513,832 | Trainable: 2,869,896\n",
            "\n",
            "🔍 Model: timm/efficientvit_m4.r224_in1k\n"
          ]
        },
        {
          "output_type": "stream",
          "name": "stderr",
          "text": [
            "Some weights of TimmWrapperForImageClassification were not initialized from the model checkpoint at timm/efficientvit_m4.r224_in1k and are newly initialized because the shapes did not match:\n",
            "- head.linear.bias: found shape torch.Size([1000]) in the checkpoint and torch.Size([8]) in the model instantiated\n",
            "- head.linear.weight: found shape torch.Size([1000, 384]) in the checkpoint and torch.Size([8, 384]) in the model instantiated\n",
            "You should probably TRAIN this model on a down-stream task to be able to use it for predictions and inference.\n"
          ]
        },
        {
          "output_type": "stream",
          "name": "stdout",
          "text": [
            "Total Parameters: 8,422,308 | Trainable: 3,848\n",
            "\n",
            "🔍 Model: timm/efficientformerv2_s2.snap_dist_in1k\n"
          ]
        },
        {
          "output_type": "stream",
          "name": "stderr",
          "text": [
            "Some weights of TimmWrapperForImageClassification were not initialized from the model checkpoint at timm/efficientformerv2_s2.snap_dist_in1k and are newly initialized because the shapes did not match:\n",
            "- head.bias: found shape torch.Size([1000]) in the checkpoint and torch.Size([8]) in the model instantiated\n",
            "- head.weight: found shape torch.Size([1000, 288]) in the checkpoint and torch.Size([8, 288]) in the model instantiated\n",
            "- head_dist.bias: found shape torch.Size([1000]) in the checkpoint and torch.Size([8]) in the model instantiated\n",
            "- head_dist.weight: found shape torch.Size([1000, 288]) in the checkpoint and torch.Size([8, 288]) in the model instantiated\n",
            "You should probably TRAIN this model on a down-stream task to be able to use it for predictions and inference.\n"
          ]
        },
        {
          "output_type": "stream",
          "name": "stdout",
          "text": [
            "Total Parameters: 12,136,736 | Trainable: 5,776\n",
            "\n",
            "🔍 Model: timm/efficientformer_l1.snap_dist_in1k\n"
          ]
        },
        {
          "output_type": "stream",
          "name": "stderr",
          "text": [
            "Some weights of TimmWrapperForImageClassification were not initialized from the model checkpoint at timm/efficientformer_l1.snap_dist_in1k and are newly initialized because the shapes did not match:\n",
            "- head.bias: found shape torch.Size([1000]) in the checkpoint and torch.Size([8]) in the model instantiated\n",
            "- head.weight: found shape torch.Size([1000, 448]) in the checkpoint and torch.Size([8, 448]) in the model instantiated\n",
            "- head_dist.bias: found shape torch.Size([1000]) in the checkpoint and torch.Size([8]) in the model instantiated\n",
            "- head_dist.weight: found shape torch.Size([1000, 448]) in the checkpoint and torch.Size([8, 448]) in the model instantiated\n",
            "You should probably TRAIN this model on a down-stream task to be able to use it for predictions and inference.\n"
          ]
        },
        {
          "output_type": "stream",
          "name": "stdout",
          "text": [
            "Total Parameters: 11,399,112 | Trainable: 7,184\n",
            "\n",
            "✅ Results saved to /content/drive/Shareddrives/CS198-Drones/[TEST] Models/model_and_dataset_info.xlsx\n"
          ]
        }
      ]
    }
  ],
  "metadata": {
    "language_info": {
      "name": "python"
    },
    "colab": {
      "provenance": [],
      "gpuType": "T4"
    },
    "kernelspec": {
      "name": "python3",
      "display_name": "Python 3"
    },
    "accelerator": "GPU",
    "widgets": {
      "application/vnd.jupyter.widget-state+json": {
        "20ca7ba7be93443fa97938c214a7d4d0": {
          "model_module": "@jupyter-widgets/controls",
          "model_name": "HBoxModel",
          "model_module_version": "1.5.0",
          "state": {
            "_dom_classes": [],
            "_model_module": "@jupyter-widgets/controls",
            "_model_module_version": "1.5.0",
            "_model_name": "HBoxModel",
            "_view_count": null,
            "_view_module": "@jupyter-widgets/controls",
            "_view_module_version": "1.5.0",
            "_view_name": "HBoxView",
            "box_style": "",
            "children": [
              "IPY_MODEL_dc17bea50b95477892c79f3cee3a66a6",
              "IPY_MODEL_f98301ed2930476485f8b28789cda22f",
              "IPY_MODEL_f13e68f5b9f049008ce67c0299d7c649"
            ],
            "layout": "IPY_MODEL_00f6bc48245b48848e7afe5f6faad6bf"
          }
        },
        "dc17bea50b95477892c79f3cee3a66a6": {
          "model_module": "@jupyter-widgets/controls",
          "model_name": "HTMLModel",
          "model_module_version": "1.5.0",
          "state": {
            "_dom_classes": [],
            "_model_module": "@jupyter-widgets/controls",
            "_model_module_version": "1.5.0",
            "_model_name": "HTMLModel",
            "_view_count": null,
            "_view_module": "@jupyter-widgets/controls",
            "_view_module_version": "1.5.0",
            "_view_name": "HTMLView",
            "description": "",
            "description_tooltip": null,
            "layout": "IPY_MODEL_694784a15d314ea2979fe557ad3e5423",
            "placeholder": "​",
            "style": "IPY_MODEL_d624f54d4fce46ff8cc1a827a5178b17",
            "value": ""
          }
        },
        "f98301ed2930476485f8b28789cda22f": {
          "model_module": "@jupyter-widgets/controls",
          "model_name": "FloatProgressModel",
          "model_module_version": "1.5.0",
          "state": {
            "_dom_classes": [],
            "_model_module": "@jupyter-widgets/controls",
            "_model_module_version": "1.5.0",
            "_model_name": "FloatProgressModel",
            "_view_count": null,
            "_view_module": "@jupyter-widgets/controls",
            "_view_module_version": "1.5.0",
            "_view_name": "ProgressView",
            "bar_style": "success",
            "description": "",
            "description_tooltip": null,
            "layout": "IPY_MODEL_6d3b2882ed0f4ca0ad447f70462f410f",
            "max": 1,
            "min": 0,
            "orientation": "horizontal",
            "style": "IPY_MODEL_d30f46cae21344d69eab716a179a3c96",
            "value": 0
          }
        },
        "f13e68f5b9f049008ce67c0299d7c649": {
          "model_module": "@jupyter-widgets/controls",
          "model_name": "HTMLModel",
          "model_module_version": "1.5.0",
          "state": {
            "_dom_classes": [],
            "_model_module": "@jupyter-widgets/controls",
            "_model_module_version": "1.5.0",
            "_model_name": "HTMLModel",
            "_view_count": null,
            "_view_module": "@jupyter-widgets/controls",
            "_view_module_version": "1.5.0",
            "_view_name": "HTMLView",
            "description": "",
            "description_tooltip": null,
            "layout": "IPY_MODEL_3de086a385a048de87feb464e5a94677",
            "placeholder": "​",
            "style": "IPY_MODEL_7baab20f731d4707abb8d235c4c94a0f",
            "value": " 0/0 [00:00&lt;?, ?it/s]"
          }
        },
        "00f6bc48245b48848e7afe5f6faad6bf": {
          "model_module": "@jupyter-widgets/base",
          "model_name": "LayoutModel",
          "model_module_version": "1.2.0",
          "state": {
            "_model_module": "@jupyter-widgets/base",
            "_model_module_version": "1.2.0",
            "_model_name": "LayoutModel",
            "_view_count": null,
            "_view_module": "@jupyter-widgets/base",
            "_view_module_version": "1.2.0",
            "_view_name": "LayoutView",
            "align_content": null,
            "align_items": null,
            "align_self": null,
            "border": null,
            "bottom": null,
            "display": null,
            "flex": null,
            "flex_flow": null,
            "grid_area": null,
            "grid_auto_columns": null,
            "grid_auto_flow": null,
            "grid_auto_rows": null,
            "grid_column": null,
            "grid_gap": null,
            "grid_row": null,
            "grid_template_areas": null,
            "grid_template_columns": null,
            "grid_template_rows": null,
            "height": null,
            "justify_content": null,
            "justify_items": null,
            "left": null,
            "margin": null,
            "max_height": null,
            "max_width": null,
            "min_height": null,
            "min_width": null,
            "object_fit": null,
            "object_position": null,
            "order": null,
            "overflow": null,
            "overflow_x": null,
            "overflow_y": null,
            "padding": null,
            "right": null,
            "top": null,
            "visibility": null,
            "width": null
          }
        },
        "694784a15d314ea2979fe557ad3e5423": {
          "model_module": "@jupyter-widgets/base",
          "model_name": "LayoutModel",
          "model_module_version": "1.2.0",
          "state": {
            "_model_module": "@jupyter-widgets/base",
            "_model_module_version": "1.2.0",
            "_model_name": "LayoutModel",
            "_view_count": null,
            "_view_module": "@jupyter-widgets/base",
            "_view_module_version": "1.2.0",
            "_view_name": "LayoutView",
            "align_content": null,
            "align_items": null,
            "align_self": null,
            "border": null,
            "bottom": null,
            "display": null,
            "flex": null,
            "flex_flow": null,
            "grid_area": null,
            "grid_auto_columns": null,
            "grid_auto_flow": null,
            "grid_auto_rows": null,
            "grid_column": null,
            "grid_gap": null,
            "grid_row": null,
            "grid_template_areas": null,
            "grid_template_columns": null,
            "grid_template_rows": null,
            "height": null,
            "justify_content": null,
            "justify_items": null,
            "left": null,
            "margin": null,
            "max_height": null,
            "max_width": null,
            "min_height": null,
            "min_width": null,
            "object_fit": null,
            "object_position": null,
            "order": null,
            "overflow": null,
            "overflow_x": null,
            "overflow_y": null,
            "padding": null,
            "right": null,
            "top": null,
            "visibility": null,
            "width": null
          }
        },
        "d624f54d4fce46ff8cc1a827a5178b17": {
          "model_module": "@jupyter-widgets/controls",
          "model_name": "DescriptionStyleModel",
          "model_module_version": "1.5.0",
          "state": {
            "_model_module": "@jupyter-widgets/controls",
            "_model_module_version": "1.5.0",
            "_model_name": "DescriptionStyleModel",
            "_view_count": null,
            "_view_module": "@jupyter-widgets/base",
            "_view_module_version": "1.2.0",
            "_view_name": "StyleView",
            "description_width": ""
          }
        },
        "6d3b2882ed0f4ca0ad447f70462f410f": {
          "model_module": "@jupyter-widgets/base",
          "model_name": "LayoutModel",
          "model_module_version": "1.2.0",
          "state": {
            "_model_module": "@jupyter-widgets/base",
            "_model_module_version": "1.2.0",
            "_model_name": "LayoutModel",
            "_view_count": null,
            "_view_module": "@jupyter-widgets/base",
            "_view_module_version": "1.2.0",
            "_view_name": "LayoutView",
            "align_content": null,
            "align_items": null,
            "align_self": null,
            "border": null,
            "bottom": null,
            "display": null,
            "flex": null,
            "flex_flow": null,
            "grid_area": null,
            "grid_auto_columns": null,
            "grid_auto_flow": null,
            "grid_auto_rows": null,
            "grid_column": null,
            "grid_gap": null,
            "grid_row": null,
            "grid_template_areas": null,
            "grid_template_columns": null,
            "grid_template_rows": null,
            "height": null,
            "justify_content": null,
            "justify_items": null,
            "left": null,
            "margin": null,
            "max_height": null,
            "max_width": null,
            "min_height": null,
            "min_width": null,
            "object_fit": null,
            "object_position": null,
            "order": null,
            "overflow": null,
            "overflow_x": null,
            "overflow_y": null,
            "padding": null,
            "right": null,
            "top": null,
            "visibility": null,
            "width": "20px"
          }
        },
        "d30f46cae21344d69eab716a179a3c96": {
          "model_module": "@jupyter-widgets/controls",
          "model_name": "ProgressStyleModel",
          "model_module_version": "1.5.0",
          "state": {
            "_model_module": "@jupyter-widgets/controls",
            "_model_module_version": "1.5.0",
            "_model_name": "ProgressStyleModel",
            "_view_count": null,
            "_view_module": "@jupyter-widgets/base",
            "_view_module_version": "1.2.0",
            "_view_name": "StyleView",
            "bar_color": null,
            "description_width": ""
          }
        },
        "3de086a385a048de87feb464e5a94677": {
          "model_module": "@jupyter-widgets/base",
          "model_name": "LayoutModel",
          "model_module_version": "1.2.0",
          "state": {
            "_model_module": "@jupyter-widgets/base",
            "_model_module_version": "1.2.0",
            "_model_name": "LayoutModel",
            "_view_count": null,
            "_view_module": "@jupyter-widgets/base",
            "_view_module_version": "1.2.0",
            "_view_name": "LayoutView",
            "align_content": null,
            "align_items": null,
            "align_self": null,
            "border": null,
            "bottom": null,
            "display": null,
            "flex": null,
            "flex_flow": null,
            "grid_area": null,
            "grid_auto_columns": null,
            "grid_auto_flow": null,
            "grid_auto_rows": null,
            "grid_column": null,
            "grid_gap": null,
            "grid_row": null,
            "grid_template_areas": null,
            "grid_template_columns": null,
            "grid_template_rows": null,
            "height": null,
            "justify_content": null,
            "justify_items": null,
            "left": null,
            "margin": null,
            "max_height": null,
            "max_width": null,
            "min_height": null,
            "min_width": null,
            "object_fit": null,
            "object_position": null,
            "order": null,
            "overflow": null,
            "overflow_x": null,
            "overflow_y": null,
            "padding": null,
            "right": null,
            "top": null,
            "visibility": null,
            "width": null
          }
        },
        "7baab20f731d4707abb8d235c4c94a0f": {
          "model_module": "@jupyter-widgets/controls",
          "model_name": "DescriptionStyleModel",
          "model_module_version": "1.5.0",
          "state": {
            "_model_module": "@jupyter-widgets/controls",
            "_model_module_version": "1.5.0",
            "_model_name": "DescriptionStyleModel",
            "_view_count": null,
            "_view_module": "@jupyter-widgets/base",
            "_view_module_version": "1.2.0",
            "_view_name": "StyleView",
            "description_width": ""
          }
        }
      }
    }
  },
  "nbformat": 4,
  "nbformat_minor": 0
}