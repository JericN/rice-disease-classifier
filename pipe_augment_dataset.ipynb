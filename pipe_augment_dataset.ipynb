{
 "cells": [
  {
   "cell_type": "code",
   "execution_count": null,
   "metadata": {},
   "outputs": [],
   "source": [
    "! pip install --quiet datasets\n",
    "! pip install --quiet tabulate\n",
    "! pip install --quiet torchvision"
   ]
  },
  {
   "cell_type": "code",
   "execution_count": null,
   "metadata": {},
   "outputs": [],
   "source": [
    "import random\n",
    "from pathlib import Path\n",
    "from PIL import Image, UnidentifiedImageError\n",
    "import shutil\n",
    "from tqdm import tqdm\n",
    "from torchvision import transforms"
   ]
  },
  {
   "cell_type": "code",
   "execution_count": null,
   "metadata": {},
   "outputs": [],
   "source": [
    "# Define paths\n",
    "train_dir = Path('dataset/rice-leaf-disease-raw')\n",
    "output_dir = Path('dataset/rice-leaf-disease-augmented')"
   ]
  },
  {
   "cell_type": "markdown",
   "metadata": {},
   "source": [
    "# Dataset Augmentation"
   ]
  },
  {
   "cell_type": "code",
   "execution_count": null,
   "metadata": {},
   "outputs": [],
   "source": [
    "# Create an augmentation pipeline using torchvision\n",
    "augmentation_pipeline = transforms.Compose([\n",
    "    # Geometric Transformations\n",
    "    transforms.RandomHorizontalFlip(p=0.5),\n",
    "    transforms.RandomVerticalFlip(p=0.5),\n",
    "    transforms.RandomRotation(degrees=30),\n",
    "    transforms.RandomAffine(degrees=0, scale=(1, 1.3), shear=30),\n",
    "    \n",
    "    # Photometric Transformations\n",
    "    transforms.ColorJitter(brightness=0.3, contrast=0.3, saturation=0.2, hue=0.05),\n",
    "    \n",
    "    # Noise-based Transformations\n",
    "    transforms.RandomApply([transforms.GaussianBlur(kernel_size=5)], p=0.5),\n",
    "    \n",
    "    # Convert to tensor and back to PIL image to maintain compatibility\n",
    "    transforms.ToTensor(),\n",
    "    transforms.ToPILImage()\n",
    "])\n",
    "\n",
    "# Helper function to check if a file is an image\n",
    "def is_image_file(file_path):\n",
    "    return file_path.suffix.lower() in {'.jpg', '.jpeg', '.png'}\n",
    "\n",
    "# Function to copy and rename original images\n",
    "def copy_and_rename_images(src_dir, dest_dir):\n",
    "    for category in tqdm(list(src_dir.iterdir()), desc=\"Copying and Renaming Original Images\"):\n",
    "        if category.is_dir():\n",
    "            dest_category_dir = dest_dir / category.name\n",
    "            dest_category_dir.mkdir(parents=True, exist_ok=True)\n",
    "\n",
    "            for idx, img_file in enumerate(category.glob('*'), 1):\n",
    "                if is_image_file(img_file):\n",
    "                    try:\n",
    "                        Image.open(img_file).verify()  # Ensure file is an image\n",
    "                        new_filename = f\"{category.name}_{idx}.jpg\"\n",
    "                        shutil.copy(img_file, dest_category_dir / new_filename)\n",
    "                    except UnidentifiedImageError:\n",
    "                        print(f\"Skipping non-image file: {img_file}\")\n",
    "\n",
    "# Function to augment images and save them\n",
    "def augment_images_in_dir(dir_path, target_count):\n",
    "    for category in tqdm(list(dir_path.iterdir()), desc=\"Augmenting Images\"):\n",
    "        if category.is_dir():\n",
    "            images = [img for img in category.glob('*') if is_image_file(img)]\n",
    "            count = len(images)\n",
    "\n",
    "            with tqdm(total=target_count - count, desc=f\"Augmenting {category.name}\", leave=False) as pbar:\n",
    "                while count < target_count:\n",
    "                    img_file = random.choice(images)\n",
    "                    try:\n",
    "                        img = Image.open(img_file).convert(\"RGB\")\n",
    "                        augmented_img = augmentation_pipeline(img)\n",
    "                        new_filename = f\"{category.name}_aug_{count + 1}.jpg\"\n",
    "                        augmented_img.save(category / new_filename)\n",
    "                        count += 1\n",
    "                        pbar.update(1)\n",
    "                    except UnidentifiedImageError:\n",
    "                        print(f\"Skipping non-image file: {img_file}\")\n",
    "\n",
    "# Remove existing output directory if present\n",
    "if output_dir.exists():\n",
    "    shutil.rmtree(output_dir)\n",
    "\n",
    "# Copy original images\n",
    "copy_and_rename_images(train_dir, output_dir)\n",
    "\n",
    "# Augment images to reach a target count per category\n",
    "augment_images_in_dir(output_dir, target_count=1000)\n",
    "\n",
    "print(\"Dataset augmentation completed and saved in the output directory!\")"
   ]
  }
 ],
 "metadata": {
  "kernelspec": {
   "display_name": ".venv",
   "language": "python",
   "name": "python3"
  },
  "language_info": {
   "codemirror_mode": {
    "name": "ipython",
    "version": 3
   },
   "file_extension": ".py",
   "mimetype": "text/x-python",
   "name": "python",
   "nbconvert_exporter": "python",
   "pygments_lexer": "ipython3",
   "version": "3.12.6"
  }
 },
 "nbformat": 4,
 "nbformat_minor": 2
}
