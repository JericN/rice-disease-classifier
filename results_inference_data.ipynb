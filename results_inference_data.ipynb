{
  "nbformat": 4,
  "nbformat_minor": 0,
  "metadata": {
    "colab": {
      "provenance": [],
      "toc_visible": true,
      "gpuType": "T4",
      "authorship_tag": "ABX9TyNCx4scyMckcUAOy5Zr7F8S",
      "include_colab_link": true
    },
    "kernelspec": {
      "name": "python3",
      "display_name": "Python 3"
    },
    "language_info": {
      "name": "python"
    },
    "accelerator": "GPU"
  },
  "cells": [
    {
      "cell_type": "markdown",
      "metadata": {
        "id": "view-in-github",
        "colab_type": "text"
      },
      "source": [
        "<a href=\"https://colab.research.google.com/github/JericN/rice-disease-classifier/blob/main/results_inference_data.ipynb\" target=\"_parent\"><img src=\"https://colab.research.google.com/assets/colab-badge.svg\" alt=\"Open In Colab\"/></a>"
      ]
    },
    {
      "cell_type": "code",
      "source": [
        "! pip install --quite -U fvcore"
      ],
      "metadata": {
        "id": "UUKGlOKk7JLy"
      },
      "execution_count": null,
      "outputs": []
    },
    {
      "cell_type": "code",
      "source": [
        "from transformers import AutoModelForImageClassification\n",
        "import torch\n",
        "from torch.profiler import profile, record_function, ProfilerActivity"
      ],
      "metadata": {
        "id": "wefHsh19vf60"
      },
      "execution_count": 1,
      "outputs": []
    },
    {
      "cell_type": "code",
      "source": [
        "from fvcore.nn import FlopCountAnalysis\n",
        "from fvcore.nn import ActivationCountAnalysis"
      ],
      "metadata": {
        "id": "MYZ8meYG8kr0"
      },
      "execution_count": 2,
      "outputs": []
    },
    {
      "cell_type": "code",
      "source": [
        "# model_name = \"SodaXII/vit-base-patch16-224_rice-leaf-disease-augmented-v4_v5_fft\"\n",
        "# model_name = \"SodaXII/mobilevit-small_rice-leaf-disease-augmented-v4_v5_fft\"\n",
        "# model_name = \"SodaXII/efficientformer_l1.snap_dist_in1k_rice-leaf-disease-augmented-v4_v5_fft\"\n",
        "model_name = \"SodaXII/deit-base-patch16-224_rice-leaf-disease-augmented-v4_v5_fft\"\n",
        "\n",
        "model = AutoModelForImageClassification.from_pretrained(model_name).to(\"cuda\")\n",
        "model.eval()"
      ],
      "metadata": {
        "colab": {
          "base_uri": "https://localhost:8080/"
        },
        "collapsed": true,
        "id": "mpoMGb2RvOJ2",
        "outputId": "e06453cc-6bfe-4c64-e76e-54fa21bea002"
      },
      "execution_count": 275,
      "outputs": [
        {
          "output_type": "execute_result",
          "data": {
            "text/plain": [
              "ViTForImageClassification(\n",
              "  (vit): ViTModel(\n",
              "    (embeddings): ViTEmbeddings(\n",
              "      (patch_embeddings): ViTPatchEmbeddings(\n",
              "        (projection): Conv2d(3, 768, kernel_size=(16, 16), stride=(16, 16))\n",
              "      )\n",
              "      (dropout): Dropout(p=0.0, inplace=False)\n",
              "    )\n",
              "    (encoder): ViTEncoder(\n",
              "      (layer): ModuleList(\n",
              "        (0-11): 12 x ViTLayer(\n",
              "          (attention): ViTAttention(\n",
              "            (attention): ViTSelfAttention(\n",
              "              (query): Linear(in_features=768, out_features=768, bias=True)\n",
              "              (key): Linear(in_features=768, out_features=768, bias=True)\n",
              "              (value): Linear(in_features=768, out_features=768, bias=True)\n",
              "            )\n",
              "            (output): ViTSelfOutput(\n",
              "              (dense): Linear(in_features=768, out_features=768, bias=True)\n",
              "              (dropout): Dropout(p=0.0, inplace=False)\n",
              "            )\n",
              "          )\n",
              "          (intermediate): ViTIntermediate(\n",
              "            (dense): Linear(in_features=768, out_features=3072, bias=True)\n",
              "            (intermediate_act_fn): GELUActivation()\n",
              "          )\n",
              "          (output): ViTOutput(\n",
              "            (dense): Linear(in_features=3072, out_features=768, bias=True)\n",
              "            (dropout): Dropout(p=0.0, inplace=False)\n",
              "          )\n",
              "          (layernorm_before): LayerNorm((768,), eps=1e-12, elementwise_affine=True)\n",
              "          (layernorm_after): LayerNorm((768,), eps=1e-12, elementwise_affine=True)\n",
              "        )\n",
              "      )\n",
              "    )\n",
              "    (layernorm): LayerNorm((768,), eps=1e-12, elementwise_affine=True)\n",
              "  )\n",
              "  (classifier): Linear(in_features=768, out_features=8, bias=True)\n",
              ")"
            ]
          },
          "metadata": {},
          "execution_count": 275
        }
      ]
    },
    {
      "cell_type": "code",
      "source": [
        "inputs = torch.randn(1, 3, 224, 224)  # Adjust input size as needed\n",
        "\n",
        "# Perform a forward pass to collect activation counts\n",
        "activation_counts = ActivationCountAnalysis(model, inputs)\n",
        "\n",
        "# Perform a forward pass to collect FLOP counts\n",
        "flop_counts = FlopCountAnalysis(model, inputs)\n",
        "\n",
        "# Print the results\n",
        "print(\"FLOP Counts:\", flop_counts.total())"
      ],
      "metadata": {
        "colab": {
          "base_uri": "https://localhost:8080/"
        },
        "id": "cbzbLYyQ7nnq",
        "outputId": "523b2505-bc16-4740-bc6d-f8a19834dfe5"
      },
      "execution_count": 268,
      "outputs": [
        {
          "output_type": "stream",
          "name": "stderr",
          "text": [
            "WARNING:fvcore.nn.jit_analysis:Unsupported operator aten::add encountered 25 time(s)\n",
            "WARNING:fvcore.nn.jit_analysis:Unsupported operator aten::scaled_dot_product_attention encountered 12 time(s)\n",
            "WARNING:fvcore.nn.jit_analysis:Unsupported operator aten::gelu encountered 12 time(s)\n"
          ]
        },
        {
          "output_type": "stream",
          "name": "stdout",
          "text": [
            "FLOP Counts: 16866650880\n"
          ]
        }
      ]
    },
    {
      "cell_type": "code",
      "source": [
        "# Create CUDA events for timing\n",
        "start_event = torch.cuda.Event(enable_timing=True)\n",
        "end_event = torch.cuda.Event(enable_timing=True)\n",
        "\n",
        "# Load the model and move it to GPU\n",
        "# model_name = \"SodaXII/vit-base-patch16-224_rice-leaf-disease-augmented-v4_v5_fft\"\n",
        "# model_name = \"SodaXII/mobilevit-small_rice-leaf-disease-augmented-v4_v5_fft\"\n",
        "# model_name = \"SodaXII/efficientformer_l1.snap_dist_in1k_rice-leaf-disease-augmented-v4_v5_fft\"\n",
        "# model_name = \"SodaXII/deit-base-patch16-224_rice-leaf-disease-augmented-v4_v5_fft\"\n",
        "model_name = \"SodaXII/swin-base-patch4-window7-224_rice-leaf-disease-augmented-v4_v5_fft\"\n",
        "\n",
        "model = AutoModelForImageClassification.from_pretrained(model_name).to(\"cuda\")\n",
        "model.eval()\n",
        "\n",
        "# Create a dummy input tensor and move it to GPU\n",
        "input_tensor = torch.randn(1, 3, 224, 224).to(\"cuda\")\n",
        "\n",
        "# # Warm-up runs (optional but recommended)\n",
        "# for _ in range(100):\n",
        "#     with torch.no_grad():\n",
        "#         _ = model(input_tensor)\n",
        "\n",
        "# Reset peak memory statistics before inference\n",
        "torch.cuda.empty_cache()\n",
        "torch.cuda.reset_peak_memory_stats()\n",
        "\n",
        "\n",
        "\n",
        "# Record the start event\n",
        "start_event.record()\n",
        "\n",
        "# Run inference\n",
        "with torch.no_grad():\n",
        "    _ = model(input_tensor)\n",
        "\n",
        "# Record the end event\n",
        "end_event.record()\n",
        "\n",
        "# Wait for the events to be recorded\n",
        "torch.cuda.synchronize()\n",
        "\n",
        "# Calculate elapsed time in milliseconds\n",
        "inference_time_ms = start_event.elapsed_time(end_event)\n",
        "\n",
        "# Retrieve peak memory usage\n",
        "peak_memory = torch.cuda.max_memory_allocated()\n",
        "\n",
        "# Print the results\n",
        "print(f\"Inference time: {inference_time_ms:.2f} ms\")\n",
        "print(f\"Peak GPU memory usage: {peak_memory / (1024 ** 2):.2f} MB\")"
      ],
      "metadata": {
        "colab": {
          "base_uri": "https://localhost:8080/"
        },
        "id": "P7HdNiVv8id7",
        "outputId": "28cd7e42-6c4f-4797-b959-e002418e5498"
      },
      "execution_count": 262,
      "outputs": [
        {
          "output_type": "stream",
          "name": "stdout",
          "text": [
            "Inference time: 25.11 ms\n",
            "Peak GPU memory usage: 1135.70 MB\n"
          ]
        }
      ]
    },
    {
      "cell_type": "code",
      "source": [
        "inputs = torch.randn(1, 3, 224, 224).to(\"cuda\")  # Adjust input size as needed\n",
        "\n",
        "with profile(\n",
        "    activities=[ ProfilerActivity.CPU, ProfilerActivity.CUDA],\n",
        "    with_flops=True,\n",
        "    profile_memory=True,\n",
        ") as prof:\n",
        "  with record_function(\"model_inference\"):\n",
        "    model(inputs)\n",
        "\n",
        "# print(prof.key_averages().table(sort_by=\"cpu_time_total\", row_limit=500))\n",
        "data = prof.profiler\n",
        "print(data)"
      ],
      "metadata": {
        "colab": {
          "base_uri": "https://localhost:8080/"
        },
        "id": "OCHWom8TvSSp",
        "outputId": "54270a75-145a-49b2-d702-33aff73b4efb"
      },
      "execution_count": 301,
      "outputs": [
        {
          "output_type": "stream",
          "name": "stdout",
          "text": [
            "-------------------------------------------------------  ------------  ------------  ------------  ------------  ------------  ------------  ------------  ------------  ------------  ------------  ------------  ------------  ------------  ------------  --------------------------------------------------------------------------------  ------------  \n",
            "                                                   Name    Self CPU %      Self CPU   CPU total %     CPU total  CPU time avg     Self CUDA   Self CUDA %    CUDA total  CUDA time avg       CPU Mem  Self CPU Mem      CUDA Mem  Self CUDA Mem    # of Calls                                                                      Input Shapes  Total KFLOPs  \n",
            "-------------------------------------------------------  ------------  ------------  ------------  ------------  ------------  ------------  ------------  ------------  ------------  ------------  ------------  ------------  ------------  ------------  --------------------------------------------------------------------------------  ------------  \n",
            "                                        model_inference        27.24%       8.343ms        99.92%      30.608ms      30.608ms       0.000us         0.00%      22.523ms      22.523ms           0 b        -192 b           0 b    -147.92 Mb             1                                                                                []            --  \n",
            "                                           aten::conv2d         0.08%      23.725us         6.87%       2.104ms       2.104ms       0.000us         0.00%     371.288us     371.288us           0 b           0 b     588.00 Kb           0 b             1                       [[1, 3, 224, 224], [768, 3, 16, 16], [768], [], [], [], []]    231211.008  \n",
            "                                      aten::convolution         0.24%      73.309us         6.79%       2.080ms       2.080ms       0.000us         0.00%     371.288us     371.288us           0 b           0 b     588.00 Kb           0 b             1               [[1, 3, 224, 224], [768, 3, 16, 16], [768], [], [], [], [], [], []]            --  \n",
            "                                     aten::_convolution         0.31%      95.790us         6.55%       2.007ms       2.007ms       0.000us         0.00%     371.288us     371.288us           0 b           0 b     588.00 Kb           0 b             1  [[1, 3, 224, 224], [768, 3, 16, 16], [768], [], [], [], [], [], [], [], [], [],             --  \n",
            "                                aten::cudnn_convolution         3.31%       1.015ms         6.01%       1.842ms       1.842ms     363.352us         1.61%     363.352us     363.352us           0 b           0 b     588.00 Kb     588.00 Kb             1                  [[1, 3, 224, 224], [768, 3, 16, 16], [], [], [], [], [], [], []]            --  \n",
            "                                        cudaEventRecord         0.08%      24.925us         0.08%      24.925us      24.925us       0.000us         0.00%       0.000us       0.000us           0 b           0 b           0 b           0 b             1                                                                                []            --  \n",
            "                                  cudaStreamIsCapturing         0.01%       2.082us         0.01%       2.082us       2.082us       0.000us         0.00%       0.000us       0.000us           0 b           0 b           0 b           0 b             1                                                                                []            --  \n",
            "                                  cudaStreamGetPriority         0.01%       1.551us         0.01%       1.551us       1.551us       0.000us         0.00%       0.000us       0.000us           0 b           0 b           0 b           0 b             1                                                                                []            --  \n",
            "                       cudaDeviceGetStreamPriorityRange         0.01%       2.182us         0.01%       2.182us       2.182us       0.000us         0.00%       0.000us       0.000us           0 b           0 b           0 b           0 b             1                                                                                []            --  \n",
            "                                       cudaLaunchKernel         2.53%     773.849us         2.53%     773.849us     773.849us       0.000us         0.00%       0.000us       0.000us           0 b           0 b           0 b           0 b             1                                                                                []            --  \n",
            "                                        model_inference         0.00%       0.000us         0.00%       0.000us       0.000us      27.630ms       122.68%      27.630ms      27.630ms           0 b           0 b           0 b           0 b             1                                                                                []            --  \n",
            "void cask__5x_cudnn::computeOffsetsKernel<false, fal...         0.00%       0.000us         0.00%       0.000us       0.000us       3.520us         0.02%       3.520us       3.520us           0 b           0 b           0 b           0 b             1                                                                                []            --  \n",
            "                                    cudaPeekAtLastError         0.01%       1.650us         0.01%       1.650us       1.650us       0.000us         0.00%       0.000us       0.000us           0 b           0 b           0 b           0 b             1                                                                                []            --  \n",
            "                                        cudaMemsetAsync         0.00%       0.893us         0.00%       0.893us       0.893us       0.000us         0.00%       0.000us       0.000us           0 b           0 b           0 b           0 b             1                                                                                []            --  \n",
            "                                       cudaLaunchKernel         0.07%      20.099us         0.07%      20.099us      20.099us       0.000us         0.00%       0.000us       0.000us           0 b           0 b           0 b           0 b             1                                                                                []            --  \n",
            "_5x_cudnn_volta_scudnn_128x64_relu_xregs_large_nn_v1...         0.00%       0.000us         0.00%       0.000us       0.000us     359.832us         1.60%     359.832us     359.832us           0 b           0 b           0 b           0 b             1                                                                                []            --  \n",
            "                                    cudaPeekAtLastError         0.00%       0.215us         0.00%       0.215us       0.215us       0.000us         0.00%       0.000us       0.000us           0 b           0 b           0 b           0 b             1                                                                                []            --  \n",
            "                                          aten::reshape         0.02%       6.282us         0.04%      12.127us      12.127us       0.000us         0.00%       0.000us       0.000us           0 b           0 b           0 b           0 b             1                                                                       [[768], []]            --  \n",
            "                                             aten::view         0.02%       5.845us         0.02%       5.845us       5.845us       0.000us         0.00%       0.000us       0.000us           0 b           0 b           0 b           0 b             1                                                                       [[768], []]            --  \n",
            "                                             aten::add_         0.13%      39.020us         0.19%      56.870us      56.870us       7.936us         0.04%       7.936us       7.936us           0 b           0 b           0 b           0 b             1                                            [[1, 768, 14, 14], [1, 768, 1, 1], []]            --  \n",
            "                                       cudaLaunchKernel         0.06%      17.850us         0.06%      17.850us      17.850us       0.000us         0.00%       0.000us       0.000us           0 b           0 b           0 b           0 b             1                                                                                []            --  \n",
            "                                          aten::flatten         0.02%       5.497us         0.07%      20.076us      20.076us       0.000us         0.00%       0.000us       0.000us           0 b           0 b           0 b           0 b             1                                                        [[1, 768, 14, 14], [], []]            --  \n",
            "                                             aten::view         0.05%      14.579us         0.05%      14.579us      14.579us       0.000us         0.00%       0.000us       0.000us           0 b           0 b           0 b           0 b             1                                                            [[1, 768, 14, 14], []]            --  \n",
            "                                        aten::transpose         0.05%      16.177us         0.07%      20.154us      20.154us       0.000us         0.00%       0.000us       0.000us           0 b           0 b           0 b           0 b             1                                                           [[1, 768, 196], [], []]            --  \n",
            "                                       aten::as_strided         0.01%       3.977us         0.01%       3.977us       3.977us       0.000us         0.00%       0.000us       0.000us           0 b           0 b           0 b           0 b             1                                                       [[1, 768, 196], [], [], []]            --  \n",
            "                                           aten::expand         0.06%      19.634us         0.07%      21.243us      21.243us       0.000us         0.00%       0.000us       0.000us           0 b           0 b           0 b           0 b             1                                                             [[1, 1, 768], [], []]            --  \n",
            "                                       aten::as_strided         0.01%       1.609us         0.01%       1.609us       1.609us       0.000us         0.00%       0.000us       0.000us           0 b           0 b           0 b           0 b             1                                                         [[1, 1, 768], [], [], []]            --  \n",
            "                                              aten::cat         0.25%      77.094us         0.33%     100.595us     100.595us      19.103us         0.08%      19.103us      19.103us           0 b           0 b     591.00 Kb     591.00 Kb             1                                                                          [[], []]            --  \n",
            "void at::native::elementwise_kernel<128, 2, at::nati...         0.00%       0.000us         0.00%       0.000us       0.000us       7.936us         0.04%       7.936us       7.936us           0 b           0 b           0 b           0 b             1                                                                                []            --  \n",
            "                                       cudaLaunchKernel         0.08%      23.501us         0.08%      23.501us      23.501us       0.000us         0.00%       0.000us       0.000us           0 b           0 b           0 b           0 b             1                                                                                []            --  \n",
            "void at::native::(anonymous namespace)::CatArrayBatc...         0.00%       0.000us         0.00%       0.000us       0.000us      19.103us         0.08%      19.103us      19.103us           0 b           0 b           0 b           0 b             1                                                                                []            --  \n",
            "                                              aten::add         0.34%     103.455us         0.40%     122.598us     122.598us       5.632us         0.03%       5.632us       5.632us           0 b           0 b     591.00 Kb     591.00 Kb             1                                                [[1, 197, 768], [1, 197, 768], []]       151.296  \n",
            "                                       cudaLaunchKernel         0.06%      19.143us         0.06%      19.143us      19.143us       0.000us         0.00%       0.000us       0.000us           0 b           0 b           0 b           0 b             1                                                                                []            --  \n",
            "void at::native::vectorized_elementwise_kernel<4, at...         0.00%       0.000us         0.00%       0.000us       0.000us       5.632us         0.03%       5.632us       5.632us           0 b           0 b           0 b           0 b             1                                                                                []            --  \n",
            "                                          aten::dropout         0.01%       2.330us         0.01%       2.330us       2.330us       0.000us         0.00%       0.000us       0.000us           0 b           0 b           0 b           0 b             1                                                           [[1, 197, 768], [], []]            --  \n",
            "                                       aten::layer_norm         0.02%       6.492us         0.53%     162.140us     162.140us       0.000us         0.00%      14.975us      14.975us           0 b           0 b     593.00 Kb           0 b             1                                         [[1, 197, 768], [], [768], [768], [], []]            --  \n",
            "                                aten::native_layer_norm         0.27%      83.584us         0.51%     155.648us     155.648us      14.975us         0.07%      14.975us      14.975us           0 b           0 b     593.00 Kb           0 b             1                                             [[1, 197, 768], [], [768], [768], []]            --  \n",
            "                                            aten::empty         0.04%      13.395us         0.04%      13.395us      13.395us       0.000us         0.00%       0.000us       0.000us           0 b           0 b     591.00 Kb     591.00 Kb             1                                                          [[], [], [], [], [], []]            --  \n",
            "                                            aten::empty         0.04%      12.180us         0.04%      12.180us      12.180us       0.000us         0.00%       0.000us       0.000us           0 b           0 b       1.00 Kb       1.00 Kb             1                                                          [[], [], [], [], [], []]            --  \n",
            "                                            aten::empty         0.02%       7.546us         0.02%       7.546us       7.546us       0.000us         0.00%       0.000us       0.000us           0 b           0 b       1.00 Kb       1.00 Kb             1                                                          [[], [], [], [], [], []]            --  \n",
            "                                       cudaLaunchKernel         0.12%      35.794us         0.12%      35.794us      35.794us       0.000us         0.00%       0.000us       0.000us           0 b           0 b           0 b           0 b             1                                                                                []            --  \n",
            "void at::native::(anonymous namespace)::vectorized_l...         0.00%       0.000us         0.00%       0.000us       0.000us      14.975us         0.07%      14.975us      14.975us           0 b           0 b           0 b           0 b             1                                                                                []            --  \n",
            "                                             aten::view         0.01%       2.323us         0.01%       2.323us       2.323us       0.000us         0.00%       0.000us       0.000us           0 b           0 b           0 b           0 b             1                                                                       [[197], []]            --  \n",
            "                                             aten::view         0.00%       0.826us         0.00%       0.826us       0.826us       0.000us         0.00%       0.000us       0.000us           0 b           0 b           0 b           0 b             1                                                                       [[197], []]            --  \n",
            "                                           aten::linear         0.10%      31.688us         1.01%     310.247us     310.247us       0.000us         0.00%     148.029us     148.029us           0 b           0 b     591.00 Kb           0 b             1                                                [[1, 197, 768], [768, 768], [768]]            --  \n",
            "                                          aten::reshape         0.01%       2.931us         0.03%       9.397us       9.397us       0.000us         0.00%       0.000us       0.000us           0 b           0 b           0 b           0 b             1                                                               [[1, 197, 768], []]            --  \n",
            "                                             aten::view         0.02%       6.466us         0.02%       6.466us       6.466us       0.000us         0.00%       0.000us       0.000us           0 b           0 b           0 b           0 b             1                                                               [[1, 197, 768], []]            --  \n",
            "                                                aten::t         0.04%      11.195us         0.06%      19.035us      19.035us       0.000us         0.00%       0.000us       0.000us           0 b           0 b           0 b           0 b             1                                                                      [[768, 768]]            --  \n",
            "                                        aten::transpose         0.02%       5.283us         0.03%       7.840us       7.840us       0.000us         0.00%       0.000us       0.000us           0 b           0 b           0 b           0 b             1                                                              [[768, 768], [], []]            --  \n",
            "                                       aten::as_strided         0.01%       2.557us         0.01%       2.557us       2.557us       0.000us         0.00%       0.000us       0.000us           0 b           0 b           0 b           0 b             1                                                          [[768, 768], [], [], []]            --  \n",
            "                                            aten::addmm         0.58%     178.689us         0.80%     243.847us     243.847us     148.029us         0.66%     148.029us     148.029us           0 b           0 b     591.00 Kb    -433.00 Kb             1                                           [[768], [197, 768], [768, 768], [], []]    232390.656  \n",
            "                                            aten::empty         0.04%      11.847us         0.04%      11.847us      11.847us       0.000us         0.00%       0.000us       0.000us           0 b           0 b       1.00 Mb       1.00 Mb             1                                                          [[], [], [], [], [], []]            --  \n",
            "                                        cudaMemsetAsync         0.09%      26.469us         0.09%      26.469us      26.469us       0.000us         0.00%       0.000us       0.000us           0 b           0 b           0 b           0 b             1                                                                                []            --  \n",
            "          cudaOccupancyMaxActiveBlocksPerMultiprocessor         0.03%       7.659us         0.03%       7.659us       7.659us       0.000us         0.00%       0.000us       0.000us           0 b           0 b           0 b           0 b             1                                                                                []            --  \n",
            "                                        Memset (Device)         0.00%       0.000us         0.00%       0.000us       0.000us       0.672us         0.00%       0.672us       0.672us           0 b           0 b           0 b           0 b             1                                                                                []            --  \n",
            "                                       cudaLaunchKernel         0.06%      19.183us         0.06%      19.183us      19.183us       0.000us         0.00%       0.000us       0.000us           0 b           0 b           0 b           0 b             1                                                                                []            --  \n",
            "                                  volta_sgemm_128x64_tn         0.00%       0.000us         0.00%       0.000us       0.000us     147.357us         0.65%     147.357us     147.357us           0 b           0 b           0 b           0 b             1                                                                                []            --  \n",
            "                                             aten::view         0.02%       6.280us         0.02%       6.280us       6.280us       0.000us         0.00%       0.000us       0.000us           0 b           0 b           0 b           0 b             1                                                                  [[197, 768], []]            --  \n",
            "                                             aten::view         0.08%      23.106us         0.08%      23.106us      23.106us       0.000us         0.00%       0.000us       0.000us           0 b           0 b           0 b           0 b             1                                                               [[1, 197, 768], []]            --  \n",
            "                                          aten::permute         0.05%      16.806us         0.06%      19.546us      19.546us       0.000us         0.00%       0.000us       0.000us           0 b           0 b           0 b           0 b             1                                                            [[1, 197, 12, 64], []]            --  \n",
            "                                       aten::as_strided         0.01%       2.740us         0.01%       2.740us       2.740us       0.000us         0.00%       0.000us       0.000us           0 b           0 b           0 b           0 b             1                                                    [[1, 197, 12, 64], [], [], []]            --  \n",
            "                                           aten::linear         0.07%      20.538us         0.56%     172.977us     172.977us       0.000us         0.00%     147.837us     147.837us           0 b           0 b     591.00 Kb           0 b             1                                                [[1, 197, 768], [768, 768], [768]]            --  \n",
            "                                          aten::reshape         0.01%       3.133us         0.02%       7.017us       7.017us       0.000us         0.00%       0.000us       0.000us           0 b           0 b           0 b           0 b             1                                                               [[1, 197, 768], []]            --  \n",
            "                                             aten::view         0.01%       3.884us         0.01%       3.884us       3.884us       0.000us         0.00%       0.000us       0.000us           0 b           0 b           0 b           0 b             1                                                               [[1, 197, 768], []]            --  \n",
            "                                                aten::t         0.03%      10.322us         0.05%      16.518us      16.518us       0.000us         0.00%       0.000us       0.000us           0 b           0 b           0 b           0 b             1                                                                      [[768, 768]]            --  \n",
            "                                        aten::transpose         0.01%       4.354us         0.02%       6.196us       6.196us       0.000us         0.00%       0.000us       0.000us           0 b           0 b           0 b           0 b             1                                                              [[768, 768], [], []]            --  \n",
            "                                       aten::as_strided         0.01%       1.842us         0.01%       1.842us       1.842us       0.000us         0.00%       0.000us       0.000us           0 b           0 b           0 b           0 b             1                                                          [[768, 768], [], [], []]            --  \n",
            "                                            aten::addmm         0.26%      80.816us         0.40%     123.032us     123.032us     147.837us         0.66%     147.837us     147.837us           0 b           0 b     591.00 Kb    -433.00 Kb             1                                           [[768], [197, 768], [768, 768], [], []]    232390.656  \n",
            "                                            aten::empty         0.04%      12.160us         0.04%      12.160us      12.160us       0.000us         0.00%       0.000us       0.000us           0 b           0 b       1.00 Mb       1.00 Mb             1                                                          [[], [], [], [], [], []]            --  \n",
            "                                        cudaMemsetAsync         0.04%      11.825us         0.04%      11.825us      11.825us       0.000us         0.00%       0.000us       0.000us           0 b           0 b           0 b           0 b             1                                                                                []            --  \n",
            "          cudaOccupancyMaxActiveBlocksPerMultiprocessor         0.01%       2.597us         0.01%       2.597us       2.597us       0.000us         0.00%       0.000us       0.000us           0 b           0 b           0 b           0 b             1                                                                                []            --  \n",
            "                                        Memset (Device)         0.00%       0.000us         0.00%       0.000us       0.000us       0.672us         0.00%       0.672us       0.672us           0 b           0 b           0 b           0 b             1                                                                                []            --  \n",
            "                                       cudaLaunchKernel         0.05%      15.634us         0.05%      15.634us      15.634us       0.000us         0.00%       0.000us       0.000us           0 b           0 b           0 b           0 b             1                                                                                []            --  \n",
            "                                  volta_sgemm_128x64_tn         0.00%       0.000us         0.00%       0.000us       0.000us     147.165us         0.65%     147.165us     147.165us           0 b           0 b           0 b           0 b             1                                                                                []            --  \n",
            "                                             aten::view         0.02%       5.872us         0.02%       5.872us       5.872us       0.000us         0.00%       0.000us       0.000us           0 b           0 b           0 b           0 b             1                                                                  [[197, 768], []]            --  \n",
            "                                             aten::view         0.01%       4.102us         0.01%       4.102us       4.102us       0.000us         0.00%       0.000us       0.000us           0 b           0 b           0 b           0 b             1                                                               [[1, 197, 768], []]            --  \n",
            "                                          aten::permute         0.03%       7.907us         0.03%       9.759us       9.759us       0.000us         0.00%       0.000us       0.000us           0 b           0 b           0 b           0 b             1                                                            [[1, 197, 12, 64], []]            --  \n",
            "                                       aten::as_strided         0.01%       1.852us         0.01%       1.852us       1.852us       0.000us         0.00%       0.000us       0.000us           0 b           0 b           0 b           0 b             1                                                    [[1, 197, 12, 64], [], [], []]            --  \n",
            "                                           aten::linear         0.06%      18.167us         0.43%     132.118us     132.118us       0.000us         0.00%     148.029us     148.029us           0 b           0 b     591.00 Kb           0 b             1                                                [[1, 197, 768], [768, 768], [768]]            --  \n",
            "                                          aten::reshape         0.01%       3.151us         0.02%       6.764us       6.764us       0.000us         0.00%       0.000us       0.000us           0 b           0 b           0 b           0 b             1                                                               [[1, 197, 768], []]            --  \n",
            "                                             aten::view         0.01%       3.613us         0.01%       3.613us       3.613us       0.000us         0.00%       0.000us       0.000us           0 b           0 b           0 b           0 b             1                                                               [[1, 197, 768], []]            --  \n",
            "                                                aten::t         0.02%       6.887us         0.04%      12.487us      12.487us       0.000us         0.00%       0.000us       0.000us           0 b           0 b           0 b           0 b             1                                                                      [[768, 768]]            --  \n",
            "                                        aten::transpose         0.01%       4.232us         0.02%       5.600us       5.600us       0.000us         0.00%       0.000us       0.000us           0 b           0 b           0 b           0 b             1                                                              [[768, 768], [], []]            --  \n",
            "                                       aten::as_strided         0.00%       1.368us         0.00%       1.368us       1.368us       0.000us         0.00%       0.000us       0.000us           0 b           0 b           0 b           0 b             1                                                          [[768, 768], [], [], []]            --  \n",
            "                                            aten::addmm         0.18%      55.359us         0.29%      90.237us      90.237us     148.029us         0.66%     148.029us     148.029us           0 b           0 b     591.00 Kb    -433.00 Kb             1                                           [[768], [197, 768], [768, 768], [], []]    232390.656  \n",
            "                                            aten::empty         0.03%      10.328us         0.03%      10.328us      10.328us       0.000us         0.00%       0.000us       0.000us           0 b           0 b       1.00 Mb       1.00 Mb             1                                                          [[], [], [], [], [], []]            --  \n",
            "                                        cudaMemsetAsync         0.03%       9.969us         0.03%       9.969us       9.969us       0.000us         0.00%       0.000us       0.000us           0 b           0 b           0 b           0 b             1                                                                                []            --  \n",
            "          cudaOccupancyMaxActiveBlocksPerMultiprocessor         0.01%       1.831us         0.01%       1.831us       1.831us       0.000us         0.00%       0.000us       0.000us           0 b           0 b           0 b           0 b             1                                                                                []            --  \n",
            "                                        Memset (Device)         0.00%       0.000us         0.00%       0.000us       0.000us       0.704us         0.00%       0.704us       0.704us           0 b           0 b           0 b           0 b             1                                                                                []            --  \n",
            "                                       cudaLaunchKernel         0.04%      12.750us         0.04%      12.750us      12.750us       0.000us         0.00%       0.000us       0.000us           0 b           0 b           0 b           0 b             1                                                                                []            --  \n",
            "                                  volta_sgemm_128x64_tn         0.00%       0.000us         0.00%       0.000us       0.000us     147.325us         0.65%     147.325us     147.325us           0 b           0 b           0 b           0 b             1                                                                                []            --  \n",
            "                                             aten::view         0.01%       4.463us         0.01%       4.463us       4.463us       0.000us         0.00%       0.000us       0.000us           0 b           0 b           0 b           0 b             1                                                                  [[197, 768], []]            --  \n",
            "                                             aten::view         0.01%       3.464us         0.01%       3.464us       3.464us       0.000us         0.00%       0.000us       0.000us           0 b           0 b           0 b           0 b             1                                                               [[1, 197, 768], []]            --  \n",
            "                                          aten::permute         0.02%       7.347us         0.03%       8.904us       8.904us       0.000us         0.00%       0.000us       0.000us           0 b           0 b           0 b           0 b             1                                                            [[1, 197, 12, 64], []]            --  \n",
            "                                       aten::as_strided         0.01%       1.557us         0.01%       1.557us       1.557us       0.000us         0.00%       0.000us       0.000us           0 b           0 b           0 b           0 b             1                                                    [[1, 197, 12, 64], [], [], []]            --  \n",
            "                                       aten::contiguous         0.02%       6.358us         0.31%      94.030us      94.030us       0.000us         0.00%       7.999us       7.999us           0 b           0 b     591.00 Kb           0 b             1                                                            [[1, 12, 197, 64], []]            --  \n",
            "                                            aten::clone         0.06%      18.693us         0.29%      87.672us      87.672us       0.000us         0.00%       7.999us       7.999us           0 b           0 b     591.00 Kb           0 b             1                                                            [[1, 12, 197, 64], []]            --  \n",
            "                                       aten::empty_like         0.02%       5.436us         0.06%      19.116us      19.116us       0.000us         0.00%       0.000us       0.000us           0 b           0 b     591.00 Kb           0 b             1                                            [[1, 12, 197, 64], [], [], [], [], []]            --  \n",
            "                                            aten::empty         0.04%      13.680us         0.04%      13.680us      13.680us       0.000us         0.00%       0.000us       0.000us           0 b           0 b     591.00 Kb     591.00 Kb             1                                                          [[], [], [], [], [], []]            --  \n",
            "                                            aten::copy_         0.10%      29.403us         0.16%      49.863us      49.863us       7.999us         0.04%       7.999us       7.999us           0 b           0 b           0 b           0 b             1                                          [[1, 12, 197, 64], [1, 12, 197, 64], []]            --  \n",
            "-------------------------------------------------------  ------------  ------------  ------------  ------------  ------------  ------------  ------------  ------------  ------------  ------------  ------------  ------------  ------------  ------------  --------------------------------------------------------------------------------  ------------  \n",
            "Self CPU time total: 30.631ms\n",
            "Self CUDA time total: 22.523ms\n",
            "\n"
          ]
        }
      ]
    }
  ]
}