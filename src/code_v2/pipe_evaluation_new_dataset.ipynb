{
  "cells": [
    {
      "cell_type": "code",
      "execution_count": 31,
      "id": "INXRQeZK7zO2",
      "metadata": {
        "colab": {
          "base_uri": "https://localhost:8080/"
        },
        "id": "INXRQeZK7zO2",
        "outputId": "49b90973-092a-4101-99bb-e09b4deabb0a"
      },
      "outputs": [
        {
          "name": "stdout",
          "output_type": "stream",
          "text": [
            "Requirement already satisfied: numpy in /usr/local/lib/python3.11/dist-packages (1.26.4)\n",
            "Requirement already satisfied: pandas in /usr/local/lib/python3.11/dist-packages (2.2.2)\n",
            "Requirement already satisfied: seaborn in /usr/local/lib/python3.11/dist-packages (0.13.2)\n",
            "Requirement already satisfied: matplotlib in /usr/local/lib/python3.11/dist-packages (3.10.0)\n",
            "Requirement already satisfied: tqdm in /usr/local/lib/python3.11/dist-packages (4.67.1)\n",
            "Requirement already satisfied: python-dateutil>=2.8.2 in /usr/local/lib/python3.11/dist-packages (from pandas) (2.8.2)\n",
            "Requirement already satisfied: pytz>=2020.1 in /usr/local/lib/python3.11/dist-packages (from pandas) (2025.1)\n",
            "Requirement already satisfied: tzdata>=2022.7 in /usr/local/lib/python3.11/dist-packages (from pandas) (2025.1)\n",
            "Requirement already satisfied: contourpy>=1.0.1 in /usr/local/lib/python3.11/dist-packages (from matplotlib) (1.3.1)\n",
            "Requirement already satisfied: cycler>=0.10 in /usr/local/lib/python3.11/dist-packages (from matplotlib) (0.12.1)\n",
            "Requirement already satisfied: fonttools>=4.22.0 in /usr/local/lib/python3.11/dist-packages (from matplotlib) (4.56.0)\n",
            "Requirement already satisfied: kiwisolver>=1.3.1 in /usr/local/lib/python3.11/dist-packages (from matplotlib) (1.4.8)\n",
            "Requirement already satisfied: packaging>=20.0 in /usr/local/lib/python3.11/dist-packages (from matplotlib) (24.2)\n",
            "Requirement already satisfied: pillow>=8 in /usr/local/lib/python3.11/dist-packages (from matplotlib) (11.1.0)\n",
            "Requirement already satisfied: pyparsing>=2.3.1 in /usr/local/lib/python3.11/dist-packages (from matplotlib) (3.2.1)\n",
            "Requirement already satisfied: six>=1.5 in /usr/local/lib/python3.11/dist-packages (from python-dateutil>=2.8.2->pandas) (1.17.0)\n",
            "Requirement already satisfied: datasets in /usr/local/lib/python3.11/dist-packages (3.3.2)\n",
            "Requirement already satisfied: scikit-learn in /usr/local/lib/python3.11/dist-packages (1.6.1)\n",
            "Requirement already satisfied: transformers[torch] in /usr/local/lib/python3.11/dist-packages (4.48.3)\n",
            "Requirement already satisfied: filelock in /usr/local/lib/python3.11/dist-packages (from datasets) (3.17.0)\n",
            "Requirement already satisfied: numpy>=1.17 in /usr/local/lib/python3.11/dist-packages (from datasets) (1.26.4)\n",
            "Requirement already satisfied: pyarrow>=15.0.0 in /usr/local/lib/python3.11/dist-packages (from datasets) (17.0.0)\n",
            "Requirement already satisfied: dill<0.3.9,>=0.3.0 in /usr/local/lib/python3.11/dist-packages (from datasets) (0.3.8)\n",
            "Requirement already satisfied: pandas in /usr/local/lib/python3.11/dist-packages (from datasets) (2.2.2)\n",
            "Requirement already satisfied: requests>=2.32.2 in /usr/local/lib/python3.11/dist-packages (from datasets) (2.32.3)\n",
            "Requirement already satisfied: tqdm>=4.66.3 in /usr/local/lib/python3.11/dist-packages (from datasets) (4.67.1)\n",
            "Requirement already satisfied: xxhash in /usr/local/lib/python3.11/dist-packages (from datasets) (3.5.0)\n",
            "Requirement already satisfied: multiprocess<0.70.17 in /usr/local/lib/python3.11/dist-packages (from datasets) (0.70.16)\n",
            "Requirement already satisfied: fsspec<=2024.12.0,>=2023.1.0 in /usr/local/lib/python3.11/dist-packages (from fsspec[http]<=2024.12.0,>=2023.1.0->datasets) (2024.10.0)\n",
            "Requirement already satisfied: aiohttp in /usr/local/lib/python3.11/dist-packages (from datasets) (3.11.12)\n",
            "Requirement already satisfied: huggingface-hub>=0.24.0 in /usr/local/lib/python3.11/dist-packages (from datasets) (0.28.1)\n",
            "Requirement already satisfied: packaging in /usr/local/lib/python3.11/dist-packages (from datasets) (24.2)\n",
            "Requirement already satisfied: pyyaml>=5.1 in /usr/local/lib/python3.11/dist-packages (from datasets) (6.0.2)\n",
            "Requirement already satisfied: regex!=2019.12.17 in /usr/local/lib/python3.11/dist-packages (from transformers[torch]) (2024.11.6)\n",
            "Requirement already satisfied: tokenizers<0.22,>=0.21 in /usr/local/lib/python3.11/dist-packages (from transformers[torch]) (0.21.0)\n",
            "Requirement already satisfied: safetensors>=0.4.1 in /usr/local/lib/python3.11/dist-packages (from transformers[torch]) (0.5.2)\n",
            "Requirement already satisfied: torch>=2.0 in /usr/local/lib/python3.11/dist-packages (from transformers[torch]) (2.5.1+cu124)\n",
            "Requirement already satisfied: accelerate>=0.26.0 in /usr/local/lib/python3.11/dist-packages (from transformers[torch]) (1.3.0)\n",
            "Requirement already satisfied: scipy>=1.6.0 in /usr/local/lib/python3.11/dist-packages (from scikit-learn) (1.13.1)\n",
            "Requirement already satisfied: joblib>=1.2.0 in /usr/local/lib/python3.11/dist-packages (from scikit-learn) (1.4.2)\n",
            "Requirement already satisfied: threadpoolctl>=3.1.0 in /usr/local/lib/python3.11/dist-packages (from scikit-learn) (3.5.0)\n",
            "Requirement already satisfied: psutil in /usr/local/lib/python3.11/dist-packages (from accelerate>=0.26.0->transformers[torch]) (5.9.5)\n",
            "Requirement already satisfied: aiohappyeyeballs>=2.3.0 in /usr/local/lib/python3.11/dist-packages (from aiohttp->datasets) (2.4.6)\n",
            "Requirement already satisfied: aiosignal>=1.1.2 in /usr/local/lib/python3.11/dist-packages (from aiohttp->datasets) (1.3.2)\n",
            "Requirement already satisfied: attrs>=17.3.0 in /usr/local/lib/python3.11/dist-packages (from aiohttp->datasets) (25.1.0)\n",
            "Requirement already satisfied: frozenlist>=1.1.1 in /usr/local/lib/python3.11/dist-packages (from aiohttp->datasets) (1.5.0)\n",
            "Requirement already satisfied: multidict<7.0,>=4.5 in /usr/local/lib/python3.11/dist-packages (from aiohttp->datasets) (6.1.0)\n",
            "Requirement already satisfied: propcache>=0.2.0 in /usr/local/lib/python3.11/dist-packages (from aiohttp->datasets) (0.2.1)\n",
            "Requirement already satisfied: yarl<2.0,>=1.17.0 in /usr/local/lib/python3.11/dist-packages (from aiohttp->datasets) (1.18.3)\n",
            "Requirement already satisfied: typing-extensions>=3.7.4.3 in /usr/local/lib/python3.11/dist-packages (from huggingface-hub>=0.24.0->datasets) (4.12.2)\n",
            "Requirement already satisfied: charset-normalizer<4,>=2 in /usr/local/lib/python3.11/dist-packages (from requests>=2.32.2->datasets) (3.4.1)\n",
            "Requirement already satisfied: idna<4,>=2.5 in /usr/local/lib/python3.11/dist-packages (from requests>=2.32.2->datasets) (3.10)\n",
            "Requirement already satisfied: urllib3<3,>=1.21.1 in /usr/local/lib/python3.11/dist-packages (from requests>=2.32.2->datasets) (2.3.0)\n",
            "Requirement already satisfied: certifi>=2017.4.17 in /usr/local/lib/python3.11/dist-packages (from requests>=2.32.2->datasets) (2025.1.31)\n",
            "Requirement already satisfied: networkx in /usr/local/lib/python3.11/dist-packages (from torch>=2.0->transformers[torch]) (3.4.2)\n",
            "Requirement already satisfied: jinja2 in /usr/local/lib/python3.11/dist-packages (from torch>=2.0->transformers[torch]) (3.1.5)\n",
            "Requirement already satisfied: nvidia-cuda-nvrtc-cu12==12.4.127 in /usr/local/lib/python3.11/dist-packages (from torch>=2.0->transformers[torch]) (12.4.127)\n",
            "Requirement already satisfied: nvidia-cuda-runtime-cu12==12.4.127 in /usr/local/lib/python3.11/dist-packages (from torch>=2.0->transformers[torch]) (12.4.127)\n",
            "Requirement already satisfied: nvidia-cuda-cupti-cu12==12.4.127 in /usr/local/lib/python3.11/dist-packages (from torch>=2.0->transformers[torch]) (12.4.127)\n",
            "Requirement already satisfied: nvidia-cudnn-cu12==9.1.0.70 in /usr/local/lib/python3.11/dist-packages (from torch>=2.0->transformers[torch]) (9.1.0.70)\n",
            "Requirement already satisfied: nvidia-cublas-cu12==12.4.5.8 in /usr/local/lib/python3.11/dist-packages (from torch>=2.0->transformers[torch]) (12.4.5.8)\n",
            "Requirement already satisfied: nvidia-cufft-cu12==11.2.1.3 in /usr/local/lib/python3.11/dist-packages (from torch>=2.0->transformers[torch]) (11.2.1.3)\n",
            "Requirement already satisfied: nvidia-curand-cu12==10.3.5.147 in /usr/local/lib/python3.11/dist-packages (from torch>=2.0->transformers[torch]) (10.3.5.147)\n",
            "Requirement already satisfied: nvidia-cusolver-cu12==11.6.1.9 in /usr/local/lib/python3.11/dist-packages (from torch>=2.0->transformers[torch]) (11.6.1.9)\n",
            "Requirement already satisfied: nvidia-cusparse-cu12==12.3.1.170 in /usr/local/lib/python3.11/dist-packages (from torch>=2.0->transformers[torch]) (12.3.1.170)\n",
            "Requirement already satisfied: nvidia-nccl-cu12==2.21.5 in /usr/local/lib/python3.11/dist-packages (from torch>=2.0->transformers[torch]) (2.21.5)\n",
            "Requirement already satisfied: nvidia-nvtx-cu12==12.4.127 in /usr/local/lib/python3.11/dist-packages (from torch>=2.0->transformers[torch]) (12.4.127)\n",
            "Requirement already satisfied: nvidia-nvjitlink-cu12==12.4.127 in /usr/local/lib/python3.11/dist-packages (from torch>=2.0->transformers[torch]) (12.4.127)\n",
            "Requirement already satisfied: triton==3.1.0 in /usr/local/lib/python3.11/dist-packages (from torch>=2.0->transformers[torch]) (3.1.0)\n",
            "Requirement already satisfied: sympy==1.13.1 in /usr/local/lib/python3.11/dist-packages (from torch>=2.0->transformers[torch]) (1.13.1)\n",
            "Requirement already satisfied: mpmath<1.4,>=1.1.0 in /usr/local/lib/python3.11/dist-packages (from sympy==1.13.1->torch>=2.0->transformers[torch]) (1.3.0)\n",
            "Requirement already satisfied: python-dateutil>=2.8.2 in /usr/local/lib/python3.11/dist-packages (from pandas->datasets) (2.8.2)\n",
            "Requirement already satisfied: pytz>=2020.1 in /usr/local/lib/python3.11/dist-packages (from pandas->datasets) (2025.1)\n",
            "Requirement already satisfied: tzdata>=2022.7 in /usr/local/lib/python3.11/dist-packages (from pandas->datasets) (2025.1)\n",
            "Requirement already satisfied: six>=1.5 in /usr/local/lib/python3.11/dist-packages (from python-dateutil>=2.8.2->pandas->datasets) (1.17.0)\n",
            "Requirement already satisfied: MarkupSafe>=2.0 in /usr/local/lib/python3.11/dist-packages (from jinja2->torch>=2.0->transformers[torch]) (3.0.2)\n"
          ]
        }
      ],
      "source": [
        "! pip install numpy pandas seaborn matplotlib tqdm\n",
        "! pip install datasets \"transformers[torch]\" scikit-learn"
      ]
    },
    {
      "cell_type": "markdown",
      "id": "62d60676",
      "metadata": {
        "id": "62d60676"
      },
      "source": [
        "# Rice Leaf Disease Detection - Model Evaluation\n",
        "This notebook evaluates multiple transformer-based models for rice leaf disease classification."
      ]
    },
    {
      "cell_type": "code",
      "execution_count": 32,
      "id": "1a495f82",
      "metadata": {
        "id": "1a495f82"
      },
      "outputs": [],
      "source": [
        "\n",
        "import os\n",
        "import json\n",
        "import torch\n",
        "import time\n",
        "import numpy as np\n",
        "import pandas as pd\n",
        "import seaborn as sns\n",
        "import matplotlib.pyplot as plt\n",
        "from tqdm import tqdm\n",
        "from datasets import load_dataset\n",
        "from transformers import AutoModelForImageClassification, AutoProcessor\n",
        "from transformers import ViTHybridForImageClassification, ViTHybridImageProcessor\n",
        "from sklearn.metrics import classification_report, confusion_matrix\n",
        "from google.colab import drive\n"
      ]
    },
    {
      "cell_type": "markdown",
      "id": "97a210a1",
      "metadata": {
        "id": "97a210a1"
      },
      "source": [
        "## Function: Model Evaluation\n",
        "This function loads a pre-trained model and evaluates it on the test dataset."
      ]
    },
    {
      "cell_type": "code",
      "execution_count": 33,
      "id": "9wSdUsKnRkTs",
      "metadata": {
        "id": "9wSdUsKnRkTs"
      },
      "outputs": [],
      "source": [
        "# Define label mapping (test dataset → trained dataset)\n",
        "LABEL_MAPPING = {\n",
        "    \"bacterial_leaf_blight\": \"Bacterial Leaf Blight\",\n",
        "    \"brown_spot\": \"Brown Spot\",\n",
        "    \"healthy\": \"Healthy Rice Leaf\",\n",
        "    \"leaf_blast\": \"Leaf Blast\",\n",
        "    \"leaf_scald\": \"Leaf Scald\",\n",
        "    \"narrow_brown_spot\": \"Narrow Brown Leaf Spot\",\n",
        "    \"rice_hispa\": \"Rice Hispa\",\n",
        "    \"sheath_blight\": \"Sheath Blight\",\n",
        "}\n",
        "\n",
        "def preprocess_image(image):\n",
        "    \"\"\"Ensure image is in RGB format and properly shaped.\"\"\"\n",
        "    image = image.convert(\"RGB\")  # Convert grayscale to RGB\n",
        "    return image"
      ]
    },
    {
      "cell_type": "code",
      "execution_count": 34,
      "id": "6c54d258",
      "metadata": {
        "id": "6c54d258"
      },
      "outputs": [],
      "source": [
        "def evaluate_model(model_name, dataset, labels, base_labels, batch_size=16, device=\"cuda\" if torch.cuda.is_available() else \"cpu\"):\n",
        "    \"\"\"Loads a model and evaluates it on the dataset in batches.\"\"\"\n",
        "    print(f\"Evaluating {model_name}...\")\n",
        "\n",
        "    if \"hybrid\" in model_name:\n",
        "        model = ViTHybridForImageClassification.from_pretrained(model_name).to(device)\n",
        "        processor = ViTHybridImageProcessor.from_pretrained(model_name)\n",
        "    else:\n",
        "        model = AutoModelForImageClassification.from_pretrained(model_name).to(device)\n",
        "        processor = AutoProcessor.from_pretrained(model_name)\n",
        "\n",
        "    y_true, y_pred = [], []\n",
        "\n",
        "    start_time = time.time()\n",
        "\n",
        "    for example in tqdm(dataset, desc=f\"Testing {model_name}\"):\n",
        "        image = example[\"image\"]\n",
        "\n",
        "        label_name = labels[example[\"label\"]]\n",
        "        trained_label = LABEL_MAPPING.get(label_name)\n",
        "        if trained_label is None:\n",
        "            continue\n",
        "\n",
        "        label = base_labels.index(trained_label)\n",
        "\n",
        "        image = preprocess_image(image)\n",
        "        inputs = processor(images=image, return_tensors=\"pt\").to(device)\n",
        "\n",
        "        with torch.no_grad():\n",
        "            outputs = model(**inputs)\n",
        "            pred_label = torch.argmax(outputs.logits, dim=-1).cpu().item()\n",
        "\n",
        "        y_true.append(label)\n",
        "        y_pred.append(pred_label)\n",
        "\n",
        "    elapsed_time = time.time() - start_time\n",
        "    print(f\"Model {model_name} evaluation completed in {elapsed_time:.2f} seconds.\")\n",
        "    return y_true, y_pred, elapsed_time\n"
      ]
    },
    {
      "cell_type": "markdown",
      "id": "ae7ddf7e",
      "metadata": {
        "id": "ae7ddf7e"
      },
      "source": [
        "## Function: Generate Report\n",
        "This function generates and saves a classification report and confusion matrix."
      ]
    },
    {
      "cell_type": "code",
      "execution_count": 35,
      "id": "bb13064c",
      "metadata": {
        "id": "bb13064c"
      },
      "outputs": [],
      "source": [
        "\n",
        "def generate_report(y_true, y_pred, labels, model_name, output_dir, elapsed_time):\n",
        "    \"\"\"Generates and saves classification report and confusion matrix.\"\"\"\n",
        "    model_safe_name = model_name.split(\"/\")[-1]\n",
        "    model_safe_name = model_safe_name.split(\"_\")[0] + \"-fft\"\n",
        "\n",
        "    output_dir = os.path.join(output_dir, model_safe_name)\n",
        "    os.makedirs(output_dir, exist_ok=True)\n",
        "\n",
        "    report = classification_report(y_true, y_pred, target_names=labels, output_dict=True)\n",
        "    cm = confusion_matrix(y_true, y_pred)\n",
        "    cm_normalized = cm.astype(\"float\") / cm.sum(axis=1, keepdims=True)\n",
        "\n",
        "    report[\"evaluation_time_sec\"] = elapsed_time\n",
        "\n",
        "    # Save JSON report\n",
        "    report_path = os.path.join(output_dir, f\"report.json\")\n",
        "    with open(report_path, \"w\") as f:\n",
        "        json.dump(report, f, indent=4)\n",
        "\n",
        "    # Save Excel report\n",
        "    report_df = pd.DataFrame(report).transpose()\n",
        "    excel_path = os.path.join(output_dir, f\"report.xlsx\")\n",
        "\n",
        "    with pd.ExcelWriter(excel_path) as writer:\n",
        "        report_df.to_excel(writer, sheet_name=\"Classification Report\")\n",
        "        pd.DataFrame(cm, index=labels, columns=labels).to_excel(writer, sheet_name=\"Confusion Matrix\")\n",
        "        pd.DataFrame(cm_normalized, index=labels, columns=labels).to_excel(writer, sheet_name=\"Normalized Confusion Matrix\")\n",
        "\n",
        "    # Save confusion matrix plot\n",
        "    def save_cm_plot(matrix, title, filename, fmt=\"d\"):\n",
        "        plt.figure(figsize=(10, 8))\n",
        "        sns.heatmap(matrix, annot=True, fmt=fmt, cmap=\"Blues\", xticklabels=labels, yticklabels=labels)\n",
        "        plt.xlabel(\"Predicted Label\")\n",
        "        plt.ylabel(\"True Label\")\n",
        "        plt.title(title, pad=20)\n",
        "        plt.xticks(rotation=30)\n",
        "        plt.yticks(rotation=30)\n",
        "        plt.savefig(os.path.join(output_dir, filename), bbox_inches=\"tight\", pad_inches=0.3)\n",
        "        plt.close()\n",
        "\n",
        "    save_cm_plot(cm, f\"{model_safe_name} Confusion Matrix\", f\"confusion_matrix.png\")\n",
        "    save_cm_plot(cm_normalized, f\"{model_safe_name} Confusion Matrix\", f\"normalized_confusion_matrix.png\", fmt=\".2f\")\n"
      ]
    },
    {
      "cell_type": "code",
      "execution_count": 36,
      "id": "_n9x43ydBdBS",
      "metadata": {
        "id": "_n9x43ydBdBS"
      },
      "outputs": [],
      "source": [
        "def save_dataset_info(dataset, output_dir):\n",
        "    info_path = os.path.join(output_dir, \"dataset_info.json\")\n",
        "    # Get class distribution\n",
        "    labels = dataset.features[\"label\"].names\n",
        "    label_counts = {label: 0 for label in labels}\n",
        "\n",
        "    for example in dataset:\n",
        "        label_counts[labels[example[\"label\"]]] += 1\n",
        "\n",
        "    dataset_info = {\n",
        "        \"num_samples\": len(dataset),\n",
        "        \"num_classes\": len(labels),\n",
        "        \"class_distribution\": label_counts,\n",
        "    }\n",
        "\n",
        "    # Save dataset info as JSON\n",
        "    with open(info_path, \"w\") as f:\n",
        "        json.dump(dataset_info, f, indent=4)\n",
        "\n",
        "    # Save class distribution plot\n",
        "    plt.figure(figsize=(10, 6))\n",
        "    sns.barplot(x=list(label_counts.keys()), y=list(label_counts.values()), palette=\"viridis\")\n",
        "    plt.xticks(rotation=30)\n",
        "    plt.xlabel(\"Classes\")\n",
        "    plt.ylabel(\"Count\")\n",
        "    plt.title(\"Class Distribution in Test Dataset\")\n",
        "    plt.savefig(os.path.join(output_dir, \"class_distribution.png\"), bbox_inches=\"tight\", pad_inches=0.3)\n",
        "    plt.close()\n",
        "\n",
        "    print(\"✅ Dataset info saved.\")"
      ]
    },
    {
      "cell_type": "markdown",
      "id": "3f33636f",
      "metadata": {
        "id": "3f33636f"
      },
      "source": [
        "## Main Function\n",
        "This function loads the dataset, evaluates models, and saves reports to Google Drive."
      ]
    },
    {
      "cell_type": "code",
      "execution_count": 37,
      "id": "9774fae5",
      "metadata": {
        "colab": {
          "base_uri": "https://localhost:8080/"
        },
        "id": "9774fae5",
        "outputId": "c632c658-e534-4011-b902-4a59a8ff2bac"
      },
      "outputs": [
        {
          "name": "stdout",
          "output_type": "stream",
          "text": [
            "Drive already mounted at /content/drive; to attempt to forcibly remount, call drive.mount(\"/content/drive\", force_remount=True).\n"
          ]
        },
        {
          "name": "stderr",
          "output_type": "stream",
          "text": [
            "<ipython-input-36-11111ac7c523>:22: FutureWarning: \n",
            "\n",
            "Passing `palette` without assigning `hue` is deprecated and will be removed in v0.14.0. Assign the `x` variable to `hue` and set `legend=False` for the same effect.\n",
            "\n",
            "  sns.barplot(x=list(label_counts.keys()), y=list(label_counts.values()), palette=\"viridis\")\n"
          ]
        },
        {
          "name": "stdout",
          "output_type": "stream",
          "text": [
            "✅ Dataset info saved.\n",
            "Evaluating cvmil/resnet-50_rice-leaf-disease-augmented_fft...\n"
          ]
        },
        {
          "name": "stderr",
          "output_type": "stream",
          "text": [
            "Testing cvmil/resnet-50_rice-leaf-disease-augmented_fft: 100%|██████████| 2963/2963 [03:00<00:00, 16.44it/s] \n"
          ]
        },
        {
          "name": "stdout",
          "output_type": "stream",
          "text": [
            "Model cvmil/resnet-50_rice-leaf-disease-augmented_fft evaluation completed in 180.26 seconds.\n",
            "Evaluating cvmil/vit-base-patch16-224_rice-leaf-disease-augmented_fft...\n"
          ]
        },
        {
          "name": "stderr",
          "output_type": "stream",
          "text": [
            "Testing cvmil/vit-base-patch16-224_rice-leaf-disease-augmented_fft: 100%|██████████| 2963/2963 [03:00<00:00, 16.45it/s] \n"
          ]
        },
        {
          "name": "stdout",
          "output_type": "stream",
          "text": [
            "Model cvmil/vit-base-patch16-224_rice-leaf-disease-augmented_fft evaluation completed in 180.10 seconds.\n",
            "Evaluating cvmil/swin-base-patch4-window7-224_rice-leaf-disease-augmented_fft...\n"
          ]
        },
        {
          "name": "stderr",
          "output_type": "stream",
          "text": [
            "Testing cvmil/swin-base-patch4-window7-224_rice-leaf-disease-augmented_fft: 100%|██████████| 2963/2963 [03:52<00:00, 12.73it/s] \n"
          ]
        },
        {
          "name": "stdout",
          "output_type": "stream",
          "text": [
            "Model cvmil/swin-base-patch4-window7-224_rice-leaf-disease-augmented_fft evaluation completed in 232.78 seconds.\n",
            "Evaluating cvmil/deit-base-patch16-224_rice-leaf-disease-augmented_fft...\n"
          ]
        },
        {
          "name": "stderr",
          "output_type": "stream",
          "text": [
            "Testing cvmil/deit-base-patch16-224_rice-leaf-disease-augmented_fft: 100%|██████████| 2963/2963 [03:15<00:00, 15.16it/s]\n"
          ]
        },
        {
          "name": "stdout",
          "output_type": "stream",
          "text": [
            "Model cvmil/deit-base-patch16-224_rice-leaf-disease-augmented_fft evaluation completed in 195.40 seconds.\n",
            "Evaluating cvmil/beit-base-patch16-224_rice-leaf-disease-augmented_fft...\n"
          ]
        },
        {
          "name": "stderr",
          "output_type": "stream",
          "text": [
            "Testing cvmil/beit-base-patch16-224_rice-leaf-disease-augmented_fft: 100%|██████████| 2963/2963 [03:08<00:00, 15.75it/s]\n"
          ]
        },
        {
          "name": "stdout",
          "output_type": "stream",
          "text": [
            "Model cvmil/beit-base-patch16-224_rice-leaf-disease-augmented_fft evaluation completed in 188.13 seconds.\n",
            "Evaluating cvmil/dinov2-base_rice-leaf-disease-augmented_fft...\n"
          ]
        },
        {
          "name": "stderr",
          "output_type": "stream",
          "text": [
            "Testing cvmil/dinov2-base_rice-leaf-disease-augmented_fft: 100%|██████████| 2963/2963 [03:44<00:00, 13.18it/s]\n"
          ]
        },
        {
          "name": "stdout",
          "output_type": "stream",
          "text": [
            "Model cvmil/dinov2-base_rice-leaf-disease-augmented_fft evaluation completed in 224.81 seconds.\n",
            "✅ Evaluation completed. Reports saved to Google Drive.\n"
          ]
        }
      ],
      "source": [
        "\n",
        "def main():\n",
        "    \"\"\"Mounts Google Drive, loads dataset, evaluates models, and saves reports.\"\"\"\n",
        "    drive.mount(\"/content/drive\")\n",
        "\n",
        "    models_path = [\n",
        "        \"cvmil/resnet-50_rice-leaf-disease-augmented_fft\",\n",
        "        \"cvmil/vit-base-patch16-224_rice-leaf-disease-augmented_fft\",\n",
        "        \"cvmil/swin-base-patch4-window7-224_rice-leaf-disease-augmented_fft\",\n",
        "        \"cvmil/deit-base-patch16-224_rice-leaf-disease-augmented_fft\",\n",
        "        \"cvmil/beit-base-patch16-224_rice-leaf-disease-augmented_fft\",\n",
        "        \"cvmil/dinov2-base_rice-leaf-disease-augmented_fft\",\n",
        "    ]\n",
        "\n",
        "    base_dataset = load_dataset(\"cvmil/rice-leaf-disease-augmented\", split=\"test\")\n",
        "    dataset = load_dataset(\"cvmil/rice-disease-02\", split=\"test\")\n",
        "    base_labels = base_dataset.features[\"label\"].names\n",
        "    labels = dataset.features[\"label\"].names\n",
        "\n",
        "    output_dir = \"/content/drive/Shareddrives/CS198-Drones/model_eval_02/\"\n",
        "    os.makedirs(output_dir, exist_ok=True)\n",
        "\n",
        "    save_dataset_info(dataset, output_dir)\n",
        "\n",
        "    for model_name in models_path:\n",
        "        try:\n",
        "            y_true, y_pred, elapsed_time = evaluate_model(model_name, dataset, labels, base_labels)\n",
        "            generate_report(y_true, y_pred, base_labels, model_name, output_dir, elapsed_time)\n",
        "        except Exception as e:\n",
        "            print(f\"⚠️ Error processing {model_name}: {e}\")\n",
        "\n",
        "    print(\"✅ Evaluation completed. Reports saved to Google Drive.\")\n",
        "\n",
        "if __name__ == \"__main__\":\n",
        "    main()\n"
      ]
    }
  ],
  "metadata": {
    "accelerator": "GPU",
    "colab": {
      "gpuType": "T4",
      "provenance": []
    },
    "kernelspec": {
      "display_name": "Python 3",
      "name": "python3"
    },
    "language_info": {
      "name": "python"
    }
  },
  "nbformat": 4,
  "nbformat_minor": 5
}
