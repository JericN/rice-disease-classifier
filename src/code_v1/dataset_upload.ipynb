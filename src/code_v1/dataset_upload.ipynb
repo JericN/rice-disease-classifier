{
 "cells": [
  {
   "cell_type": "code",
   "execution_count": null,
   "metadata": {},
   "outputs": [],
   "source": [
    "! pip install --quiet datasets\n",
    "! pip install --quiet tabulate"
   ]
  },
  {
   "cell_type": "code",
   "execution_count": null,
   "metadata": {},
   "outputs": [],
   "source": [
    "import pandas as pd\n",
    "from tabulate import tabulate\n",
    "from collections import Counter\n",
    "from datasets import load_dataset, DatasetDict\n",
    "\n",
    "# from huggingface_hub import notebook_login\n",
    "# notebook_login()\n",
    "\n",
    "# Set Pandas display options for better DataFrame output\n",
    "pd.set_option('display.max_columns', None)  # Display all columns\n",
    "pd.set_option('display.width', 1000)        # Set the width to a larger value\n",
    "pd.set_option('display.max_colwidth', 100)  # Set max column width to display wider content\n"
   ]
  },
  {
   "cell_type": "code",
   "execution_count": null,
   "metadata": {},
   "outputs": [],
   "source": [
    "train_split_ratio = 0.8\n",
    "dataset_path = './dataset/rice-leaf-disease-augmented'\n",
    "hub_path = 'cvmil/rice-leaf-disease-augmented'"
   ]
  },
  {
   "cell_type": "code",
   "execution_count": null,
   "metadata": {},
   "outputs": [],
   "source": [
    "# Load the dataset\n",
    "dataset = load_dataset('imagefolder', data_dir=dataset_path)\n",
    "dataset = dataset['train']\n",
    "print(f\"Dataset: {dataset}\")"
   ]
  },
  {
   "cell_type": "code",
   "execution_count": null,
   "metadata": {},
   "outputs": [],
   "source": [
    "# First, split the dataset into train and the remaining (test + validation)\n",
    "train_test_split = dataset.train_test_split(train_size=train_split_ratio, stratify_by_column='label')\n",
    "\n",
    "# Further split the remaining data into test and validation sets\n",
    "test_valid_split = train_test_split['test'].train_test_split(test_size=0.5, stratify_by_column='label')\n",
    "\n",
    "# Combine all the splits into a new DatasetDict\n",
    "split_dataset = DatasetDict({\n",
    "    'train': train_test_split['train'],\n",
    "    'validation': test_valid_split['train'],\n",
    "    'test': test_valid_split['test']\n",
    "})\n",
    "\n",
    "# Print the structure of the new dataset\n",
    "print(split_dataset)\n"
   ]
  },
  {
   "cell_type": "code",
   "execution_count": null,
   "metadata": {},
   "outputs": [],
   "source": [
    "# Assuming label mapping and label names are available\n",
    "label_mapping = split_dataset['train'].features['label'].int2str\n",
    "labels = split_dataset['train'].features['label'].names\n",
    "\n",
    "# Count the number of samples per class in each split\n",
    "train_counts = Counter(split_dataset['train']['label'])\n",
    "validation_counts = Counter(split_dataset['validation']['label'])\n",
    "test_counts = Counter(split_dataset['test']['label'])\n",
    "\n",
    "# Create a DataFrame for the counts, ordered by label name\n",
    "data = {\n",
    "    'ID': list(range(len(labels))),\n",
    "    'Label': labels,\n",
    "    'Training': [train_counts[i] if i in train_counts else 0 for i in range(len(labels))],\n",
    "    'Validation': [validation_counts[i] if i in validation_counts else 0 for i in range(len(labels))],\n",
    "    'Test': [test_counts[i] if i in test_counts else 0 for i in range(len(labels))]\n",
    "}\n",
    "df = pd.DataFrame(data)\n",
    "\n",
    "# Print the DataFrame with borders using tabulate\n",
    "print(tabulate(df, headers='keys', tablefmt='grid', showindex=False))"
   ]
  },
  {
   "cell_type": "code",
   "execution_count": null,
   "metadata": {},
   "outputs": [],
   "source": [
    "# upload dataset to huggingface\n",
    "split_dataset.push_to_hub(hub_path, private=True)"
   ]
  }
 ],
 "metadata": {
  "kernelspec": {
   "display_name": ".venv",
   "language": "python",
   "name": "python3"
  },
  "language_info": {
   "codemirror_mode": {
    "name": "ipython",
    "version": 3
   },
   "file_extension": ".py",
   "mimetype": "text/x-python",
   "name": "python",
   "nbconvert_exporter": "python",
   "pygments_lexer": "ipython3",
   "version": "3.12.6"
  }
 },
 "nbformat": 4,
 "nbformat_minor": 2
}
