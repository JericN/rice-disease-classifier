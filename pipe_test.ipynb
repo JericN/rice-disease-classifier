{
 "cells": [
  {
   "cell_type": "code",
   "execution_count": null,
   "metadata": {
    "colab": {
     "base_uri": "https://localhost:8080/"
    },
    "id": "jO63oYRzL5Sv",
    "outputId": "c8d72843-15dd-457a-8c99-f80c46754c00"
   },
   "outputs": [],
   "source": [
    "# ! pip install --quiet transformers\n",
    "# ! pip install --quiet \"transformers[torch]\"\n",
    "# ! pip install --quiet torch\n",
    "# ! pip install --quiet datasets\n",
    "# ! pip install --quiet evaluate\n",
    "# ! pip install --quiet scikit-learn\n",
    "# ! pip install --quiet tensorboard\n",
    "# ! pip install --quiet matplotlib\n",
    "# ! pip install --quiet ipywidgets\n",
    "# ! pip install --quiet seaborn"
   ]
  },
  {
   "cell_type": "code",
   "execution_count": null,
   "metadata": {},
   "outputs": [],
   "source": [
    "import torch\n",
    "import numpy as np\n",
    "\n",
    "import evaluate\n",
    "from datasets import load_dataset\n",
    "from transformers import AutoImageProcessor, AutoImageProcessor, AutoModelForImageClassification\n",
    "from transformers import pipeline\n",
    "\n",
    "from huggingface_hub import notebook_login"
   ]
  },
  {
   "cell_type": "code",
   "execution_count": null,
   "metadata": {},
   "outputs": [],
   "source": [
    "notebook_login()"
   ]
  },
  {
   "cell_type": "markdown",
   "metadata": {},
   "source": [
    "# **Dataset**"
   ]
  },
  {
   "cell_type": "code",
   "execution_count": null,
   "metadata": {},
   "outputs": [],
   "source": [
    "dataset = load_dataset(\"cvmil/rice-disease-02\")"
   ]
  },
  {
   "cell_type": "code",
   "execution_count": null,
   "metadata": {},
   "outputs": [],
   "source": [
    "labels = dataset['train'].features['label'].names\n",
    "\n",
    "print(dataset)\n",
    "print(\"\\n\\nlabels:\", len(labels), labels)"
   ]
  },
  {
   "cell_type": "markdown",
   "metadata": {},
   "source": [
    "# **Model**"
   ]
  },
  {
   "cell_type": "code",
   "execution_count": null,
   "metadata": {},
   "outputs": [],
   "source": [
    "from transformers import pipeline\n",
    "from datasets import load_dataset\n",
    "from sklearn.metrics import confusion_matrix, classification_report\n",
    "import matplotlib.pyplot as plt\n",
    "import seaborn as sns\n",
    "\n",
    "# Load the pipeline for image classification\n",
    "classifier = pipeline(\"image-classification\", model=\"cvmil/vit-base-patch16-22_241028\", device=0)\n",
    "\n",
    "# Load the dataset\n",
    "dataset = load_dataset(\"cvmil/rice-disease-02\", split=\"test\")\n",
    "\n",
    "all_preds = []\n",
    "all_labels = []\n",
    "\n",
    "# Evaluate the model on the dataset\n",
    "for example in dataset:\n",
    "    # Run inference\n",
    "    image = example['image']\n",
    "    result = classifier(image)\n",
    "\n",
    "    # Get the predicted label (the one with the highest score)\n",
    "    predicted_label = result[0]['label']\n",
    "    all_preds.append(labels.index(predicted_label))\n",
    "    all_labels.append(example['label'])\n",
    "\n"
   ]
  },
  {
   "cell_type": "code",
   "execution_count": null,
   "metadata": {},
   "outputs": [],
   "source": [
    "\n",
    "# Compute performance metrics\n",
    "cm = confusion_matrix(all_labels, all_preds)\n",
    "report = classification_report(all_labels, all_preds, target_names=labels)\n",
    "\n",
    "print(\"Classification Report:\")\n",
    "print(report)\n",
    "\n",
    "# Display confusion matrix\n",
    "plt.figure(figsize=(10, 7))\n",
    "sns.heatmap(cm, annot=True, fmt='d', cmap='Blues', \n",
    "            xticklabels=labels, \n",
    "            yticklabels=labels)\n",
    "plt.ylabel('True label')\n",
    "plt.xlabel('Predicted label')\n",
    "plt.title('Confusion Matrix')\n",
    "plt.show()"
   ]
  }
 ],
 "metadata": {
  "colab": {
   "provenance": []
  },
  "kernelspec": {
   "display_name": ".venv",
   "language": "python",
   "name": "python3"
  },
  "language_info": {
   "codemirror_mode": {
    "name": "ipython",
    "version": 3
   },
   "file_extension": ".py",
   "mimetype": "text/x-python",
   "name": "python",
   "nbconvert_exporter": "python",
   "pygments_lexer": "ipython3",
   "version": "3.12.6"
  }
 },
 "nbformat": 4,
 "nbformat_minor": 0
}
