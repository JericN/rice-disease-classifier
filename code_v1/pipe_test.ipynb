{
 "cells": [
  {
   "cell_type": "markdown",
   "metadata": {},
   "source": [
    "# **Setup and Library Imports**"
   ]
  },
  {
   "cell_type": "markdown",
   "metadata": {},
   "source": [
    "### **Installing Required Packages**"
   ]
  },
  {
   "cell_type": "code",
   "execution_count": 34,
   "metadata": {
    "colab": {
     "base_uri": "https://localhost:8080/"
    },
    "id": "jO63oYRzL5Sv",
    "outputId": "c8d72843-15dd-457a-8c99-f80c46754c00"
   },
   "outputs": [],
   "source": [
    "! pip install --quiet transformers\n",
    "! pip install --quiet torch\n",
    "! pip install --quiet datasets\n",
    "! pip install --quiet scikit-learn\n",
    "! pip install --quiet matplotlib\n",
    "! pip install --quiet ipywidgets\n",
    "! pip install --quiet seaborn"
   ]
  },
  {
   "cell_type": "markdown",
   "metadata": {},
   "source": [
    "### **Importing Libraries**"
   ]
  },
  {
   "cell_type": "code",
   "execution_count": 35,
   "metadata": {},
   "outputs": [],
   "source": [
    "import os\n",
    "\n",
    "# Hugging Face libraries for training and transformer models\n",
    "from transformers import pipeline\n",
    "\n",
    "# Evaluation metrics and utilities\n",
    "from sklearn.metrics import confusion_matrix, classification_report\n",
    "\n",
    "# Loading datasets for training and evaluation\n",
    "from datasets import load_dataset\n",
    "\n",
    "# Data manipulation and display utilities\n",
    "import pandas as pd\n",
    "import numpy as np\n",
    "from tabulate import tabulate\n",
    "from collections import Counter\n",
    "\n",
    "# Visualization libraries\n",
    "import matplotlib.pyplot as plt\n",
    "import seaborn as sns\n",
    "from tqdm import tqdm\n"
   ]
  },
  {
   "cell_type": "markdown",
   "metadata": {},
   "source": [
    "### **Logging into Hugging Face Hub**"
   ]
  },
  {
   "cell_type": "code",
   "execution_count": 36,
   "metadata": {},
   "outputs": [],
   "source": [
    "from huggingface_hub import notebook_login\n",
    "\n",
    "# Execute the login function to access the Hugging Face account\n",
    "# notebook_login()"
   ]
  },
  {
   "cell_type": "markdown",
   "metadata": {},
   "source": [
    "### **Defining Model and Dataset Paths**"
   ]
  },
  {
   "cell_type": "code",
   "execution_count": null,
   "metadata": {},
   "outputs": [],
   "source": [
    "models_path = [\n",
    "    \"SodaXII/dinov2-base_rice-disease-02_111824\",\n",
    "    \"SodaXII/vit-base-patch16-224_rice-disease-02_111724\",\n",
    "]\n",
    "\n",
    "dataset_path = \"cvmil/rice-disease-02\"\n",
    "\n",
    "# Define the output directory for the test results\n",
    "output_dir = \"./testing_output/\""
   ]
  },
  {
   "cell_type": "markdown",
   "metadata": {},
   "source": [
    "### **Load Dataset and Extract Labels**"
   ]
  },
  {
   "cell_type": "markdown",
   "metadata": {},
   "source": [
    "Load the dataset from huggingface and extract the class labels from the training data."
   ]
  },
  {
   "cell_type": "code",
   "execution_count": 39,
   "metadata": {},
   "outputs": [],
   "source": [
    "dataset = load_dataset(dataset_path, split=\"test\")\n",
    "dataset = dataset.train_test_split(test_size=0.5, seed=42)[\"test\"]\n",
    "labels = dataset.features[\"label\"].names"
   ]
  },
  {
   "cell_type": "markdown",
   "metadata": {},
   "source": [
    "Generate and display a table showing class distribution of the test set."
   ]
  },
  {
   "cell_type": "code",
   "execution_count": null,
   "metadata": {},
   "outputs": [],
   "source": [
    "data = {\n",
    "    \"Label\": labels,\n",
    "    \"Test\": Counter(dataset[\"label\"]).values(),\n",
    "}\n",
    "\n",
    "print(tabulate(data, headers=\"keys\", tablefmt=\"psql\"))"
   ]
  },
  {
   "cell_type": "markdown",
   "metadata": {},
   "source": [
    "# **Test Pipieline**"
   ]
  },
  {
   "cell_type": "markdown",
   "metadata": {},
   "source": [
    "Function to display and save confusion matrix"
   ]
  },
  {
   "cell_type": "code",
   "execution_count": null,
   "metadata": {},
   "outputs": [],
   "source": [
    "def plot_and_save_confusion_matrix(y_true, y_pred, labels, model_name):\n",
    "    cm = confusion_matrix(y_true, y_pred)\n",
    "    cm_normalized = cm.astype('float') / cm.sum(axis=1)[:, np.newaxis]\n",
    "\n",
    "    # Create a heatmap\n",
    "    plt.figure(figsize=(10, 8))\n",
    "    sns.heatmap(cm_normalized, annot=True, fmt='.2f', cmap='Blues', xticklabels=labels, yticklabels=labels)\n",
    "    plt.title(f'Confusion Matrix - {model_name}')\n",
    "    plt.xlabel('Predicted')\n",
    "    plt.ylabel('True')\n",
    "    plt.tight_layout()\n",
    "    \n",
    "    # Save the confusion matrix\n",
    "    os.makedirs(f\"{output_dir}/{model_name}\", exist_ok=True)\n",
    "    plt.savefig(f\"{output_dir}/{model_name}/confusion_matrix.png\")\n",
    "    plt.show()\n",
    "    plt.close()"
   ]
  },
  {
   "cell_type": "markdown",
   "metadata": {},
   "source": [
    "Function to save classification report"
   ]
  },
  {
   "cell_type": "code",
   "execution_count": 42,
   "metadata": {},
   "outputs": [],
   "source": [
    "def save_classification_report(y_true, y_pred, labels, model_name):\n",
    "    report = classification_report(y_true, y_pred, target_names=labels)\n",
    "    print(report)\n",
    "    \n",
    "    # Save the report to a text file\n",
    "    os.makedirs(f\"{output_dir}/{model_name}\", exist_ok=True)\n",
    "    with open(f\"{output_dir}/{model_name}/classification_report.txt\", \"w\") as f:\n",
    "        f.write(report)"
   ]
  },
  {
   "cell_type": "markdown",
   "metadata": {},
   "source": [
    "### **Model Evaluation**"
   ]
  },
  {
   "cell_type": "markdown",
   "metadata": {},
   "source": [
    "This section evaluates the model on the dataset by running inference on each image and comparing the predicted label with the actual label.\n",
    "\n",
    "This section computes and displays the confusion matrix and classification report, providing insights into the model's performance on the dataset."
   ]
  },
  {
   "cell_type": "code",
   "execution_count": null,
   "metadata": {},
   "outputs": [],
   "source": [
    "for model_path in models_path:\n",
    "    model_name = model_path.split(\"/\")[-1]\n",
    "    classifier = pipeline(\"image-classification\", model=model_path, device='cpu')\n",
    "    \n",
    "    predictions = [\n",
    "        classifier(img[\"image\"])[0] for img in tqdm(dataset, desc=f\"Processing {model_name}\")\n",
    "    ]\n",
    "    y_true = dataset[\"label\"]\n",
    "    y_pred = [labels.index(pred[\"label\"]) for pred in predictions]\n",
    "    \n",
    "    plot_and_save_confusion_matrix(y_true, y_pred, labels, model_name)\n",
    "    save_classification_report(y_true, y_pred, labels, model_name)\n",
    "\n",
    "print(\"Evaluation completed!\")"
   ]
  }
 ],
 "metadata": {
  "colab": {
   "provenance": []
  },
  "kernelspec": {
   "display_name": ".venv",
   "language": "python",
   "name": "python3"
  },
  "language_info": {
   "codemirror_mode": {
    "name": "ipython",
    "version": 3
   },
   "file_extension": ".py",
   "mimetype": "text/x-python",
   "name": "python",
   "nbconvert_exporter": "python",
   "pygments_lexer": "ipython3",
   "version": "3.12.6"
  }
 },
 "nbformat": 4,
 "nbformat_minor": 0
}
